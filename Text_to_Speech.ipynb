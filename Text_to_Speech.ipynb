{
  "nbformat": 4,
  "nbformat_minor": 0,
  "metadata": {
    "colab": {
      "name": "Text to Speech",
      "provenance": [],
      "authorship_tag": "ABX9TyNFUDmR3m133qvvrRs6qCPj",
      "include_colab_link": true
    },
    "kernelspec": {
      "name": "python3",
      "display_name": "Python 3"
    },
    "language_info": {
      "name": "python"
    }
  },
  "cells": [
    {
      "cell_type": "markdown",
      "metadata": {
        "id": "view-in-github",
        "colab_type": "text"
      },
      "source": [
        "<a href=\"https://colab.research.google.com/github/ManasviAtGitHub/Natural-Language-Processing/blob/main/Text_to_Speech.ipynb\" target=\"_parent\"><img src=\"https://colab.research.google.com/assets/colab-badge.svg\" alt=\"Open In Colab\"/></a>"
      ]
    },
    {
      "cell_type": "code",
      "source": [
        "!pip install gtts"
      ],
      "metadata": {
        "colab": {
          "base_uri": "https://localhost:8080/"
        },
        "id": "bGSkvatkZ1U7",
        "outputId": "ee932d1a-ae4e-42e7-c02f-616fff76fbbf"
      },
      "execution_count": 3,
      "outputs": [
        {
          "output_type": "stream",
          "name": "stdout",
          "text": [
            "Collecting gtts\n",
            "  Downloading gTTS-2.2.4-py3-none-any.whl (26 kB)\n",
            "Requirement already satisfied: requests in /usr/local/lib/python3.7/dist-packages (from gtts) (2.23.0)\n",
            "Requirement already satisfied: click in /usr/local/lib/python3.7/dist-packages (from gtts) (7.1.2)\n",
            "Requirement already satisfied: six in /usr/local/lib/python3.7/dist-packages (from gtts) (1.15.0)\n",
            "Requirement already satisfied: urllib3!=1.25.0,!=1.25.1,<1.26,>=1.21.1 in /usr/local/lib/python3.7/dist-packages (from requests->gtts) (1.24.3)\n",
            "Requirement already satisfied: idna<3,>=2.5 in /usr/local/lib/python3.7/dist-packages (from requests->gtts) (2.10)\n",
            "Requirement already satisfied: certifi>=2017.4.17 in /usr/local/lib/python3.7/dist-packages (from requests->gtts) (2021.10.8)\n",
            "Requirement already satisfied: chardet<4,>=3.0.2 in /usr/local/lib/python3.7/dist-packages (from requests->gtts) (3.0.4)\n",
            "Installing collected packages: gtts\n",
            "Successfully installed gtts-2.2.4\n"
          ]
        }
      ]
    },
    {
      "cell_type": "code",
      "execution_count": 4,
      "metadata": {
        "id": "1rCNd_ZhZmp0"
      },
      "outputs": [],
      "source": [
        "from gtts import gTTS\n",
        "from IPython.display import Audio"
      ]
    },
    {
      "cell_type": "code",
      "source": [
        "def TextToSpeech(text):\n",
        "  tts = gTTS(text)\n",
        "  tts.save(\"1.wav\")\n",
        "  speech = \"1.wav\"\n",
        "  return speech"
      ],
      "metadata": {
        "id": "mx0XfSdBZ5Dn"
      },
      "execution_count": 5,
      "outputs": []
    },
    {
      "cell_type": "code",
      "source": [
        "speech = TextToSpeech(\"Hi Pratiksha, How are you ?\")"
      ],
      "metadata": {
        "id": "UNwskaMqahZC"
      },
      "execution_count": 6,
      "outputs": []
    },
    {
      "cell_type": "code",
      "source": [
        "Audio(speech,autoplay=True)"
      ],
      "metadata": {
        "colab": {
          "base_uri": "https://localhost:8080/",
          "height": 75
        },
        "id": "DDHAAtsjau0g",
        "outputId": "73e7bed7-57f9-4889-b465-7be9cd02d602"
      },
      "execution_count": 7,
      "outputs": [
        {
          "output_type": "execute_result",
          "data": {
            "text/plain": [
              "<IPython.lib.display.Audio object>"
            ],
            "text/html": [
              "\n",
              "                <audio controls=\"controls\" autoplay=\"autoplay\">\n",
              "                    <source src=\"data:audio/x-wav;base64,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\" type=\"audio/x-wav\" />\n",
              "                    Your browser does not support the audio element.\n",
              "                </audio>\n",
              "              "
            ]
          },
          "metadata": {},
          "execution_count": 7
        }
      ]
    }
  ]
}