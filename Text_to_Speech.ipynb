{
  "nbformat": 4,
  "nbformat_minor": 0,
  "metadata": {
    "colab": {
      "name": "Text to Speech",
      "provenance": [],
      "authorship_tag": "ABX9TyPVEwKqeYbAn02WcLxR+mwK",
      "include_colab_link": true
    },
    "kernelspec": {
      "name": "python3",
      "display_name": "Python 3"
    },
    "language_info": {
      "name": "python"
    },
    "widgets": {
      "application/vnd.jupyter.widget-state+json": {
        "34711e34e95142bda88831a674d219b0": {
          "model_module": "@jupyter-widgets/controls",
          "model_name": "HBoxModel",
          "model_module_version": "1.5.0",
          "state": {
            "_dom_classes": [],
            "_model_module": "@jupyter-widgets/controls",
            "_model_module_version": "1.5.0",
            "_model_name": "HBoxModel",
            "_view_count": null,
            "_view_module": "@jupyter-widgets/controls",
            "_view_module_version": "1.5.0",
            "_view_name": "HBoxView",
            "box_style": "",
            "children": [
              "IPY_MODEL_7f6dab127bcb4ffb86516372e612b6a4",
              "IPY_MODEL_78c725b658c6433db5b901380f454151",
              "IPY_MODEL_00c9d7aa877a43089b412257c61b7343"
            ],
            "layout": "IPY_MODEL_7c240f2030fa4102b946bad44896f3eb"
          }
        },
        "7f6dab127bcb4ffb86516372e612b6a4": {
          "model_module": "@jupyter-widgets/controls",
          "model_name": "HTMLModel",
          "model_module_version": "1.5.0",
          "state": {
            "_dom_classes": [],
            "_model_module": "@jupyter-widgets/controls",
            "_model_module_version": "1.5.0",
            "_model_name": "HTMLModel",
            "_view_count": null,
            "_view_module": "@jupyter-widgets/controls",
            "_view_module_version": "1.5.0",
            "_view_name": "HTMLView",
            "description": "",
            "description_tooltip": null,
            "layout": "IPY_MODEL_7c220144a6d74742b97f55d88bace208",
            "placeholder": "​",
            "style": "IPY_MODEL_586cc245930146f991bfc751f5d0579f",
            "value": "Downloading: 100%"
          }
        },
        "78c725b658c6433db5b901380f454151": {
          "model_module": "@jupyter-widgets/controls",
          "model_name": "FloatProgressModel",
          "model_module_version": "1.5.0",
          "state": {
            "_dom_classes": [],
            "_model_module": "@jupyter-widgets/controls",
            "_model_module_version": "1.5.0",
            "_model_name": "FloatProgressModel",
            "_view_count": null,
            "_view_module": "@jupyter-widgets/controls",
            "_view_module_version": "1.5.0",
            "_view_name": "ProgressView",
            "bar_style": "success",
            "description": "",
            "description_tooltip": null,
            "layout": "IPY_MODEL_fa1ec6fc461c4c6d9292730141048bd9",
            "max": 473,
            "min": 0,
            "orientation": "horizontal",
            "style": "IPY_MODEL_bc49c16a47694e5a94a91a7bc23599c8",
            "value": 473
          }
        },
        "00c9d7aa877a43089b412257c61b7343": {
          "model_module": "@jupyter-widgets/controls",
          "model_name": "HTMLModel",
          "model_module_version": "1.5.0",
          "state": {
            "_dom_classes": [],
            "_model_module": "@jupyter-widgets/controls",
            "_model_module_version": "1.5.0",
            "_model_name": "HTMLModel",
            "_view_count": null,
            "_view_module": "@jupyter-widgets/controls",
            "_view_module_version": "1.5.0",
            "_view_name": "HTMLView",
            "description": "",
            "description_tooltip": null,
            "layout": "IPY_MODEL_cae2cc818feb4deabbb58e0845d74b09",
            "placeholder": "​",
            "style": "IPY_MODEL_be419b9bde3a450e9a046a91ca9c83ad",
            "value": " 473/473 [00:00&lt;00:00, 13.3kB/s]"
          }
        },
        "7c240f2030fa4102b946bad44896f3eb": {
          "model_module": "@jupyter-widgets/base",
          "model_name": "LayoutModel",
          "model_module_version": "1.2.0",
          "state": {
            "_model_module": "@jupyter-widgets/base",
            "_model_module_version": "1.2.0",
            "_model_name": "LayoutModel",
            "_view_count": null,
            "_view_module": "@jupyter-widgets/base",
            "_view_module_version": "1.2.0",
            "_view_name": "LayoutView",
            "align_content": null,
            "align_items": null,
            "align_self": null,
            "border": null,
            "bottom": null,
            "display": null,
            "flex": null,
            "flex_flow": null,
            "grid_area": null,
            "grid_auto_columns": null,
            "grid_auto_flow": null,
            "grid_auto_rows": null,
            "grid_column": null,
            "grid_gap": null,
            "grid_row": null,
            "grid_template_areas": null,
            "grid_template_columns": null,
            "grid_template_rows": null,
            "height": null,
            "justify_content": null,
            "justify_items": null,
            "left": null,
            "margin": null,
            "max_height": null,
            "max_width": null,
            "min_height": null,
            "min_width": null,
            "object_fit": null,
            "object_position": null,
            "order": null,
            "overflow": null,
            "overflow_x": null,
            "overflow_y": null,
            "padding": null,
            "right": null,
            "top": null,
            "visibility": null,
            "width": null
          }
        },
        "7c220144a6d74742b97f55d88bace208": {
          "model_module": "@jupyter-widgets/base",
          "model_name": "LayoutModel",
          "model_module_version": "1.2.0",
          "state": {
            "_model_module": "@jupyter-widgets/base",
            "_model_module_version": "1.2.0",
            "_model_name": "LayoutModel",
            "_view_count": null,
            "_view_module": "@jupyter-widgets/base",
            "_view_module_version": "1.2.0",
            "_view_name": "LayoutView",
            "align_content": null,
            "align_items": null,
            "align_self": null,
            "border": null,
            "bottom": null,
            "display": null,
            "flex": null,
            "flex_flow": null,
            "grid_area": null,
            "grid_auto_columns": null,
            "grid_auto_flow": null,
            "grid_auto_rows": null,
            "grid_column": null,
            "grid_gap": null,
            "grid_row": null,
            "grid_template_areas": null,
            "grid_template_columns": null,
            "grid_template_rows": null,
            "height": null,
            "justify_content": null,
            "justify_items": null,
            "left": null,
            "margin": null,
            "max_height": null,
            "max_width": null,
            "min_height": null,
            "min_width": null,
            "object_fit": null,
            "object_position": null,
            "order": null,
            "overflow": null,
            "overflow_x": null,
            "overflow_y": null,
            "padding": null,
            "right": null,
            "top": null,
            "visibility": null,
            "width": null
          }
        },
        "586cc245930146f991bfc751f5d0579f": {
          "model_module": "@jupyter-widgets/controls",
          "model_name": "DescriptionStyleModel",
          "model_module_version": "1.5.0",
          "state": {
            "_model_module": "@jupyter-widgets/controls",
            "_model_module_version": "1.5.0",
            "_model_name": "DescriptionStyleModel",
            "_view_count": null,
            "_view_module": "@jupyter-widgets/base",
            "_view_module_version": "1.2.0",
            "_view_name": "StyleView",
            "description_width": ""
          }
        },
        "fa1ec6fc461c4c6d9292730141048bd9": {
          "model_module": "@jupyter-widgets/base",
          "model_name": "LayoutModel",
          "model_module_version": "1.2.0",
          "state": {
            "_model_module": "@jupyter-widgets/base",
            "_model_module_version": "1.2.0",
            "_model_name": "LayoutModel",
            "_view_count": null,
            "_view_module": "@jupyter-widgets/base",
            "_view_module_version": "1.2.0",
            "_view_name": "LayoutView",
            "align_content": null,
            "align_items": null,
            "align_self": null,
            "border": null,
            "bottom": null,
            "display": null,
            "flex": null,
            "flex_flow": null,
            "grid_area": null,
            "grid_auto_columns": null,
            "grid_auto_flow": null,
            "grid_auto_rows": null,
            "grid_column": null,
            "grid_gap": null,
            "grid_row": null,
            "grid_template_areas": null,
            "grid_template_columns": null,
            "grid_template_rows": null,
            "height": null,
            "justify_content": null,
            "justify_items": null,
            "left": null,
            "margin": null,
            "max_height": null,
            "max_width": null,
            "min_height": null,
            "min_width": null,
            "object_fit": null,
            "object_position": null,
            "order": null,
            "overflow": null,
            "overflow_x": null,
            "overflow_y": null,
            "padding": null,
            "right": null,
            "top": null,
            "visibility": null,
            "width": null
          }
        },
        "bc49c16a47694e5a94a91a7bc23599c8": {
          "model_module": "@jupyter-widgets/controls",
          "model_name": "ProgressStyleModel",
          "model_module_version": "1.5.0",
          "state": {
            "_model_module": "@jupyter-widgets/controls",
            "_model_module_version": "1.5.0",
            "_model_name": "ProgressStyleModel",
            "_view_count": null,
            "_view_module": "@jupyter-widgets/base",
            "_view_module_version": "1.2.0",
            "_view_name": "StyleView",
            "bar_color": null,
            "description_width": ""
          }
        },
        "cae2cc818feb4deabbb58e0845d74b09": {
          "model_module": "@jupyter-widgets/base",
          "model_name": "LayoutModel",
          "model_module_version": "1.2.0",
          "state": {
            "_model_module": "@jupyter-widgets/base",
            "_model_module_version": "1.2.0",
            "_model_name": "LayoutModel",
            "_view_count": null,
            "_view_module": "@jupyter-widgets/base",
            "_view_module_version": "1.2.0",
            "_view_name": "LayoutView",
            "align_content": null,
            "align_items": null,
            "align_self": null,
            "border": null,
            "bottom": null,
            "display": null,
            "flex": null,
            "flex_flow": null,
            "grid_area": null,
            "grid_auto_columns": null,
            "grid_auto_flow": null,
            "grid_auto_rows": null,
            "grid_column": null,
            "grid_gap": null,
            "grid_row": null,
            "grid_template_areas": null,
            "grid_template_columns": null,
            "grid_template_rows": null,
            "height": null,
            "justify_content": null,
            "justify_items": null,
            "left": null,
            "margin": null,
            "max_height": null,
            "max_width": null,
            "min_height": null,
            "min_width": null,
            "object_fit": null,
            "object_position": null,
            "order": null,
            "overflow": null,
            "overflow_x": null,
            "overflow_y": null,
            "padding": null,
            "right": null,
            "top": null,
            "visibility": null,
            "width": null
          }
        },
        "be419b9bde3a450e9a046a91ca9c83ad": {
          "model_module": "@jupyter-widgets/controls",
          "model_name": "DescriptionStyleModel",
          "model_module_version": "1.5.0",
          "state": {
            "_model_module": "@jupyter-widgets/controls",
            "_model_module_version": "1.5.0",
            "_model_name": "DescriptionStyleModel",
            "_view_count": null,
            "_view_module": "@jupyter-widgets/base",
            "_view_module_version": "1.2.0",
            "_view_name": "StyleView",
            "description_width": ""
          }
        },
        "4ee6569a300441688dcf7ca712779881": {
          "model_module": "@jupyter-widgets/controls",
          "model_name": "HBoxModel",
          "model_module_version": "1.5.0",
          "state": {
            "_dom_classes": [],
            "_model_module": "@jupyter-widgets/controls",
            "_model_module_version": "1.5.0",
            "_model_name": "HBoxModel",
            "_view_count": null,
            "_view_module": "@jupyter-widgets/controls",
            "_view_module_version": "1.5.0",
            "_view_name": "HBoxView",
            "box_style": "",
            "children": [
              "IPY_MODEL_449df3a0568b40bfa15ca172f5135477",
              "IPY_MODEL_eea34c00829c48f2a05a264502f286e0",
              "IPY_MODEL_8fc67dc62f19484db4208b535604e054"
            ],
            "layout": "IPY_MODEL_7c271fe1765a4890a0034a0675c8f89b"
          }
        },
        "449df3a0568b40bfa15ca172f5135477": {
          "model_module": "@jupyter-widgets/controls",
          "model_name": "HTMLModel",
          "model_module_version": "1.5.0",
          "state": {
            "_dom_classes": [],
            "_model_module": "@jupyter-widgets/controls",
            "_model_module_version": "1.5.0",
            "_model_name": "HTMLModel",
            "_view_count": null,
            "_view_module": "@jupyter-widgets/controls",
            "_view_module_version": "1.5.0",
            "_view_name": "HTMLView",
            "description": "",
            "description_tooltip": null,
            "layout": "IPY_MODEL_9b2c1d5ffddc4f619cd858f38a957b35",
            "placeholder": "​",
            "style": "IPY_MODEL_c3c9ff3032514709b2dcdb271ef73c21",
            "value": "Downloading: 100%"
          }
        },
        "eea34c00829c48f2a05a264502f286e0": {
          "model_module": "@jupyter-widgets/controls",
          "model_name": "FloatProgressModel",
          "model_module_version": "1.5.0",
          "state": {
            "_dom_classes": [],
            "_model_module": "@jupyter-widgets/controls",
            "_model_module_version": "1.5.0",
            "_model_name": "FloatProgressModel",
            "_view_count": null,
            "_view_module": "@jupyter-widgets/controls",
            "_view_module_version": "1.5.0",
            "_view_name": "ProgressView",
            "bar_style": "success",
            "description": "",
            "description_tooltip": null,
            "layout": "IPY_MODEL_e341a1354870490c88354ad310f6e64e",
            "max": 260793700,
            "min": 0,
            "orientation": "horizontal",
            "style": "IPY_MODEL_355fb45de1934fe49d098c790316d55e",
            "value": 260793700
          }
        },
        "8fc67dc62f19484db4208b535604e054": {
          "model_module": "@jupyter-widgets/controls",
          "model_name": "HTMLModel",
          "model_module_version": "1.5.0",
          "state": {
            "_dom_classes": [],
            "_model_module": "@jupyter-widgets/controls",
            "_model_module_version": "1.5.0",
            "_model_name": "HTMLModel",
            "_view_count": null,
            "_view_module": "@jupyter-widgets/controls",
            "_view_module_version": "1.5.0",
            "_view_name": "HTMLView",
            "description": "",
            "description_tooltip": null,
            "layout": "IPY_MODEL_3b20ed4e105c444aaa4824b7190e4cda",
            "placeholder": "​",
            "style": "IPY_MODEL_f73628f667aa45fca62fb28c5b73fe81",
            "value": " 249M/249M [00:08&lt;00:00, 43.9MB/s]"
          }
        },
        "7c271fe1765a4890a0034a0675c8f89b": {
          "model_module": "@jupyter-widgets/base",
          "model_name": "LayoutModel",
          "model_module_version": "1.2.0",
          "state": {
            "_model_module": "@jupyter-widgets/base",
            "_model_module_version": "1.2.0",
            "_model_name": "LayoutModel",
            "_view_count": null,
            "_view_module": "@jupyter-widgets/base",
            "_view_module_version": "1.2.0",
            "_view_name": "LayoutView",
            "align_content": null,
            "align_items": null,
            "align_self": null,
            "border": null,
            "bottom": null,
            "display": null,
            "flex": null,
            "flex_flow": null,
            "grid_area": null,
            "grid_auto_columns": null,
            "grid_auto_flow": null,
            "grid_auto_rows": null,
            "grid_column": null,
            "grid_gap": null,
            "grid_row": null,
            "grid_template_areas": null,
            "grid_template_columns": null,
            "grid_template_rows": null,
            "height": null,
            "justify_content": null,
            "justify_items": null,
            "left": null,
            "margin": null,
            "max_height": null,
            "max_width": null,
            "min_height": null,
            "min_width": null,
            "object_fit": null,
            "object_position": null,
            "order": null,
            "overflow": null,
            "overflow_x": null,
            "overflow_y": null,
            "padding": null,
            "right": null,
            "top": null,
            "visibility": null,
            "width": null
          }
        },
        "9b2c1d5ffddc4f619cd858f38a957b35": {
          "model_module": "@jupyter-widgets/base",
          "model_name": "LayoutModel",
          "model_module_version": "1.2.0",
          "state": {
            "_model_module": "@jupyter-widgets/base",
            "_model_module_version": "1.2.0",
            "_model_name": "LayoutModel",
            "_view_count": null,
            "_view_module": "@jupyter-widgets/base",
            "_view_module_version": "1.2.0",
            "_view_name": "LayoutView",
            "align_content": null,
            "align_items": null,
            "align_self": null,
            "border": null,
            "bottom": null,
            "display": null,
            "flex": null,
            "flex_flow": null,
            "grid_area": null,
            "grid_auto_columns": null,
            "grid_auto_flow": null,
            "grid_auto_rows": null,
            "grid_column": null,
            "grid_gap": null,
            "grid_row": null,
            "grid_template_areas": null,
            "grid_template_columns": null,
            "grid_template_rows": null,
            "height": null,
            "justify_content": null,
            "justify_items": null,
            "left": null,
            "margin": null,
            "max_height": null,
            "max_width": null,
            "min_height": null,
            "min_width": null,
            "object_fit": null,
            "object_position": null,
            "order": null,
            "overflow": null,
            "overflow_x": null,
            "overflow_y": null,
            "padding": null,
            "right": null,
            "top": null,
            "visibility": null,
            "width": null
          }
        },
        "c3c9ff3032514709b2dcdb271ef73c21": {
          "model_module": "@jupyter-widgets/controls",
          "model_name": "DescriptionStyleModel",
          "model_module_version": "1.5.0",
          "state": {
            "_model_module": "@jupyter-widgets/controls",
            "_model_module_version": "1.5.0",
            "_model_name": "DescriptionStyleModel",
            "_view_count": null,
            "_view_module": "@jupyter-widgets/base",
            "_view_module_version": "1.2.0",
            "_view_name": "StyleView",
            "description_width": ""
          }
        },
        "e341a1354870490c88354ad310f6e64e": {
          "model_module": "@jupyter-widgets/base",
          "model_name": "LayoutModel",
          "model_module_version": "1.2.0",
          "state": {
            "_model_module": "@jupyter-widgets/base",
            "_model_module_version": "1.2.0",
            "_model_name": "LayoutModel",
            "_view_count": null,
            "_view_module": "@jupyter-widgets/base",
            "_view_module_version": "1.2.0",
            "_view_name": "LayoutView",
            "align_content": null,
            "align_items": null,
            "align_self": null,
            "border": null,
            "bottom": null,
            "display": null,
            "flex": null,
            "flex_flow": null,
            "grid_area": null,
            "grid_auto_columns": null,
            "grid_auto_flow": null,
            "grid_auto_rows": null,
            "grid_column": null,
            "grid_gap": null,
            "grid_row": null,
            "grid_template_areas": null,
            "grid_template_columns": null,
            "grid_template_rows": null,
            "height": null,
            "justify_content": null,
            "justify_items": null,
            "left": null,
            "margin": null,
            "max_height": null,
            "max_width": null,
            "min_height": null,
            "min_width": null,
            "object_fit": null,
            "object_position": null,
            "order": null,
            "overflow": null,
            "overflow_x": null,
            "overflow_y": null,
            "padding": null,
            "right": null,
            "top": null,
            "visibility": null,
            "width": null
          }
        },
        "355fb45de1934fe49d098c790316d55e": {
          "model_module": "@jupyter-widgets/controls",
          "model_name": "ProgressStyleModel",
          "model_module_version": "1.5.0",
          "state": {
            "_model_module": "@jupyter-widgets/controls",
            "_model_module_version": "1.5.0",
            "_model_name": "ProgressStyleModel",
            "_view_count": null,
            "_view_module": "@jupyter-widgets/base",
            "_view_module_version": "1.2.0",
            "_view_name": "StyleView",
            "bar_color": null,
            "description_width": ""
          }
        },
        "3b20ed4e105c444aaa4824b7190e4cda": {
          "model_module": "@jupyter-widgets/base",
          "model_name": "LayoutModel",
          "model_module_version": "1.2.0",
          "state": {
            "_model_module": "@jupyter-widgets/base",
            "_model_module_version": "1.2.0",
            "_model_name": "LayoutModel",
            "_view_count": null,
            "_view_module": "@jupyter-widgets/base",
            "_view_module_version": "1.2.0",
            "_view_name": "LayoutView",
            "align_content": null,
            "align_items": null,
            "align_self": null,
            "border": null,
            "bottom": null,
            "display": null,
            "flex": null,
            "flex_flow": null,
            "grid_area": null,
            "grid_auto_columns": null,
            "grid_auto_flow": null,
            "grid_auto_rows": null,
            "grid_column": null,
            "grid_gap": null,
            "grid_row": null,
            "grid_template_areas": null,
            "grid_template_columns": null,
            "grid_template_rows": null,
            "height": null,
            "justify_content": null,
            "justify_items": null,
            "left": null,
            "margin": null,
            "max_height": null,
            "max_width": null,
            "min_height": null,
            "min_width": null,
            "object_fit": null,
            "object_position": null,
            "order": null,
            "overflow": null,
            "overflow_x": null,
            "overflow_y": null,
            "padding": null,
            "right": null,
            "top": null,
            "visibility": null,
            "width": null
          }
        },
        "f73628f667aa45fca62fb28c5b73fe81": {
          "model_module": "@jupyter-widgets/controls",
          "model_name": "DescriptionStyleModel",
          "model_module_version": "1.5.0",
          "state": {
            "_model_module": "@jupyter-widgets/controls",
            "_model_module_version": "1.5.0",
            "_model_name": "DescriptionStyleModel",
            "_view_count": null,
            "_view_module": "@jupyter-widgets/base",
            "_view_module_version": "1.2.0",
            "_view_name": "StyleView",
            "description_width": ""
          }
        },
        "8e4ce0fc08634195b4a19375645add27": {
          "model_module": "@jupyter-widgets/controls",
          "model_name": "HBoxModel",
          "model_module_version": "1.5.0",
          "state": {
            "_dom_classes": [],
            "_model_module": "@jupyter-widgets/controls",
            "_model_module_version": "1.5.0",
            "_model_name": "HBoxModel",
            "_view_count": null,
            "_view_module": "@jupyter-widgets/controls",
            "_view_module_version": "1.5.0",
            "_view_name": "HBoxView",
            "box_style": "",
            "children": [
              "IPY_MODEL_4345660905a24bd192d4dbf319d3ca34",
              "IPY_MODEL_26bad14abdb84192aed99c3e40d814de",
              "IPY_MODEL_58ea2b38df274c17972b21a6138d364d"
            ],
            "layout": "IPY_MODEL_b5ed739dbaf64a08bf1fa349547b13d6"
          }
        },
        "4345660905a24bd192d4dbf319d3ca34": {
          "model_module": "@jupyter-widgets/controls",
          "model_name": "HTMLModel",
          "model_module_version": "1.5.0",
          "state": {
            "_dom_classes": [],
            "_model_module": "@jupyter-widgets/controls",
            "_model_module_version": "1.5.0",
            "_model_name": "HTMLModel",
            "_view_count": null,
            "_view_module": "@jupyter-widgets/controls",
            "_view_module_version": "1.5.0",
            "_view_name": "HTMLView",
            "description": "",
            "description_tooltip": null,
            "layout": "IPY_MODEL_00117fd3cf264ff6afe2de480c39750f",
            "placeholder": "​",
            "style": "IPY_MODEL_553e5d4e82da4e2fb944fd859d04f25e",
            "value": "Downloading: 100%"
          }
        },
        "26bad14abdb84192aed99c3e40d814de": {
          "model_module": "@jupyter-widgets/controls",
          "model_name": "FloatProgressModel",
          "model_module_version": "1.5.0",
          "state": {
            "_dom_classes": [],
            "_model_module": "@jupyter-widgets/controls",
            "_model_module_version": "1.5.0",
            "_model_name": "FloatProgressModel",
            "_view_count": null,
            "_view_module": "@jupyter-widgets/controls",
            "_view_module_version": "1.5.0",
            "_view_name": "ProgressView",
            "bar_style": "success",
            "description": "",
            "description_tooltip": null,
            "layout": "IPY_MODEL_7c950f26432c4e2882ab2fe70819dbae",
            "max": 29,
            "min": 0,
            "orientation": "horizontal",
            "style": "IPY_MODEL_fcbfd1a1c78d412bbdbd8d58b9661653",
            "value": 29
          }
        },
        "58ea2b38df274c17972b21a6138d364d": {
          "model_module": "@jupyter-widgets/controls",
          "model_name": "HTMLModel",
          "model_module_version": "1.5.0",
          "state": {
            "_dom_classes": [],
            "_model_module": "@jupyter-widgets/controls",
            "_model_module_version": "1.5.0",
            "_model_name": "HTMLModel",
            "_view_count": null,
            "_view_module": "@jupyter-widgets/controls",
            "_view_module_version": "1.5.0",
            "_view_name": "HTMLView",
            "description": "",
            "description_tooltip": null,
            "layout": "IPY_MODEL_929a7c96598445d393863d89dc8077f5",
            "placeholder": "​",
            "style": "IPY_MODEL_b88b34e4fc3a49b9934c3bd0f4c4670f",
            "value": " 29.0/29.0 [00:00&lt;00:00, 658B/s]"
          }
        },
        "b5ed739dbaf64a08bf1fa349547b13d6": {
          "model_module": "@jupyter-widgets/base",
          "model_name": "LayoutModel",
          "model_module_version": "1.2.0",
          "state": {
            "_model_module": "@jupyter-widgets/base",
            "_model_module_version": "1.2.0",
            "_model_name": "LayoutModel",
            "_view_count": null,
            "_view_module": "@jupyter-widgets/base",
            "_view_module_version": "1.2.0",
            "_view_name": "LayoutView",
            "align_content": null,
            "align_items": null,
            "align_self": null,
            "border": null,
            "bottom": null,
            "display": null,
            "flex": null,
            "flex_flow": null,
            "grid_area": null,
            "grid_auto_columns": null,
            "grid_auto_flow": null,
            "grid_auto_rows": null,
            "grid_column": null,
            "grid_gap": null,
            "grid_row": null,
            "grid_template_areas": null,
            "grid_template_columns": null,
            "grid_template_rows": null,
            "height": null,
            "justify_content": null,
            "justify_items": null,
            "left": null,
            "margin": null,
            "max_height": null,
            "max_width": null,
            "min_height": null,
            "min_width": null,
            "object_fit": null,
            "object_position": null,
            "order": null,
            "overflow": null,
            "overflow_x": null,
            "overflow_y": null,
            "padding": null,
            "right": null,
            "top": null,
            "visibility": null,
            "width": null
          }
        },
        "00117fd3cf264ff6afe2de480c39750f": {
          "model_module": "@jupyter-widgets/base",
          "model_name": "LayoutModel",
          "model_module_version": "1.2.0",
          "state": {
            "_model_module": "@jupyter-widgets/base",
            "_model_module_version": "1.2.0",
            "_model_name": "LayoutModel",
            "_view_count": null,
            "_view_module": "@jupyter-widgets/base",
            "_view_module_version": "1.2.0",
            "_view_name": "LayoutView",
            "align_content": null,
            "align_items": null,
            "align_self": null,
            "border": null,
            "bottom": null,
            "display": null,
            "flex": null,
            "flex_flow": null,
            "grid_area": null,
            "grid_auto_columns": null,
            "grid_auto_flow": null,
            "grid_auto_rows": null,
            "grid_column": null,
            "grid_gap": null,
            "grid_row": null,
            "grid_template_areas": null,
            "grid_template_columns": null,
            "grid_template_rows": null,
            "height": null,
            "justify_content": null,
            "justify_items": null,
            "left": null,
            "margin": null,
            "max_height": null,
            "max_width": null,
            "min_height": null,
            "min_width": null,
            "object_fit": null,
            "object_position": null,
            "order": null,
            "overflow": null,
            "overflow_x": null,
            "overflow_y": null,
            "padding": null,
            "right": null,
            "top": null,
            "visibility": null,
            "width": null
          }
        },
        "553e5d4e82da4e2fb944fd859d04f25e": {
          "model_module": "@jupyter-widgets/controls",
          "model_name": "DescriptionStyleModel",
          "model_module_version": "1.5.0",
          "state": {
            "_model_module": "@jupyter-widgets/controls",
            "_model_module_version": "1.5.0",
            "_model_name": "DescriptionStyleModel",
            "_view_count": null,
            "_view_module": "@jupyter-widgets/base",
            "_view_module_version": "1.2.0",
            "_view_name": "StyleView",
            "description_width": ""
          }
        },
        "7c950f26432c4e2882ab2fe70819dbae": {
          "model_module": "@jupyter-widgets/base",
          "model_name": "LayoutModel",
          "model_module_version": "1.2.0",
          "state": {
            "_model_module": "@jupyter-widgets/base",
            "_model_module_version": "1.2.0",
            "_model_name": "LayoutModel",
            "_view_count": null,
            "_view_module": "@jupyter-widgets/base",
            "_view_module_version": "1.2.0",
            "_view_name": "LayoutView",
            "align_content": null,
            "align_items": null,
            "align_self": null,
            "border": null,
            "bottom": null,
            "display": null,
            "flex": null,
            "flex_flow": null,
            "grid_area": null,
            "grid_auto_columns": null,
            "grid_auto_flow": null,
            "grid_auto_rows": null,
            "grid_column": null,
            "grid_gap": null,
            "grid_row": null,
            "grid_template_areas": null,
            "grid_template_columns": null,
            "grid_template_rows": null,
            "height": null,
            "justify_content": null,
            "justify_items": null,
            "left": null,
            "margin": null,
            "max_height": null,
            "max_width": null,
            "min_height": null,
            "min_width": null,
            "object_fit": null,
            "object_position": null,
            "order": null,
            "overflow": null,
            "overflow_x": null,
            "overflow_y": null,
            "padding": null,
            "right": null,
            "top": null,
            "visibility": null,
            "width": null
          }
        },
        "fcbfd1a1c78d412bbdbd8d58b9661653": {
          "model_module": "@jupyter-widgets/controls",
          "model_name": "ProgressStyleModel",
          "model_module_version": "1.5.0",
          "state": {
            "_model_module": "@jupyter-widgets/controls",
            "_model_module_version": "1.5.0",
            "_model_name": "ProgressStyleModel",
            "_view_count": null,
            "_view_module": "@jupyter-widgets/base",
            "_view_module_version": "1.2.0",
            "_view_name": "StyleView",
            "bar_color": null,
            "description_width": ""
          }
        },
        "929a7c96598445d393863d89dc8077f5": {
          "model_module": "@jupyter-widgets/base",
          "model_name": "LayoutModel",
          "model_module_version": "1.2.0",
          "state": {
            "_model_module": "@jupyter-widgets/base",
            "_model_module_version": "1.2.0",
            "_model_name": "LayoutModel",
            "_view_count": null,
            "_view_module": "@jupyter-widgets/base",
            "_view_module_version": "1.2.0",
            "_view_name": "LayoutView",
            "align_content": null,
            "align_items": null,
            "align_self": null,
            "border": null,
            "bottom": null,
            "display": null,
            "flex": null,
            "flex_flow": null,
            "grid_area": null,
            "grid_auto_columns": null,
            "grid_auto_flow": null,
            "grid_auto_rows": null,
            "grid_column": null,
            "grid_gap": null,
            "grid_row": null,
            "grid_template_areas": null,
            "grid_template_columns": null,
            "grid_template_rows": null,
            "height": null,
            "justify_content": null,
            "justify_items": null,
            "left": null,
            "margin": null,
            "max_height": null,
            "max_width": null,
            "min_height": null,
            "min_width": null,
            "object_fit": null,
            "object_position": null,
            "order": null,
            "overflow": null,
            "overflow_x": null,
            "overflow_y": null,
            "padding": null,
            "right": null,
            "top": null,
            "visibility": null,
            "width": null
          }
        },
        "b88b34e4fc3a49b9934c3bd0f4c4670f": {
          "model_module": "@jupyter-widgets/controls",
          "model_name": "DescriptionStyleModel",
          "model_module_version": "1.5.0",
          "state": {
            "_model_module": "@jupyter-widgets/controls",
            "_model_module_version": "1.5.0",
            "_model_name": "DescriptionStyleModel",
            "_view_count": null,
            "_view_module": "@jupyter-widgets/base",
            "_view_module_version": "1.2.0",
            "_view_name": "StyleView",
            "description_width": ""
          }
        },
        "8e42980641854a6aa11d71fefa84d376": {
          "model_module": "@jupyter-widgets/controls",
          "model_name": "HBoxModel",
          "model_module_version": "1.5.0",
          "state": {
            "_dom_classes": [],
            "_model_module": "@jupyter-widgets/controls",
            "_model_module_version": "1.5.0",
            "_model_name": "HBoxModel",
            "_view_count": null,
            "_view_module": "@jupyter-widgets/controls",
            "_view_module_version": "1.5.0",
            "_view_name": "HBoxView",
            "box_style": "",
            "children": [
              "IPY_MODEL_7304cf6c41a9420bb9e2b5cc014f2c34",
              "IPY_MODEL_11e1dc63095b49eb9c0b769fde4862b0",
              "IPY_MODEL_f9ab8947c2de4781884d1ac6a93fc8a4"
            ],
            "layout": "IPY_MODEL_38e044180c4b4e1e9376933191d9d131"
          }
        },
        "7304cf6c41a9420bb9e2b5cc014f2c34": {
          "model_module": "@jupyter-widgets/controls",
          "model_name": "HTMLModel",
          "model_module_version": "1.5.0",
          "state": {
            "_dom_classes": [],
            "_model_module": "@jupyter-widgets/controls",
            "_model_module_version": "1.5.0",
            "_model_name": "HTMLModel",
            "_view_count": null,
            "_view_module": "@jupyter-widgets/controls",
            "_view_module_version": "1.5.0",
            "_view_name": "HTMLView",
            "description": "",
            "description_tooltip": null,
            "layout": "IPY_MODEL_7eacd0d2048c4c3e8de8f3ca484dd6d3",
            "placeholder": "​",
            "style": "IPY_MODEL_359aa67144ed4edc965c7a2b1f076a6a",
            "value": "Downloading: 100%"
          }
        },
        "11e1dc63095b49eb9c0b769fde4862b0": {
          "model_module": "@jupyter-widgets/controls",
          "model_name": "FloatProgressModel",
          "model_module_version": "1.5.0",
          "state": {
            "_dom_classes": [],
            "_model_module": "@jupyter-widgets/controls",
            "_model_module_version": "1.5.0",
            "_model_name": "FloatProgressModel",
            "_view_count": null,
            "_view_module": "@jupyter-widgets/controls",
            "_view_module_version": "1.5.0",
            "_view_name": "ProgressView",
            "bar_style": "success",
            "description": "",
            "description_tooltip": null,
            "layout": "IPY_MODEL_09ac56c697074da2843daa88baf04662",
            "max": 213450,
            "min": 0,
            "orientation": "horizontal",
            "style": "IPY_MODEL_cfa10ff23141413aaf4c35de3a424a3c",
            "value": 213450
          }
        },
        "f9ab8947c2de4781884d1ac6a93fc8a4": {
          "model_module": "@jupyter-widgets/controls",
          "model_name": "HTMLModel",
          "model_module_version": "1.5.0",
          "state": {
            "_dom_classes": [],
            "_model_module": "@jupyter-widgets/controls",
            "_model_module_version": "1.5.0",
            "_model_name": "HTMLModel",
            "_view_count": null,
            "_view_module": "@jupyter-widgets/controls",
            "_view_module_version": "1.5.0",
            "_view_name": "HTMLView",
            "description": "",
            "description_tooltip": null,
            "layout": "IPY_MODEL_758a6607f4a94724a2807639c22d041d",
            "placeholder": "​",
            "style": "IPY_MODEL_491cd7e348b14f9c8a1d3d2ca3230850",
            "value": " 208k/208k [00:00&lt;00:00, 1.16MB/s]"
          }
        },
        "38e044180c4b4e1e9376933191d9d131": {
          "model_module": "@jupyter-widgets/base",
          "model_name": "LayoutModel",
          "model_module_version": "1.2.0",
          "state": {
            "_model_module": "@jupyter-widgets/base",
            "_model_module_version": "1.2.0",
            "_model_name": "LayoutModel",
            "_view_count": null,
            "_view_module": "@jupyter-widgets/base",
            "_view_module_version": "1.2.0",
            "_view_name": "LayoutView",
            "align_content": null,
            "align_items": null,
            "align_self": null,
            "border": null,
            "bottom": null,
            "display": null,
            "flex": null,
            "flex_flow": null,
            "grid_area": null,
            "grid_auto_columns": null,
            "grid_auto_flow": null,
            "grid_auto_rows": null,
            "grid_column": null,
            "grid_gap": null,
            "grid_row": null,
            "grid_template_areas": null,
            "grid_template_columns": null,
            "grid_template_rows": null,
            "height": null,
            "justify_content": null,
            "justify_items": null,
            "left": null,
            "margin": null,
            "max_height": null,
            "max_width": null,
            "min_height": null,
            "min_width": null,
            "object_fit": null,
            "object_position": null,
            "order": null,
            "overflow": null,
            "overflow_x": null,
            "overflow_y": null,
            "padding": null,
            "right": null,
            "top": null,
            "visibility": null,
            "width": null
          }
        },
        "7eacd0d2048c4c3e8de8f3ca484dd6d3": {
          "model_module": "@jupyter-widgets/base",
          "model_name": "LayoutModel",
          "model_module_version": "1.2.0",
          "state": {
            "_model_module": "@jupyter-widgets/base",
            "_model_module_version": "1.2.0",
            "_model_name": "LayoutModel",
            "_view_count": null,
            "_view_module": "@jupyter-widgets/base",
            "_view_module_version": "1.2.0",
            "_view_name": "LayoutView",
            "align_content": null,
            "align_items": null,
            "align_self": null,
            "border": null,
            "bottom": null,
            "display": null,
            "flex": null,
            "flex_flow": null,
            "grid_area": null,
            "grid_auto_columns": null,
            "grid_auto_flow": null,
            "grid_auto_rows": null,
            "grid_column": null,
            "grid_gap": null,
            "grid_row": null,
            "grid_template_areas": null,
            "grid_template_columns": null,
            "grid_template_rows": null,
            "height": null,
            "justify_content": null,
            "justify_items": null,
            "left": null,
            "margin": null,
            "max_height": null,
            "max_width": null,
            "min_height": null,
            "min_width": null,
            "object_fit": null,
            "object_position": null,
            "order": null,
            "overflow": null,
            "overflow_x": null,
            "overflow_y": null,
            "padding": null,
            "right": null,
            "top": null,
            "visibility": null,
            "width": null
          }
        },
        "359aa67144ed4edc965c7a2b1f076a6a": {
          "model_module": "@jupyter-widgets/controls",
          "model_name": "DescriptionStyleModel",
          "model_module_version": "1.5.0",
          "state": {
            "_model_module": "@jupyter-widgets/controls",
            "_model_module_version": "1.5.0",
            "_model_name": "DescriptionStyleModel",
            "_view_count": null,
            "_view_module": "@jupyter-widgets/base",
            "_view_module_version": "1.2.0",
            "_view_name": "StyleView",
            "description_width": ""
          }
        },
        "09ac56c697074da2843daa88baf04662": {
          "model_module": "@jupyter-widgets/base",
          "model_name": "LayoutModel",
          "model_module_version": "1.2.0",
          "state": {
            "_model_module": "@jupyter-widgets/base",
            "_model_module_version": "1.2.0",
            "_model_name": "LayoutModel",
            "_view_count": null,
            "_view_module": "@jupyter-widgets/base",
            "_view_module_version": "1.2.0",
            "_view_name": "LayoutView",
            "align_content": null,
            "align_items": null,
            "align_self": null,
            "border": null,
            "bottom": null,
            "display": null,
            "flex": null,
            "flex_flow": null,
            "grid_area": null,
            "grid_auto_columns": null,
            "grid_auto_flow": null,
            "grid_auto_rows": null,
            "grid_column": null,
            "grid_gap": null,
            "grid_row": null,
            "grid_template_areas": null,
            "grid_template_columns": null,
            "grid_template_rows": null,
            "height": null,
            "justify_content": null,
            "justify_items": null,
            "left": null,
            "margin": null,
            "max_height": null,
            "max_width": null,
            "min_height": null,
            "min_width": null,
            "object_fit": null,
            "object_position": null,
            "order": null,
            "overflow": null,
            "overflow_x": null,
            "overflow_y": null,
            "padding": null,
            "right": null,
            "top": null,
            "visibility": null,
            "width": null
          }
        },
        "cfa10ff23141413aaf4c35de3a424a3c": {
          "model_module": "@jupyter-widgets/controls",
          "model_name": "ProgressStyleModel",
          "model_module_version": "1.5.0",
          "state": {
            "_model_module": "@jupyter-widgets/controls",
            "_model_module_version": "1.5.0",
            "_model_name": "ProgressStyleModel",
            "_view_count": null,
            "_view_module": "@jupyter-widgets/base",
            "_view_module_version": "1.2.0",
            "_view_name": "StyleView",
            "bar_color": null,
            "description_width": ""
          }
        },
        "758a6607f4a94724a2807639c22d041d": {
          "model_module": "@jupyter-widgets/base",
          "model_name": "LayoutModel",
          "model_module_version": "1.2.0",
          "state": {
            "_model_module": "@jupyter-widgets/base",
            "_model_module_version": "1.2.0",
            "_model_name": "LayoutModel",
            "_view_count": null,
            "_view_module": "@jupyter-widgets/base",
            "_view_module_version": "1.2.0",
            "_view_name": "LayoutView",
            "align_content": null,
            "align_items": null,
            "align_self": null,
            "border": null,
            "bottom": null,
            "display": null,
            "flex": null,
            "flex_flow": null,
            "grid_area": null,
            "grid_auto_columns": null,
            "grid_auto_flow": null,
            "grid_auto_rows": null,
            "grid_column": null,
            "grid_gap": null,
            "grid_row": null,
            "grid_template_areas": null,
            "grid_template_columns": null,
            "grid_template_rows": null,
            "height": null,
            "justify_content": null,
            "justify_items": null,
            "left": null,
            "margin": null,
            "max_height": null,
            "max_width": null,
            "min_height": null,
            "min_width": null,
            "object_fit": null,
            "object_position": null,
            "order": null,
            "overflow": null,
            "overflow_x": null,
            "overflow_y": null,
            "padding": null,
            "right": null,
            "top": null,
            "visibility": null,
            "width": null
          }
        },
        "491cd7e348b14f9c8a1d3d2ca3230850": {
          "model_module": "@jupyter-widgets/controls",
          "model_name": "DescriptionStyleModel",
          "model_module_version": "1.5.0",
          "state": {
            "_model_module": "@jupyter-widgets/controls",
            "_model_module_version": "1.5.0",
            "_model_name": "DescriptionStyleModel",
            "_view_count": null,
            "_view_module": "@jupyter-widgets/base",
            "_view_module_version": "1.2.0",
            "_view_name": "StyleView",
            "description_width": ""
          }
        },
        "0ab9d8ac612146cbb2d21dc768476084": {
          "model_module": "@jupyter-widgets/controls",
          "model_name": "HBoxModel",
          "model_module_version": "1.5.0",
          "state": {
            "_dom_classes": [],
            "_model_module": "@jupyter-widgets/controls",
            "_model_module_version": "1.5.0",
            "_model_name": "HBoxModel",
            "_view_count": null,
            "_view_module": "@jupyter-widgets/controls",
            "_view_module_version": "1.5.0",
            "_view_name": "HBoxView",
            "box_style": "",
            "children": [
              "IPY_MODEL_240c088d898f44d69c755885bbadeba4",
              "IPY_MODEL_0e92cec47c124c6e83e86f2da1bae961",
              "IPY_MODEL_0896e9a531e240c5a5829561fad81a44"
            ],
            "layout": "IPY_MODEL_5e904a0f84d346868d6b5c0fef6032a0"
          }
        },
        "240c088d898f44d69c755885bbadeba4": {
          "model_module": "@jupyter-widgets/controls",
          "model_name": "HTMLModel",
          "model_module_version": "1.5.0",
          "state": {
            "_dom_classes": [],
            "_model_module": "@jupyter-widgets/controls",
            "_model_module_version": "1.5.0",
            "_model_name": "HTMLModel",
            "_view_count": null,
            "_view_module": "@jupyter-widgets/controls",
            "_view_module_version": "1.5.0",
            "_view_name": "HTMLView",
            "description": "",
            "description_tooltip": null,
            "layout": "IPY_MODEL_07f17ac0d46b4cd8aca9989a28bf7d49",
            "placeholder": "​",
            "style": "IPY_MODEL_1f0995653d3444388f3bd50cbb63be2e",
            "value": "Downloading: 100%"
          }
        },
        "0e92cec47c124c6e83e86f2da1bae961": {
          "model_module": "@jupyter-widgets/controls",
          "model_name": "FloatProgressModel",
          "model_module_version": "1.5.0",
          "state": {
            "_dom_classes": [],
            "_model_module": "@jupyter-widgets/controls",
            "_model_module_version": "1.5.0",
            "_model_name": "FloatProgressModel",
            "_view_count": null,
            "_view_module": "@jupyter-widgets/controls",
            "_view_module_version": "1.5.0",
            "_view_name": "ProgressView",
            "bar_style": "success",
            "description": "",
            "description_tooltip": null,
            "layout": "IPY_MODEL_9ee14e76b33742eea08cd4ad5ccc04ff",
            "max": 435797,
            "min": 0,
            "orientation": "horizontal",
            "style": "IPY_MODEL_a5b57b565780436e8252394d98195f74",
            "value": 435797
          }
        },
        "0896e9a531e240c5a5829561fad81a44": {
          "model_module": "@jupyter-widgets/controls",
          "model_name": "HTMLModel",
          "model_module_version": "1.5.0",
          "state": {
            "_dom_classes": [],
            "_model_module": "@jupyter-widgets/controls",
            "_model_module_version": "1.5.0",
            "_model_name": "HTMLModel",
            "_view_count": null,
            "_view_module": "@jupyter-widgets/controls",
            "_view_module_version": "1.5.0",
            "_view_name": "HTMLView",
            "description": "",
            "description_tooltip": null,
            "layout": "IPY_MODEL_b20d56a5a838442f89ed488c128a69de",
            "placeholder": "​",
            "style": "IPY_MODEL_390cd3b1563d4dfa877c9e08d55839c8",
            "value": " 426k/426k [00:00&lt;00:00, 1.04MB/s]"
          }
        },
        "5e904a0f84d346868d6b5c0fef6032a0": {
          "model_module": "@jupyter-widgets/base",
          "model_name": "LayoutModel",
          "model_module_version": "1.2.0",
          "state": {
            "_model_module": "@jupyter-widgets/base",
            "_model_module_version": "1.2.0",
            "_model_name": "LayoutModel",
            "_view_count": null,
            "_view_module": "@jupyter-widgets/base",
            "_view_module_version": "1.2.0",
            "_view_name": "LayoutView",
            "align_content": null,
            "align_items": null,
            "align_self": null,
            "border": null,
            "bottom": null,
            "display": null,
            "flex": null,
            "flex_flow": null,
            "grid_area": null,
            "grid_auto_columns": null,
            "grid_auto_flow": null,
            "grid_auto_rows": null,
            "grid_column": null,
            "grid_gap": null,
            "grid_row": null,
            "grid_template_areas": null,
            "grid_template_columns": null,
            "grid_template_rows": null,
            "height": null,
            "justify_content": null,
            "justify_items": null,
            "left": null,
            "margin": null,
            "max_height": null,
            "max_width": null,
            "min_height": null,
            "min_width": null,
            "object_fit": null,
            "object_position": null,
            "order": null,
            "overflow": null,
            "overflow_x": null,
            "overflow_y": null,
            "padding": null,
            "right": null,
            "top": null,
            "visibility": null,
            "width": null
          }
        },
        "07f17ac0d46b4cd8aca9989a28bf7d49": {
          "model_module": "@jupyter-widgets/base",
          "model_name": "LayoutModel",
          "model_module_version": "1.2.0",
          "state": {
            "_model_module": "@jupyter-widgets/base",
            "_model_module_version": "1.2.0",
            "_model_name": "LayoutModel",
            "_view_count": null,
            "_view_module": "@jupyter-widgets/base",
            "_view_module_version": "1.2.0",
            "_view_name": "LayoutView",
            "align_content": null,
            "align_items": null,
            "align_self": null,
            "border": null,
            "bottom": null,
            "display": null,
            "flex": null,
            "flex_flow": null,
            "grid_area": null,
            "grid_auto_columns": null,
            "grid_auto_flow": null,
            "grid_auto_rows": null,
            "grid_column": null,
            "grid_gap": null,
            "grid_row": null,
            "grid_template_areas": null,
            "grid_template_columns": null,
            "grid_template_rows": null,
            "height": null,
            "justify_content": null,
            "justify_items": null,
            "left": null,
            "margin": null,
            "max_height": null,
            "max_width": null,
            "min_height": null,
            "min_width": null,
            "object_fit": null,
            "object_position": null,
            "order": null,
            "overflow": null,
            "overflow_x": null,
            "overflow_y": null,
            "padding": null,
            "right": null,
            "top": null,
            "visibility": null,
            "width": null
          }
        },
        "1f0995653d3444388f3bd50cbb63be2e": {
          "model_module": "@jupyter-widgets/controls",
          "model_name": "DescriptionStyleModel",
          "model_module_version": "1.5.0",
          "state": {
            "_model_module": "@jupyter-widgets/controls",
            "_model_module_version": "1.5.0",
            "_model_name": "DescriptionStyleModel",
            "_view_count": null,
            "_view_module": "@jupyter-widgets/base",
            "_view_module_version": "1.2.0",
            "_view_name": "StyleView",
            "description_width": ""
          }
        },
        "9ee14e76b33742eea08cd4ad5ccc04ff": {
          "model_module": "@jupyter-widgets/base",
          "model_name": "LayoutModel",
          "model_module_version": "1.2.0",
          "state": {
            "_model_module": "@jupyter-widgets/base",
            "_model_module_version": "1.2.0",
            "_model_name": "LayoutModel",
            "_view_count": null,
            "_view_module": "@jupyter-widgets/base",
            "_view_module_version": "1.2.0",
            "_view_name": "LayoutView",
            "align_content": null,
            "align_items": null,
            "align_self": null,
            "border": null,
            "bottom": null,
            "display": null,
            "flex": null,
            "flex_flow": null,
            "grid_area": null,
            "grid_auto_columns": null,
            "grid_auto_flow": null,
            "grid_auto_rows": null,
            "grid_column": null,
            "grid_gap": null,
            "grid_row": null,
            "grid_template_areas": null,
            "grid_template_columns": null,
            "grid_template_rows": null,
            "height": null,
            "justify_content": null,
            "justify_items": null,
            "left": null,
            "margin": null,
            "max_height": null,
            "max_width": null,
            "min_height": null,
            "min_width": null,
            "object_fit": null,
            "object_position": null,
            "order": null,
            "overflow": null,
            "overflow_x": null,
            "overflow_y": null,
            "padding": null,
            "right": null,
            "top": null,
            "visibility": null,
            "width": null
          }
        },
        "a5b57b565780436e8252394d98195f74": {
          "model_module": "@jupyter-widgets/controls",
          "model_name": "ProgressStyleModel",
          "model_module_version": "1.5.0",
          "state": {
            "_model_module": "@jupyter-widgets/controls",
            "_model_module_version": "1.5.0",
            "_model_name": "ProgressStyleModel",
            "_view_count": null,
            "_view_module": "@jupyter-widgets/base",
            "_view_module_version": "1.2.0",
            "_view_name": "StyleView",
            "bar_color": null,
            "description_width": ""
          }
        },
        "b20d56a5a838442f89ed488c128a69de": {
          "model_module": "@jupyter-widgets/base",
          "model_name": "LayoutModel",
          "model_module_version": "1.2.0",
          "state": {
            "_model_module": "@jupyter-widgets/base",
            "_model_module_version": "1.2.0",
            "_model_name": "LayoutModel",
            "_view_count": null,
            "_view_module": "@jupyter-widgets/base",
            "_view_module_version": "1.2.0",
            "_view_name": "LayoutView",
            "align_content": null,
            "align_items": null,
            "align_self": null,
            "border": null,
            "bottom": null,
            "display": null,
            "flex": null,
            "flex_flow": null,
            "grid_area": null,
            "grid_auto_columns": null,
            "grid_auto_flow": null,
            "grid_auto_rows": null,
            "grid_column": null,
            "grid_gap": null,
            "grid_row": null,
            "grid_template_areas": null,
            "grid_template_columns": null,
            "grid_template_rows": null,
            "height": null,
            "justify_content": null,
            "justify_items": null,
            "left": null,
            "margin": null,
            "max_height": null,
            "max_width": null,
            "min_height": null,
            "min_width": null,
            "object_fit": null,
            "object_position": null,
            "order": null,
            "overflow": null,
            "overflow_x": null,
            "overflow_y": null,
            "padding": null,
            "right": null,
            "top": null,
            "visibility": null,
            "width": null
          }
        },
        "390cd3b1563d4dfa877c9e08d55839c8": {
          "model_module": "@jupyter-widgets/controls",
          "model_name": "DescriptionStyleModel",
          "model_module_version": "1.5.0",
          "state": {
            "_model_module": "@jupyter-widgets/controls",
            "_model_module_version": "1.5.0",
            "_model_name": "DescriptionStyleModel",
            "_view_count": null,
            "_view_module": "@jupyter-widgets/base",
            "_view_module_version": "1.2.0",
            "_view_name": "StyleView",
            "description_width": ""
          }
        }
      }
    }
  },
  "cells": [
    {
      "cell_type": "markdown",
      "metadata": {
        "id": "view-in-github",
        "colab_type": "text"
      },
      "source": [
        "<a href=\"https://colab.research.google.com/github/ManasviAtGitHub/Natural-Language-Processing/blob/main/Text_to_Speech.ipynb\" target=\"_parent\"><img src=\"https://colab.research.google.com/assets/colab-badge.svg\" alt=\"Open In Colab\"/></a>"
      ]
    },
    {
      "cell_type": "code",
      "source": [
        "%%capture\n",
        "!pip install transformers"
      ],
      "metadata": {
        "id": "iymof72qjrPm"
      },
      "execution_count": 8,
      "outputs": []
    },
    {
      "cell_type": "code",
      "source": [
        "from transformers import pipeline\n",
        "import textwrap"
      ],
      "metadata": {
        "id": "Iolcev1XjwR9"
      },
      "execution_count": 9,
      "outputs": []
    },
    {
      "cell_type": "code",
      "source": [
        "wrapper = textwrap.TextWrapper(width=80, break_long_words=False, break_on_hyphens=False)"
      ],
      "metadata": {
        "id": "y2Gq9jvHjwWB"
      },
      "execution_count": 10,
      "outputs": []
    },
    {
      "cell_type": "code",
      "source": [
        ""
      ],
      "metadata": {
        "id": "kNIJs60Dk3Pq"
      },
      "execution_count": null,
      "outputs": []
    },
    {
      "cell_type": "code",
      "source": [
        "context = '''\n",
        "Singapore Airlines was founded in 1947 and was originally known as Malayan Airways. It is the national airline of Singapore and is based at Singapore Changi Airport. \n",
        "From this hub, the airline flies to more than 60 destinations, with flights to Seoul, Tokyo and Melbourne among the most popular of its routes. \n",
        "It is particularly strong in Southeast Asian and Australian destinations (the so-called Kangaroo Route), but also flies to 6 different continents, covering 35 countries.\n",
        "There are more than 100 planes in the Singapore Airlines fleet, most of which are Airbus aircraft plus a smaller amount Boeings.\n",
        "The company is known for frequently updating the aircraft in its fleet.'''\n",
        "\n",
        "\n",
        "question = 'How many aircrafts does Singapore Airlines have?'\n",
        "\n"
      ],
      "metadata": {
        "id": "PPKBrm6jjwZ2"
      },
      "execution_count": 11,
      "outputs": []
    },
    {
      "cell_type": "code",
      "source": [
        ""
      ],
      "metadata": {
        "id": "oIyBLtdYjwds"
      },
      "execution_count": null,
      "outputs": []
    },
    {
      "cell_type": "code",
      "source": [
        ""
      ],
      "metadata": {
        "id": "WIioxA_VjwhX"
      },
      "execution_count": null,
      "outputs": []
    },
    {
      "cell_type": "code",
      "source": [
        ""
      ],
      "metadata": {
        "id": "0Hxher5SjxAp"
      },
      "execution_count": null,
      "outputs": []
    },
    {
      "cell_type": "code",
      "source": [
        ""
      ],
      "metadata": {
        "id": "QqGUxgN8jxEB"
      },
      "execution_count": null,
      "outputs": []
    },
    {
      "cell_type": "code",
      "source": [
        "!pip install gtts"
      ],
      "metadata": {
        "colab": {
          "base_uri": "https://localhost:8080/"
        },
        "id": "bGSkvatkZ1U7",
        "outputId": "ee932d1a-ae4e-42e7-c02f-616fff76fbbf"
      },
      "execution_count": 3,
      "outputs": [
        {
          "output_type": "stream",
          "name": "stdout",
          "text": [
            "Collecting gtts\n",
            "  Downloading gTTS-2.2.4-py3-none-any.whl (26 kB)\n",
            "Requirement already satisfied: requests in /usr/local/lib/python3.7/dist-packages (from gtts) (2.23.0)\n",
            "Requirement already satisfied: click in /usr/local/lib/python3.7/dist-packages (from gtts) (7.1.2)\n",
            "Requirement already satisfied: six in /usr/local/lib/python3.7/dist-packages (from gtts) (1.15.0)\n",
            "Requirement already satisfied: urllib3!=1.25.0,!=1.25.1,<1.26,>=1.21.1 in /usr/local/lib/python3.7/dist-packages (from requests->gtts) (1.24.3)\n",
            "Requirement already satisfied: idna<3,>=2.5 in /usr/local/lib/python3.7/dist-packages (from requests->gtts) (2.10)\n",
            "Requirement already satisfied: certifi>=2017.4.17 in /usr/local/lib/python3.7/dist-packages (from requests->gtts) (2021.10.8)\n",
            "Requirement already satisfied: chardet<4,>=3.0.2 in /usr/local/lib/python3.7/dist-packages (from requests->gtts) (3.0.4)\n",
            "Installing collected packages: gtts\n",
            "Successfully installed gtts-2.2.4\n"
          ]
        }
      ]
    },
    {
      "cell_type": "code",
      "execution_count": 4,
      "metadata": {
        "id": "1rCNd_ZhZmp0"
      },
      "outputs": [],
      "source": [
        "from gtts import gTTS\n",
        "from IPython.display import Audio"
      ]
    },
    {
      "cell_type": "code",
      "source": [
        "def TextToSpeech(text):\n",
        "  tts = gTTS(text)\n",
        "  tts.save(\"1.wav\")\n",
        "  speech = \"1.wav\"\n",
        "  return speech"
      ],
      "metadata": {
        "id": "mx0XfSdBZ5Dn"
      },
      "execution_count": 5,
      "outputs": []
    },
    {
      "cell_type": "code",
      "source": [
        "speech = TextToSpeech(\"Hi Pratiksha, How are you ?\")"
      ],
      "metadata": {
        "id": "UNwskaMqahZC"
      },
      "execution_count": 6,
      "outputs": []
    },
    {
      "cell_type": "code",
      "source": [
        "Audio(speech,autoplay=True)"
      ],
      "metadata": {
        "colab": {
          "base_uri": "https://localhost:8080/",
          "height": 75
        },
        "id": "DDHAAtsjau0g",
        "outputId": "73e7bed7-57f9-4889-b465-7be9cd02d602"
      },
      "execution_count": 7,
      "outputs": [
        {
          "output_type": "execute_result",
          "data": {
            "text/plain": [
              "<IPython.lib.display.Audio object>"
            ],
            "text/html": [
              "\n",
              "                <audio controls=\"controls\" autoplay=\"autoplay\">\n",
              "                    <source src=\"data:audio/x-wav;base64,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\" type=\"audio/x-wav\" />\n",
              "                    Your browser does not support the audio element.\n",
              "                </audio>\n",
              "              "
            ]
          },
          "metadata": {},
          "execution_count": 7
        }
      ]
    },
    {
      "cell_type": "code",
      "source": [
        ""
      ],
      "metadata": {
        "id": "ni8gaiXTlDmL"
      },
      "execution_count": null,
      "outputs": []
    },
    {
      "cell_type": "code",
      "source": [
        "from transformers import pipeline\n",
        "\n",
        "qa = pipeline('question-answering', model='distilbert-base-cased-distilled-squad')\n",
        "\n",
        "print('\\nQuestion:')\n",
        "print(question + '\\n')\n",
        "print('Answer:')\n",
        "a = qa(context=context, question=question)\n"
      ],
      "metadata": {
        "colab": {
          "base_uri": "https://localhost:8080/",
          "height": 264,
          "referenced_widgets": [
            "34711e34e95142bda88831a674d219b0",
            "7f6dab127bcb4ffb86516372e612b6a4",
            "78c725b658c6433db5b901380f454151",
            "00c9d7aa877a43089b412257c61b7343",
            "7c240f2030fa4102b946bad44896f3eb",
            "7c220144a6d74742b97f55d88bace208",
            "586cc245930146f991bfc751f5d0579f",
            "fa1ec6fc461c4c6d9292730141048bd9",
            "bc49c16a47694e5a94a91a7bc23599c8",
            "cae2cc818feb4deabbb58e0845d74b09",
            "be419b9bde3a450e9a046a91ca9c83ad",
            "4ee6569a300441688dcf7ca712779881",
            "449df3a0568b40bfa15ca172f5135477",
            "eea34c00829c48f2a05a264502f286e0",
            "8fc67dc62f19484db4208b535604e054",
            "7c271fe1765a4890a0034a0675c8f89b",
            "9b2c1d5ffddc4f619cd858f38a957b35",
            "c3c9ff3032514709b2dcdb271ef73c21",
            "e341a1354870490c88354ad310f6e64e",
            "355fb45de1934fe49d098c790316d55e",
            "3b20ed4e105c444aaa4824b7190e4cda",
            "f73628f667aa45fca62fb28c5b73fe81",
            "8e4ce0fc08634195b4a19375645add27",
            "4345660905a24bd192d4dbf319d3ca34",
            "26bad14abdb84192aed99c3e40d814de",
            "58ea2b38df274c17972b21a6138d364d",
            "b5ed739dbaf64a08bf1fa349547b13d6",
            "00117fd3cf264ff6afe2de480c39750f",
            "553e5d4e82da4e2fb944fd859d04f25e",
            "7c950f26432c4e2882ab2fe70819dbae",
            "fcbfd1a1c78d412bbdbd8d58b9661653",
            "929a7c96598445d393863d89dc8077f5",
            "b88b34e4fc3a49b9934c3bd0f4c4670f",
            "8e42980641854a6aa11d71fefa84d376",
            "7304cf6c41a9420bb9e2b5cc014f2c34",
            "11e1dc63095b49eb9c0b769fde4862b0",
            "f9ab8947c2de4781884d1ac6a93fc8a4",
            "38e044180c4b4e1e9376933191d9d131",
            "7eacd0d2048c4c3e8de8f3ca484dd6d3",
            "359aa67144ed4edc965c7a2b1f076a6a",
            "09ac56c697074da2843daa88baf04662",
            "cfa10ff23141413aaf4c35de3a424a3c",
            "758a6607f4a94724a2807639c22d041d",
            "491cd7e348b14f9c8a1d3d2ca3230850",
            "0ab9d8ac612146cbb2d21dc768476084",
            "240c088d898f44d69c755885bbadeba4",
            "0e92cec47c124c6e83e86f2da1bae961",
            "0896e9a531e240c5a5829561fad81a44",
            "5e904a0f84d346868d6b5c0fef6032a0",
            "07f17ac0d46b4cd8aca9989a28bf7d49",
            "1f0995653d3444388f3bd50cbb63be2e",
            "9ee14e76b33742eea08cd4ad5ccc04ff",
            "a5b57b565780436e8252394d98195f74",
            "b20d56a5a838442f89ed488c128a69de",
            "390cd3b1563d4dfa877c9e08d55839c8"
          ]
        },
        "id": "vA9CcO1UlDp3",
        "outputId": "d154af99-dcfe-4f88-d81e-1410f500af52"
      },
      "execution_count": 12,
      "outputs": [
        {
          "output_type": "display_data",
          "data": {
            "text/plain": [
              "Downloading:   0%|          | 0.00/473 [00:00<?, ?B/s]"
            ],
            "application/vnd.jupyter.widget-view+json": {
              "version_major": 2,
              "version_minor": 0,
              "model_id": "34711e34e95142bda88831a674d219b0"
            }
          },
          "metadata": {}
        },
        {
          "output_type": "display_data",
          "data": {
            "text/plain": [
              "Downloading:   0%|          | 0.00/249M [00:00<?, ?B/s]"
            ],
            "application/vnd.jupyter.widget-view+json": {
              "version_major": 2,
              "version_minor": 0,
              "model_id": "4ee6569a300441688dcf7ca712779881"
            }
          },
          "metadata": {}
        },
        {
          "output_type": "display_data",
          "data": {
            "text/plain": [
              "Downloading:   0%|          | 0.00/29.0 [00:00<?, ?B/s]"
            ],
            "application/vnd.jupyter.widget-view+json": {
              "version_major": 2,
              "version_minor": 0,
              "model_id": "8e4ce0fc08634195b4a19375645add27"
            }
          },
          "metadata": {}
        },
        {
          "output_type": "display_data",
          "data": {
            "text/plain": [
              "Downloading:   0%|          | 0.00/208k [00:00<?, ?B/s]"
            ],
            "application/vnd.jupyter.widget-view+json": {
              "version_major": 2,
              "version_minor": 0,
              "model_id": "8e42980641854a6aa11d71fefa84d376"
            }
          },
          "metadata": {}
        },
        {
          "output_type": "display_data",
          "data": {
            "text/plain": [
              "Downloading:   0%|          | 0.00/426k [00:00<?, ?B/s]"
            ],
            "application/vnd.jupyter.widget-view+json": {
              "version_major": 2,
              "version_minor": 0,
              "model_id": "0ab9d8ac612146cbb2d21dc768476084"
            }
          },
          "metadata": {}
        },
        {
          "output_type": "stream",
          "name": "stdout",
          "text": [
            "\n",
            "Question:\n",
            "How many aircrafts does Singapore Airlines have?\n",
            "\n",
            "Answer:\n"
          ]
        }
      ]
    },
    {
      "cell_type": "code",
      "source": [
        "speech = TextToSpeech(a['answer'])"
      ],
      "metadata": {
        "id": "BLz-znIklDtq"
      },
      "execution_count": 13,
      "outputs": []
    },
    {
      "cell_type": "code",
      "source": [
        "Audio(speech,autoplay=True)"
      ],
      "metadata": {
        "colab": {
          "base_uri": "https://localhost:8080/",
          "height": 75
        },
        "id": "2wPxYuNxlDxL",
        "outputId": "db4cbd20-bbc0-461d-c236-1f3ede1348f7"
      },
      "execution_count": 14,
      "outputs": [
        {
          "output_type": "execute_result",
          "data": {
            "text/plain": [
              "<IPython.lib.display.Audio object>"
            ],
            "text/html": [
              "\n",
              "                <audio controls=\"controls\" autoplay=\"autoplay\">\n",
              "                    <source src=\"data:audio/x-wav;base64,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\" type=\"audio/x-wav\" />\n",
              "                    Your browser does not support the audio element.\n",
              "                </audio>\n",
              "              "
            ]
          },
          "metadata": {},
          "execution_count": 14
        }
      ]
    }
  ]
}