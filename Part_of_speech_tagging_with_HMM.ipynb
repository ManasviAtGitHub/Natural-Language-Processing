{
  "nbformat": 4,
  "nbformat_minor": 0,
  "metadata": {
    "colab": {
      "name": "Part of speech tagging with HMM.ipynb",
      "provenance": [],
      "authorship_tag": "ABX9TyPCUZzEYg+Sexc2dkZoGsFS",
      "include_colab_link": true
    },
    "kernelspec": {
      "name": "python3",
      "display_name": "Python 3"
    },
    "language_info": {
      "name": "python"
    }
  },
  "cells": [
    {
      "cell_type": "markdown",
      "metadata": {
        "id": "view-in-github",
        "colab_type": "text"
      },
      "source": [
        "<a href=\"https://colab.research.google.com/github/ManasviAtGitHub/Natural-Language-Processing/blob/main/Part_of_speech_tagging_with_HMM.ipynb\" target=\"_parent\"><img src=\"https://colab.research.google.com/assets/colab-badge.svg\" alt=\"Open In Colab\"/></a>"
      ]
    },
    {
      "cell_type": "markdown",
      "source": [
        "Refrences : https://github.com/soheil-mp/Natural-Language-Processing-Tutorials/blob/master/Webinar%2003%20-%20Parts%20of%20Speech%20Tagging%20with%20HMM/Webinar%203%20-%20Parts%20of%20Speech%20Tagging%20with%20HMM.ipynb\n",
        "\n"
      ],
      "metadata": {
        "id": "lBj_1BWPeuqb"
      }
    },
    {
      "cell_type": "markdown",
      "source": [
        "POS Tagging using nltk"
      ],
      "metadata": {
        "id": "IW_aUtLkimMz"
      }
    },
    {
      "cell_type": "code",
      "source": [
        "!pip install pomegranate"
      ],
      "metadata": {
        "colab": {
          "base_uri": "https://localhost:8080/"
        },
        "id": "_YhwhTw0H8Fa",
        "outputId": "f67cea73-83b3-4fd2-bdba-3b3e9b844a5a"
      },
      "execution_count": 1,
      "outputs": [
        {
          "output_type": "stream",
          "name": "stdout",
          "text": [
            "Collecting pomegranate\n",
            "  Downloading pomegranate-0.14.8.tar.gz (4.3 MB)\n",
            "\u001b[K     |████████████████████████████████| 4.3 MB 4.4 MB/s \n",
            "\u001b[?25h  Installing build dependencies ... \u001b[?25l\u001b[?25hdone\n",
            "  Getting requirements to build wheel ... \u001b[?25l\u001b[?25hdone\n",
            "    Preparing wheel metadata ... \u001b[?25l\u001b[?25hdone\n",
            "Requirement already satisfied: scipy>=0.17.0 in /usr/local/lib/python3.7/dist-packages (from pomegranate) (1.4.1)\n",
            "Requirement already satisfied: numpy>=1.20.0 in /usr/local/lib/python3.7/dist-packages (from pomegranate) (1.21.5)\n",
            "Requirement already satisfied: networkx>=2.4 in /usr/local/lib/python3.7/dist-packages (from pomegranate) (2.6.3)\n",
            "Requirement already satisfied: joblib>=0.9.0b4 in /usr/local/lib/python3.7/dist-packages (from pomegranate) (1.1.0)\n",
            "Requirement already satisfied: pyyaml in /usr/local/lib/python3.7/dist-packages (from pomegranate) (3.13)\n",
            "Building wheels for collected packages: pomegranate\n",
            "  Building wheel for pomegranate (PEP 517) ... \u001b[?25l\u001b[?25hdone\n",
            "  Created wheel for pomegranate: filename=pomegranate-0.14.8-cp37-cp37m-linux_x86_64.whl size=15006487 sha256=8054f9efbd72ee38183db1880af7767b31dcd907fbccaf8c491eca3dac701233\n",
            "  Stored in directory: /root/.cache/pip/wheels/24/68/69/0eaab474ef1d65abedcd47de8a38ab21d221d329954d7edd24\n",
            "Successfully built pomegranate\n",
            "Installing collected packages: pomegranate\n",
            "Successfully installed pomegranate-0.14.8\n"
          ]
        }
      ]
    },
    {
      "cell_type": "code",
      "source": [
        "# Importing the libraries\n",
        "import nltk\n",
        "import re\n",
        "import numpy as np\n",
        "import matplotlib.pyplot as plt\n",
        "import pomegranate\n"
      ],
      "metadata": {
        "id": "VaJ0CcqfiYwh"
      },
      "execution_count": 2,
      "outputs": []
    },
    {
      "cell_type": "code",
      "source": [
        "nltk.download('averaged_perceptron_tagger')"
      ],
      "metadata": {
        "colab": {
          "base_uri": "https://localhost:8080/"
        },
        "id": "vVxd5js3iY-x",
        "outputId": "01991993-fc01-44f1-9fca-226f81e7b784"
      },
      "execution_count": 3,
      "outputs": [
        {
          "output_type": "stream",
          "name": "stdout",
          "text": [
            "[nltk_data] Downloading package averaged_perceptron_tagger to\n",
            "[nltk_data]     /root/nltk_data...\n",
            "[nltk_data]   Unzipping taggers/averaged_perceptron_tagger.zip.\n"
          ]
        },
        {
          "output_type": "execute_result",
          "data": {
            "text/plain": [
              "True"
            ]
          },
          "metadata": {},
          "execution_count": 3
        }
      ]
    },
    {
      "cell_type": "code",
      "source": [
        "# Sample text\n",
        "text = \"As I was waiting, a man came out of a side room, and at a glance I was sure he must be Long John.\""
      ],
      "metadata": {
        "id": "X2o2-yJmhvso"
      },
      "execution_count": 4,
      "outputs": []
    },
    {
      "cell_type": "code",
      "source": [
        "# Lower case\n",
        "text = text.lower()\n",
        "\n",
        "# remove punctuation\n",
        "text = re.sub(r\"[^a-zA-Z0-9]\", \" \", text)\n",
        "\n",
        "# Tokenizing\n",
        "text = text.split()\n",
        "print(\"Preprocessed text: \\n\", text)"
      ],
      "metadata": {
        "colab": {
          "base_uri": "https://localhost:8080/"
        },
        "id": "Y5jzEbrMiZBm",
        "outputId": "02d0a94e-face-4790-91f4-b412a793f06a"
      },
      "execution_count": 5,
      "outputs": [
        {
          "output_type": "stream",
          "name": "stdout",
          "text": [
            "Preprocessed text: \n",
            " ['as', 'i', 'was', 'waiting', 'a', 'man', 'came', 'out', 'of', 'a', 'side', 'room', 'and', 'at', 'a', 'glance', 'i', 'was', 'sure', 'he', 'must', 'be', 'long', 'john']\n"
          ]
        }
      ]
    },
    {
      "cell_type": "code",
      "source": [
        "# Parts of speech tagging using NLTK\n",
        "nltk.pos_tag(text)"
      ],
      "metadata": {
        "colab": {
          "base_uri": "https://localhost:8080/"
        },
        "id": "mbOaOUhxiZEm",
        "outputId": "d49b589d-7c2b-475c-c373-3768340777ed"
      },
      "execution_count": 6,
      "outputs": [
        {
          "output_type": "execute_result",
          "data": {
            "text/plain": [
              "[('as', 'IN'),\n",
              " ('i', 'NN'),\n",
              " ('was', 'VBD'),\n",
              " ('waiting', 'VBG'),\n",
              " ('a', 'DT'),\n",
              " ('man', 'NN'),\n",
              " ('came', 'VBD'),\n",
              " ('out', 'IN'),\n",
              " ('of', 'IN'),\n",
              " ('a', 'DT'),\n",
              " ('side', 'NN'),\n",
              " ('room', 'NN'),\n",
              " ('and', 'CC'),\n",
              " ('at', 'IN'),\n",
              " ('a', 'DT'),\n",
              " ('glance', 'NN'),\n",
              " ('i', 'NN'),\n",
              " ('was', 'VBD'),\n",
              " ('sure', 'JJ'),\n",
              " ('he', 'PRP'),\n",
              " ('must', 'MD'),\n",
              " ('be', 'VB'),\n",
              " ('long', 'JJ'),\n",
              " ('john', 'NN')]"
            ]
          },
          "metadata": {},
          "execution_count": 6
        }
      ]
    },
    {
      "cell_type": "markdown",
      "source": [
        "Hidden Markov Model"
      ],
      "metadata": {
        "id": "yti6bOqwije3"
      }
    },
    {
      "cell_type": "code",
      "source": [
        "# Initiaize the Hidden Markov Model (HMM)\n",
        "model = pomegranate.HiddenMarkovModel()"
      ],
      "metadata": {
        "id": "7B86eUfdb-QY"
      },
      "execution_count": 7,
      "outputs": []
    },
    {
      "cell_type": "code",
      "source": [
        "### Emission probabilities\n",
        "\n",
        "# \"Noun\" emission and state\n",
        "emission_noun = pomegranate.DiscreteDistribution({\"mary\": 4/9, \n",
        "                                                  \"jane\": 2/9, \n",
        "                                                  \"will\": 1/9, \n",
        "                                                  \"spot\": 2/9, \n",
        "                                                  \"can\": 0, \n",
        "                                                  \"see\": 0, \n",
        "                                                  \"pat\": 0})\n",
        "state_noun = pomegranate.State(emission_noun, name = \"noun\")\n",
        "\n",
        "\n",
        "\n",
        "\n",
        "# \"Modal\" emission and state\n",
        "emission_modal = pomegranate.DiscreteDistribution({\"mary\": 0, \n",
        "                                                  \"jane\": 0, \n",
        "                                                  \"will\": 3/4, \n",
        "                                                  \"spot\": 0, \n",
        "                                                  \"can\": 1/4, \n",
        "                                                  \"see\": 0, \n",
        "                                                  \"pat\": 0})\n",
        "state_modal = pomegranate.State(emission_noun, name = \"modal\")\n",
        "\n",
        "# \"Verb\" emission and state\n",
        "emission_verb = pomegranate.DiscreteDistribution({\"mary\": 0, \n",
        "                                                  \"jane\": 0, \n",
        "                                                  \"will\": 0, \n",
        "                                                  \"spot\": 1/4, \n",
        "                                                  \"can\": 0, \n",
        "                                                  \"see\": 2/4, \n",
        "                                                  \"pat\": 1/4})\n",
        "state_verb = pomegranate.State(emission_noun, name = \"verb\")"
      ],
      "metadata": {
        "id": "eHA4HLVOb-T6"
      },
      "execution_count": 8,
      "outputs": []
    },
    {
      "cell_type": "code",
      "source": [
        "# Add the states into our HMM model\n",
        "model.add_states(state_noun, state_modal, state_verb)"
      ],
      "metadata": {
        "id": "J44IjtSEb-Xn"
      },
      "execution_count": 9,
      "outputs": []
    },
    {
      "cell_type": "code",
      "source": [
        "### Transition probabilities\n",
        "\n",
        "# Transition probabilities from \"<S>\" to \"noun\", \"modal\", \"verb\"\n",
        "model.add_transition(model.start, state_noun, 3/4)\n",
        "model.add_transition(model.start, state_modal, 1/4)\n",
        "model.add_transition(model.start, state_verb, 0)\n",
        "\n",
        "# Transition probabilities from \"noun\" to \"noun\", modal\", \"verb\"\n",
        "model.add_transition(state_noun, state_noun, 1/9)\n",
        "model.add_transition(state_noun, state_modal, 1/3)\n",
        "model.add_transition(state_noun, state_verb, 1/9)\n",
        "\n",
        "# Transition probabilities from \"modal\" to \"noun\", modal\", \"verb\"\n",
        "model.add_transition(state_modal, state_noun, 1/4)\n",
        "model.add_transition(state_modal, state_modal, 0)\n",
        "model.add_transition(state_modal, state_verb, 3/4)\n",
        "\n",
        "# Transition probabilities from \"verb\" to \"noun\", modal\", \"verb\"\n",
        "model.add_transition(state_verb, state_noun, 1)\n",
        "model.add_transition(state_verb, state_modal, 0)\n",
        "model.add_transition(state_verb, state_verb, 0)\n",
        "\n",
        "# Transition probabilities from \"noun\", modal\", \"verb\" to \"<E>\" \n",
        "model.add_transition(state_noun, model.end, 4/9)\n",
        "model.add_transition(state_modal, model.end, 0)\n",
        "model.add_transition(state_verb, model.end, 0)"
      ],
      "metadata": {
        "id": "KngUngPIb-bW"
      },
      "execution_count": 10,
      "outputs": []
    },
    {
      "cell_type": "code",
      "source": [
        "# Finalize the model\n",
        "model.bake()"
      ],
      "metadata": {
        "id": "3Z_mcqxBb-fY"
      },
      "execution_count": 11,
      "outputs": []
    },
    {
      "cell_type": "code",
      "source": [
        "# Changing \"None-end\" to \"end\"\n",
        "model.states[-1].name = \"<E>\"\n",
        "\n",
        "# Changing \"None-end\" to \"end\"\n",
        "model.states[-2].name = \"<S>\""
      ],
      "metadata": {
        "id": "SOVw2Rm8dYvG"
      },
      "execution_count": 12,
      "outputs": []
    },
    {
      "cell_type": "code",
      "source": [
        "model.states"
      ],
      "metadata": {
        "colab": {
          "base_uri": "https://localhost:8080/"
        },
        "id": "Ma7NUC0EdYzC",
        "outputId": "8ac8ebca-7e60-4ea3-c18b-a0304b5c4bbf"
      },
      "execution_count": null,
      "outputs": [
        {
          "output_type": "execute_result",
          "data": {
            "text/plain": [
              "[{\n",
              "     \"class\" : \"State\",\n",
              "     \"distribution\" : {\n",
              "         \"class\" : \"Distribution\",\n",
              "         \"dtype\" : \"str\",\n",
              "         \"name\" : \"DiscreteDistribution\",\n",
              "         \"parameters\" : [\n",
              "             {\n",
              "                 \"mary\" : 0.4444444444444444,\n",
              "                 \"jane\" : 0.2222222222222222,\n",
              "                 \"will\" : 0.1111111111111111,\n",
              "                 \"spot\" : 0.2222222222222222,\n",
              "                 \"can\" : 0,\n",
              "                 \"see\" : 0,\n",
              "                 \"pat\" : 0\n",
              "             }\n",
              "         ],\n",
              "         \"frozen\" : false\n",
              "     },\n",
              "     \"name\" : \"modal\",\n",
              "     \"weight\" : 1.0\n",
              " }, {\n",
              "     \"class\" : \"State\",\n",
              "     \"distribution\" : {\n",
              "         \"class\" : \"Distribution\",\n",
              "         \"dtype\" : \"str\",\n",
              "         \"name\" : \"DiscreteDistribution\",\n",
              "         \"parameters\" : [\n",
              "             {\n",
              "                 \"mary\" : 0.4444444444444444,\n",
              "                 \"jane\" : 0.2222222222222222,\n",
              "                 \"will\" : 0.1111111111111111,\n",
              "                 \"spot\" : 0.2222222222222222,\n",
              "                 \"can\" : 0,\n",
              "                 \"see\" : 0,\n",
              "                 \"pat\" : 0\n",
              "             }\n",
              "         ],\n",
              "         \"frozen\" : false\n",
              "     },\n",
              "     \"name\" : \"noun\",\n",
              "     \"weight\" : 1.0\n",
              " }, {\n",
              "     \"class\" : \"State\",\n",
              "     \"distribution\" : {\n",
              "         \"class\" : \"Distribution\",\n",
              "         \"dtype\" : \"str\",\n",
              "         \"name\" : \"DiscreteDistribution\",\n",
              "         \"parameters\" : [\n",
              "             {\n",
              "                 \"mary\" : 0.4444444444444444,\n",
              "                 \"jane\" : 0.2222222222222222,\n",
              "                 \"will\" : 0.1111111111111111,\n",
              "                 \"spot\" : 0.2222222222222222,\n",
              "                 \"can\" : 0,\n",
              "                 \"see\" : 0,\n",
              "                 \"pat\" : 0\n",
              "             }\n",
              "         ],\n",
              "         \"frozen\" : false\n",
              "     },\n",
              "     \"name\" : \"verb\",\n",
              "     \"weight\" : 1.0\n",
              " }, {\n",
              "     \"class\" : \"State\",\n",
              "     \"distribution\" : null,\n",
              "     \"name\" : \"<S>\",\n",
              "     \"weight\" : 1.0\n",
              " }, {\n",
              "     \"class\" : \"State\",\n",
              "     \"distribution\" : null,\n",
              "     \"name\" : \"<E>\",\n",
              "     \"weight\" : 1.0\n",
              " }]"
            ]
          },
          "metadata": {},
          "execution_count": 11
        }
      ]
    },
    {
      "cell_type": "code",
      "source": [
        "# Sample text\n",
        "text = \"Jane will spot Will.\"\n",
        "print(text)"
      ],
      "metadata": {
        "colab": {
          "base_uri": "https://localhost:8080/"
        },
        "id": "UbhNm-LedY3C",
        "outputId": "ad3fd188-1b6d-41ab-df3b-d93b9a97480a"
      },
      "execution_count": 13,
      "outputs": [
        {
          "output_type": "stream",
          "name": "stdout",
          "text": [
            "Jane will spot Will.\n"
          ]
        }
      ]
    },
    {
      "cell_type": "code",
      "source": [
        "### Preprocessing the text\n",
        "\n",
        "# Lower case\n",
        "text = text.lower()\n",
        "\n",
        "# remove punctuation\n",
        "text = re.sub(r\"[^a-zA-Z0-9]\", \" \", text)\n",
        "\n",
        "# Tokenizing\n",
        "text = text.split()\n",
        "print(\"Preprocessed text: \\n\", text)"
      ],
      "metadata": {
        "colab": {
          "base_uri": "https://localhost:8080/"
        },
        "id": "TdkHcLavdY60",
        "outputId": "618bc7fb-d1fe-4761-90ff-7e49ec65c851"
      },
      "execution_count": 14,
      "outputs": [
        {
          "output_type": "stream",
          "name": "stdout",
          "text": [
            "Preprocessed text: \n",
            " ['jane', 'will', 'spot', 'will']\n"
          ]
        }
      ]
    },
    {
      "cell_type": "code",
      "source": [
        "### Prediction\n",
        "viterbi_likelihood, viterbi_path = model.viterbi(text)"
      ],
      "metadata": {
        "id": "-myhu-UBNzLK"
      },
      "execution_count": 16,
      "outputs": []
    },
    {
      "cell_type": "code",
      "source": [
        "viterbi_path"
      ],
      "metadata": {
        "colab": {
          "base_uri": "https://localhost:8080/"
        },
        "id": "lpegLhB9N07P",
        "outputId": "2bb02e67-fd88-41f5-9f06-70fa8585b5bf"
      },
      "execution_count": 17,
      "outputs": [
        {
          "output_type": "execute_result",
          "data": {
            "text/plain": [
              "[(3, {\n",
              "      \"class\" : \"State\",\n",
              "      \"distribution\" : null,\n",
              "      \"name\" : \"<S>\",\n",
              "      \"weight\" : 1.0\n",
              "  }), (1, {\n",
              "      \"class\" : \"State\",\n",
              "      \"distribution\" : {\n",
              "          \"class\" : \"Distribution\",\n",
              "          \"dtype\" : \"str\",\n",
              "          \"name\" : \"DiscreteDistribution\",\n",
              "          \"parameters\" : [\n",
              "              {\n",
              "                  \"mary\" : 0.4444444444444444,\n",
              "                  \"jane\" : 0.2222222222222222,\n",
              "                  \"will\" : 0.1111111111111111,\n",
              "                  \"spot\" : 0.2222222222222222,\n",
              "                  \"can\" : 0,\n",
              "                  \"see\" : 0,\n",
              "                  \"pat\" : 0\n",
              "              }\n",
              "          ],\n",
              "          \"frozen\" : false\n",
              "      },\n",
              "      \"name\" : \"noun\",\n",
              "      \"weight\" : 1.0\n",
              "  }), (0, {\n",
              "      \"class\" : \"State\",\n",
              "      \"distribution\" : {\n",
              "          \"class\" : \"Distribution\",\n",
              "          \"dtype\" : \"str\",\n",
              "          \"name\" : \"DiscreteDistribution\",\n",
              "          \"parameters\" : [\n",
              "              {\n",
              "                  \"mary\" : 0.4444444444444444,\n",
              "                  \"jane\" : 0.2222222222222222,\n",
              "                  \"will\" : 0.1111111111111111,\n",
              "                  \"spot\" : 0.2222222222222222,\n",
              "                  \"can\" : 0,\n",
              "                  \"see\" : 0,\n",
              "                  \"pat\" : 0\n",
              "              }\n",
              "          ],\n",
              "          \"frozen\" : false\n",
              "      },\n",
              "      \"name\" : \"modal\",\n",
              "      \"weight\" : 1.0\n",
              "  }), (2, {\n",
              "      \"class\" : \"State\",\n",
              "      \"distribution\" : {\n",
              "          \"class\" : \"Distribution\",\n",
              "          \"dtype\" : \"str\",\n",
              "          \"name\" : \"DiscreteDistribution\",\n",
              "          \"parameters\" : [\n",
              "              {\n",
              "                  \"mary\" : 0.4444444444444444,\n",
              "                  \"jane\" : 0.2222222222222222,\n",
              "                  \"will\" : 0.1111111111111111,\n",
              "                  \"spot\" : 0.2222222222222222,\n",
              "                  \"can\" : 0,\n",
              "                  \"see\" : 0,\n",
              "                  \"pat\" : 0\n",
              "              }\n",
              "          ],\n",
              "          \"frozen\" : false\n",
              "      },\n",
              "      \"name\" : \"verb\",\n",
              "      \"weight\" : 1.0\n",
              "  }), (1, {\n",
              "      \"class\" : \"State\",\n",
              "      \"distribution\" : {\n",
              "          \"class\" : \"Distribution\",\n",
              "          \"dtype\" : \"str\",\n",
              "          \"name\" : \"DiscreteDistribution\",\n",
              "          \"parameters\" : [\n",
              "              {\n",
              "                  \"mary\" : 0.4444444444444444,\n",
              "                  \"jane\" : 0.2222222222222222,\n",
              "                  \"will\" : 0.1111111111111111,\n",
              "                  \"spot\" : 0.2222222222222222,\n",
              "                  \"can\" : 0,\n",
              "                  \"see\" : 0,\n",
              "                  \"pat\" : 0\n",
              "              }\n",
              "          ],\n",
              "          \"frozen\" : false\n",
              "      },\n",
              "      \"name\" : \"noun\",\n",
              "      \"weight\" : 1.0\n",
              "  }), (4, {\n",
              "      \"class\" : \"State\",\n",
              "      \"distribution\" : null,\n",
              "      \"name\" : \"<E>\",\n",
              "      \"weight\" : 1.0\n",
              "  })]"
            ]
          },
          "metadata": {},
          "execution_count": 17
        }
      ]
    },
    {
      "cell_type": "code",
      "source": [
        "\n",
        "# Get the final viterbi path\n",
        "viterbi_path = [i_state[1].name for i_state in viterbi_path]\n",
        "\n",
        "print(\"The most likely sequence: \\n\", viterbi_path, \"\\n\")"
      ],
      "metadata": {
        "colab": {
          "base_uri": "https://localhost:8080/"
        },
        "id": "uDIO-rtLdY-P",
        "outputId": "9559b55c-cd96-4973-8c4b-15ac92d13364"
      },
      "execution_count": 18,
      "outputs": [
        {
          "output_type": "stream",
          "name": "stdout",
          "text": [
            "The most likely sequence: \n",
            " ['<S>', 'noun', 'modal', 'verb', 'noun', '<E>'] \n",
            "\n"
          ]
        }
      ]
    },
    {
      "cell_type": "code",
      "source": [
        ""
      ],
      "metadata": {
        "id": "wWjYVm8MNvWs"
      },
      "execution_count": null,
      "outputs": []
    },
    {
      "cell_type": "code",
      "source": [
        "print(\"With likelihood of (approximate):\\n {:.3f}%\".format(np.exp(viterbi_likelihood)*100))"
      ],
      "metadata": {
        "colab": {
          "base_uri": "https://localhost:8080/"
        },
        "id": "9C_qDuIddZCL",
        "outputId": "4f2114f5-321d-4092-fb78-8965a58f21d9"
      },
      "execution_count": 19,
      "outputs": [
        {
          "output_type": "stream",
          "name": "stdout",
          "text": [
            "With likelihood of (approximate):\n",
            " 0.005%\n"
          ]
        }
      ]
    },
    {
      "cell_type": "code",
      "source": [
        ""
      ],
      "metadata": {
        "id": "lJMTyKDTdZHZ"
      },
      "execution_count": null,
      "outputs": []
    },
    {
      "cell_type": "code",
      "source": [
        ""
      ],
      "metadata": {
        "id": "Ja7X3EwRb-jK"
      },
      "execution_count": null,
      "outputs": []
    },
    {
      "cell_type": "code",
      "source": [
        ""
      ],
      "metadata": {
        "id": "tkIWF2QTb-m2"
      },
      "execution_count": null,
      "outputs": []
    },
    {
      "cell_type": "code",
      "source": [
        ""
      ],
      "metadata": {
        "id": "HTrEQfI4b-qg"
      },
      "execution_count": null,
      "outputs": []
    }
  ]
}