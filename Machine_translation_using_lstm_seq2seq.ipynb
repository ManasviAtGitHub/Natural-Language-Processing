{
  "cells": [
    {
      "cell_type": "markdown",
      "metadata": {
        "id": "view-in-github",
        "colab_type": "text"
      },
      "source": [
        "<a href=\"https://colab.research.google.com/github/ManasviAtGitHub/Natural-Language-Processing/blob/main/Machine_translation_using_lstm_seq2seq.ipynb\" target=\"_parent\"><img src=\"https://colab.research.google.com/assets/colab-badge.svg\" alt=\"Open In Colab\"/></a>"
      ]
    },
    {
      "cell_type": "markdown",
      "metadata": {
        "id": "Vx3xHI4fLHrW"
      },
      "source": [
        "# Character-level recurrent sequence-to-sequence model\n",
        "\n",
        "**Reference:** https://blog.keras.io/a-ten-minute-introduction-to-sequence-to-sequence-learning-in-keras.html\n"
      ]
    },
    {
      "cell_type": "code",
      "source": [
        ""
      ],
      "metadata": {
        "id": "hTAb8lC9XNtP"
      },
      "execution_count": null,
      "outputs": []
    },
    {
      "cell_type": "markdown",
      "metadata": {
        "id": "aVfRWYDRLHrZ"
      },
      "source": [
        "## Introduction\n",
        "\n",
        "This example demonstrates how to implement a basic character-level\n",
        "recurrent sequence-to-sequence model. We apply it to translating\n",
        "short English sentences into short French sentences,\n",
        "character-by-character. Note that it is fairly unusual to\n",
        "do character-level machine translation, as word-level\n",
        "models are more common in this domain.\n",
        "\n",
        "**Summary of the algorithm**\n",
        "\n",
        "- We start with input sequences from a domain (e.g. English sentences)\n",
        "    and corresponding target sequences from another domain\n",
        "    (e.g. French sentences).\n",
        "- An encoder LSTM turns input sequences to 2 state vectors\n",
        "    (we keep the last LSTM state and discard the outputs).\n",
        "- A decoder LSTM is trained to turn the target sequences into\n",
        "    the same sequence but offset by one timestep in the future,\n",
        "    a training process called \"teacher forcing\" in this context.\n",
        "    It uses as initial state the state vectors from the encoder.\n",
        "    Effectively, the decoder learns to generate `targets[t+1...]`\n",
        "    given `targets[...t]`, conditioned on the input sequence.\n",
        "- In inference mode, when we want to decode unknown input sequences, we:\n",
        "    - Encode the input sequence into state vectors\n",
        "    - Start with a target sequence of size 1\n",
        "        (just the start-of-sequence character)\n",
        "    - Feed the state vectors and 1-char target sequence\n",
        "        to the decoder to produce predictions for the next character\n",
        "    - Sample the next character using these predictions\n",
        "        (we simply use argmax).\n",
        "    - Append the sampled character to the target sequence\n",
        "    - Repeat until we generate the end-of-sequence character or we\n",
        "        hit the character limit.\n"
      ]
    },
    {
      "cell_type": "markdown",
      "metadata": {
        "id": "jXif5lavLHra"
      },
      "source": [
        "## Setup\n"
      ]
    },
    {
      "cell_type": "code",
      "execution_count": null,
      "metadata": {
        "id": "6rk__tfbLHrb"
      },
      "outputs": [],
      "source": [
        "import numpy as np\n",
        "import tensorflow as tf\n",
        "from tensorflow import keras\n"
      ]
    },
    {
      "cell_type": "markdown",
      "metadata": {
        "id": "aoj9SjckLHrc"
      },
      "source": [
        "## Download the data\n"
      ]
    },
    {
      "cell_type": "code",
      "execution_count": null,
      "metadata": {
        "id": "uWNP5Aa5LHrc",
        "colab": {
          "base_uri": "https://localhost:8080/"
        },
        "outputId": "6e8285d4-f775-459c-c86a-dec77953d1ed"
      },
      "outputs": [
        {
          "output_type": "execute_result",
          "data": {
            "text/plain": [
              "['Archive:  spa-eng.zip',\n",
              " 'replace _about.txt? [y]es, [n]o, [A]ll, [N]one, [r]ename: y',\n",
              " '  inflating: _about.txt              ',\n",
              " '  inflating: spa.txt                 ']"
            ]
          },
          "metadata": {},
          "execution_count": 13
        }
      ],
      "source": [
        "!!curl -O http://www.manythings.org/anki/spa-eng.zip\n",
        "!!unzip spa-eng.zip\n"
      ]
    },
    {
      "cell_type": "markdown",
      "metadata": {
        "id": "5m-NbQQ6LHrd"
      },
      "source": [
        "## Configuration\n"
      ]
    },
    {
      "cell_type": "code",
      "execution_count": null,
      "metadata": {
        "id": "EAGU7GfvLHrd"
      },
      "outputs": [],
      "source": [
        "batch_size = 64  # Batch size for training.\n",
        "epochs = 100  # Number of epochs to train for.\n",
        "latent_dim = 256  # Latent dimensionality of the encoding space.\n",
        "num_samples = 10000  # Number of samples to train on.\n",
        "# Path to the data txt file on disk.\n",
        "data_path = \"spa.txt\"\n"
      ]
    },
    {
      "cell_type": "markdown",
      "metadata": {
        "id": "FvGuRcsgLHre"
      },
      "source": [
        "## Prepare the data\n"
      ]
    },
    {
      "cell_type": "code",
      "execution_count": null,
      "metadata": {
        "id": "zElYrMnALHre",
        "colab": {
          "base_uri": "https://localhost:8080/"
        },
        "outputId": "32c8a2f9-58eb-4db6-bf21-bdc31922b4c0"
      },
      "outputs": [
        {
          "output_type": "stream",
          "name": "stdout",
          "text": [
            "Number of samples: 10000\n",
            "Number of unique input tokens: 69\n",
            "Number of unique output tokens: 84\n",
            "Max sequence length for inputs: 16\n",
            "Max sequence length for outputs: 42\n"
          ]
        }
      ],
      "source": [
        "# Vectorize the data.\n",
        "input_texts = []\n",
        "target_texts = []\n",
        "input_characters = set()\n",
        "target_characters = set()\n",
        "with open(data_path, \"r\", encoding=\"utf-8\") as f:\n",
        "    lines = f.read().split(\"\\n\")\n",
        "for line in lines[: min(num_samples, len(lines) - 1)]:\n",
        "    input_text, target_text, _ = line.split(\"\\t\")\n",
        "    # We use \"tab\" as the \"start sequence\" character\n",
        "    # for the targets, and \"\\n\" as \"end sequence\" character.\n",
        "    target_text = \"\\t\" + target_text + \"\\n\"\n",
        "    input_texts.append(input_text)\n",
        "    target_texts.append(target_text)\n",
        "    for char in input_text:\n",
        "        if char not in input_characters:\n",
        "            input_characters.add(char)\n",
        "    for char in target_text:\n",
        "        if char not in target_characters:\n",
        "            target_characters.add(char)\n",
        "\n",
        "input_characters = sorted(list(input_characters))\n",
        "target_characters = sorted(list(target_characters))\n",
        "num_encoder_tokens = len(input_characters)\n",
        "num_decoder_tokens = len(target_characters)\n",
        "max_encoder_seq_length = max([len(txt) for txt in input_texts])\n",
        "max_decoder_seq_length = max([len(txt) for txt in target_texts])\n",
        "\n",
        "print(\"Number of samples:\", len(input_texts))\n",
        "print(\"Number of unique input tokens:\", num_encoder_tokens)\n",
        "print(\"Number of unique output tokens:\", num_decoder_tokens)\n",
        "print(\"Max sequence length for inputs:\", max_encoder_seq_length)\n",
        "print(\"Max sequence length for outputs:\", max_decoder_seq_length)\n",
        "\n",
        "input_token_index = dict([(char, i) for i, char in enumerate(input_characters)])\n",
        "target_token_index = dict([(char, i) for i, char in enumerate(target_characters)])\n",
        "\n",
        "encoder_input_data = np.zeros(\n",
        "    (len(input_texts), max_encoder_seq_length, num_encoder_tokens), dtype=\"float32\"\n",
        ")\n",
        "decoder_input_data = np.zeros(\n",
        "    (len(input_texts), max_decoder_seq_length, num_decoder_tokens), dtype=\"float32\"\n",
        ")\n",
        "decoder_target_data = np.zeros(\n",
        "    (len(input_texts), max_decoder_seq_length, num_decoder_tokens), dtype=\"float32\"\n",
        ")\n",
        "\n",
        "for i, (input_text, target_text) in enumerate(zip(input_texts, target_texts)):\n",
        "    for t, char in enumerate(input_text):\n",
        "        encoder_input_data[i, t, input_token_index[char]] = 1.0\n",
        "    encoder_input_data[i, t + 1 :, input_token_index[\" \"]] = 1.0\n",
        "    for t, char in enumerate(target_text):\n",
        "        # decoder_target_data is ahead of decoder_input_data by one timestep\n",
        "        decoder_input_data[i, t, target_token_index[char]] = 1.0\n",
        "        if t > 0:\n",
        "            # decoder_target_data will be ahead by one timestep\n",
        "            # and will not include the start character.\n",
        "            decoder_target_data[i, t - 1, target_token_index[char]] = 1.0\n",
        "    decoder_input_data[i, t + 1 :, target_token_index[\" \"]] = 1.0\n",
        "    decoder_target_data[i, t:, target_token_index[\" \"]] = 1.0\n"
      ]
    },
    {
      "cell_type": "markdown",
      "metadata": {
        "id": "tdWdDvgULHrf"
      },
      "source": [
        "## Build the model\n"
      ]
    },
    {
      "cell_type": "code",
      "execution_count": null,
      "metadata": {
        "id": "AG2HOBSBLHrf"
      },
      "outputs": [],
      "source": [
        "# Define an input sequence and process it.\n",
        "encoder_inputs = keras.Input(shape=(None, num_encoder_tokens))\n",
        "encoder = keras.layers.LSTM(latent_dim, return_state=True)\n",
        "encoder_outputs, state_h, state_c = encoder(encoder_inputs)\n",
        "\n",
        "# We discard `encoder_outputs` and only keep the states.\n",
        "encoder_states = [state_h, state_c]\n",
        "\n",
        "# Set up the decoder, using `encoder_states` as initial state.\n",
        "decoder_inputs = keras.Input(shape=(None, num_decoder_tokens))\n",
        "\n",
        "# We set up our decoder to return full output sequences,\n",
        "# and to return internal states as well. We don't use the\n",
        "# return states in the training model, but we will use them in inference.\n",
        "decoder_lstm = keras.layers.LSTM(latent_dim, return_sequences=True, return_state=True)\n",
        "decoder_outputs, _, _ = decoder_lstm(decoder_inputs, initial_state=encoder_states)\n",
        "decoder_dense = keras.layers.Dense(num_decoder_tokens, activation=\"softmax\")\n",
        "decoder_outputs = decoder_dense(decoder_outputs)\n",
        "\n",
        "# Define the model that will turn\n",
        "# `encoder_input_data` & `decoder_input_data` into `decoder_target_data`\n",
        "model = keras.Model([encoder_inputs, decoder_inputs], decoder_outputs)\n"
      ]
    },
    {
      "cell_type": "markdown",
      "metadata": {
        "id": "ACJdMMx_LHrg"
      },
      "source": [
        "## Train the model\n"
      ]
    },
    {
      "cell_type": "code",
      "execution_count": null,
      "metadata": {
        "id": "wzrtiPgFLHrg",
        "colab": {
          "base_uri": "https://localhost:8080/"
        },
        "outputId": "f667c619-df44-4f9c-d0cf-8aeca983c94c"
      },
      "outputs": [
        {
          "output_type": "stream",
          "name": "stdout",
          "text": [
            "Epoch 1/100\n",
            "125/125 [==============================] - 4s 17ms/step - loss: 1.3973 - accuracy: 0.6657 - val_loss: 1.2963 - val_accuracy: 0.6380\n",
            "Epoch 2/100\n",
            "125/125 [==============================] - 1s 10ms/step - loss: 1.0143 - accuracy: 0.7227 - val_loss: 1.0444 - val_accuracy: 0.7028\n",
            "Epoch 3/100\n",
            "125/125 [==============================] - 1s 10ms/step - loss: 0.8531 - accuracy: 0.7555 - val_loss: 0.9479 - val_accuracy: 0.7148\n",
            "Epoch 4/100\n",
            "125/125 [==============================] - 1s 10ms/step - loss: 0.7744 - accuracy: 0.7692 - val_loss: 0.8665 - val_accuracy: 0.7407\n",
            "Epoch 5/100\n",
            "125/125 [==============================] - 1s 10ms/step - loss: 0.7168 - accuracy: 0.7854 - val_loss: 0.8105 - val_accuracy: 0.7583\n",
            "Epoch 6/100\n",
            "125/125 [==============================] - 1s 10ms/step - loss: 0.6724 - accuracy: 0.7981 - val_loss: 0.7672 - val_accuracy: 0.7689\n",
            "Epoch 7/100\n",
            "125/125 [==============================] - 1s 10ms/step - loss: 0.6371 - accuracy: 0.8081 - val_loss: 0.7435 - val_accuracy: 0.7783\n",
            "Epoch 8/100\n",
            "125/125 [==============================] - 1s 10ms/step - loss: 0.6068 - accuracy: 0.8169 - val_loss: 0.7219 - val_accuracy: 0.7838\n",
            "Epoch 9/100\n",
            "125/125 [==============================] - 1s 10ms/step - loss: 0.5788 - accuracy: 0.8255 - val_loss: 0.6985 - val_accuracy: 0.7893\n",
            "Epoch 10/100\n",
            "125/125 [==============================] - 1s 10ms/step - loss: 0.5544 - accuracy: 0.8330 - val_loss: 0.6800 - val_accuracy: 0.7960\n",
            "Epoch 11/100\n",
            "125/125 [==============================] - 1s 10ms/step - loss: 0.5321 - accuracy: 0.8397 - val_loss: 0.6645 - val_accuracy: 0.8017\n",
            "Epoch 12/100\n",
            "125/125 [==============================] - 1s 10ms/step - loss: 0.5111 - accuracy: 0.8457 - val_loss: 0.6618 - val_accuracy: 0.8025\n",
            "Epoch 13/100\n",
            "125/125 [==============================] - 1s 10ms/step - loss: 0.4915 - accuracy: 0.8515 - val_loss: 0.6428 - val_accuracy: 0.8073\n",
            "Epoch 14/100\n",
            "125/125 [==============================] - 1s 10ms/step - loss: 0.4735 - accuracy: 0.8570 - val_loss: 0.6358 - val_accuracy: 0.8123\n",
            "Epoch 15/100\n",
            "125/125 [==============================] - 1s 10ms/step - loss: 0.4568 - accuracy: 0.8624 - val_loss: 0.6263 - val_accuracy: 0.8137\n",
            "Epoch 16/100\n",
            "125/125 [==============================] - 1s 10ms/step - loss: 0.4406 - accuracy: 0.8672 - val_loss: 0.6195 - val_accuracy: 0.8181\n",
            "Epoch 17/100\n",
            "125/125 [==============================] - 1s 10ms/step - loss: 0.4254 - accuracy: 0.8720 - val_loss: 0.6132 - val_accuracy: 0.8198\n",
            "Epoch 18/100\n",
            "125/125 [==============================] - 1s 10ms/step - loss: 0.4108 - accuracy: 0.8760 - val_loss: 0.6158 - val_accuracy: 0.8185\n",
            "Epoch 19/100\n",
            "125/125 [==============================] - 1s 10ms/step - loss: 0.3970 - accuracy: 0.8804 - val_loss: 0.6121 - val_accuracy: 0.8211\n",
            "Epoch 20/100\n",
            "125/125 [==============================] - 1s 10ms/step - loss: 0.3837 - accuracy: 0.8843 - val_loss: 0.6089 - val_accuracy: 0.8231\n",
            "Epoch 21/100\n",
            "125/125 [==============================] - 1s 10ms/step - loss: 0.3709 - accuracy: 0.8880 - val_loss: 0.6121 - val_accuracy: 0.8233\n",
            "Epoch 22/100\n",
            "125/125 [==============================] - 1s 10ms/step - loss: 0.3589 - accuracy: 0.8917 - val_loss: 0.6086 - val_accuracy: 0.8257\n",
            "Epoch 23/100\n",
            "125/125 [==============================] - 1s 10ms/step - loss: 0.3471 - accuracy: 0.8956 - val_loss: 0.6093 - val_accuracy: 0.8258\n",
            "Epoch 24/100\n",
            "125/125 [==============================] - 1s 10ms/step - loss: 0.3352 - accuracy: 0.8987 - val_loss: 0.6135 - val_accuracy: 0.8259\n",
            "Epoch 25/100\n",
            "125/125 [==============================] - 1s 10ms/step - loss: 0.3245 - accuracy: 0.9024 - val_loss: 0.6150 - val_accuracy: 0.8257\n",
            "Epoch 26/100\n",
            "125/125 [==============================] - 1s 10ms/step - loss: 0.3133 - accuracy: 0.9055 - val_loss: 0.6146 - val_accuracy: 0.8266\n",
            "Epoch 27/100\n",
            "125/125 [==============================] - 1s 10ms/step - loss: 0.3028 - accuracy: 0.9089 - val_loss: 0.6218 - val_accuracy: 0.8273\n",
            "Epoch 28/100\n",
            "125/125 [==============================] - 1s 10ms/step - loss: 0.2927 - accuracy: 0.9117 - val_loss: 0.6313 - val_accuracy: 0.8249\n",
            "Epoch 29/100\n",
            "125/125 [==============================] - 1s 10ms/step - loss: 0.2830 - accuracy: 0.9145 - val_loss: 0.6260 - val_accuracy: 0.8277\n",
            "Epoch 30/100\n",
            "125/125 [==============================] - 1s 10ms/step - loss: 0.2736 - accuracy: 0.9176 - val_loss: 0.6369 - val_accuracy: 0.8262\n",
            "Epoch 31/100\n",
            "125/125 [==============================] - 1s 10ms/step - loss: 0.2641 - accuracy: 0.9205 - val_loss: 0.6413 - val_accuracy: 0.8276\n",
            "Epoch 32/100\n",
            "125/125 [==============================] - 1s 10ms/step - loss: 0.2554 - accuracy: 0.9229 - val_loss: 0.6434 - val_accuracy: 0.8282\n",
            "Epoch 33/100\n",
            "125/125 [==============================] - 1s 10ms/step - loss: 0.2467 - accuracy: 0.9258 - val_loss: 0.6508 - val_accuracy: 0.8279\n",
            "Epoch 34/100\n",
            "125/125 [==============================] - 1s 10ms/step - loss: 0.2384 - accuracy: 0.9282 - val_loss: 0.6555 - val_accuracy: 0.8273\n",
            "Epoch 35/100\n",
            "125/125 [==============================] - 1s 10ms/step - loss: 0.2304 - accuracy: 0.9304 - val_loss: 0.6625 - val_accuracy: 0.8273\n",
            "Epoch 36/100\n",
            "125/125 [==============================] - 1s 10ms/step - loss: 0.2228 - accuracy: 0.9327 - val_loss: 0.6700 - val_accuracy: 0.8261\n",
            "Epoch 37/100\n",
            "125/125 [==============================] - 1s 10ms/step - loss: 0.2150 - accuracy: 0.9354 - val_loss: 0.6788 - val_accuracy: 0.8262\n",
            "Epoch 38/100\n",
            "125/125 [==============================] - 1s 10ms/step - loss: 0.2076 - accuracy: 0.9371 - val_loss: 0.6813 - val_accuracy: 0.8268\n",
            "Epoch 39/100\n",
            "125/125 [==============================] - 1s 10ms/step - loss: 0.2010 - accuracy: 0.9393 - val_loss: 0.6918 - val_accuracy: 0.8262\n",
            "Epoch 40/100\n",
            "125/125 [==============================] - 1s 10ms/step - loss: 0.1945 - accuracy: 0.9414 - val_loss: 0.7012 - val_accuracy: 0.8266\n",
            "Epoch 41/100\n",
            "125/125 [==============================] - 1s 10ms/step - loss: 0.1883 - accuracy: 0.9435 - val_loss: 0.7090 - val_accuracy: 0.8258\n",
            "Epoch 42/100\n",
            "125/125 [==============================] - 1s 10ms/step - loss: 0.1819 - accuracy: 0.9454 - val_loss: 0.7146 - val_accuracy: 0.8256\n",
            "Epoch 43/100\n",
            "125/125 [==============================] - 1s 10ms/step - loss: 0.1753 - accuracy: 0.9477 - val_loss: 0.7264 - val_accuracy: 0.8245\n",
            "Epoch 44/100\n",
            "125/125 [==============================] - 1s 10ms/step - loss: 0.1701 - accuracy: 0.9491 - val_loss: 0.7407 - val_accuracy: 0.8251\n",
            "Epoch 45/100\n",
            "125/125 [==============================] - 1s 10ms/step - loss: 0.1644 - accuracy: 0.9504 - val_loss: 0.7479 - val_accuracy: 0.8241\n",
            "Epoch 46/100\n",
            "125/125 [==============================] - 1s 12ms/step - loss: 0.1594 - accuracy: 0.9520 - val_loss: 0.7554 - val_accuracy: 0.8243\n",
            "Epoch 47/100\n",
            "125/125 [==============================] - 1s 10ms/step - loss: 0.1539 - accuracy: 0.9538 - val_loss: 0.7618 - val_accuracy: 0.8253\n",
            "Epoch 48/100\n",
            "125/125 [==============================] - 1s 10ms/step - loss: 0.1491 - accuracy: 0.9551 - val_loss: 0.7701 - val_accuracy: 0.8227\n",
            "Epoch 49/100\n",
            "125/125 [==============================] - 1s 10ms/step - loss: 0.1446 - accuracy: 0.9564 - val_loss: 0.7818 - val_accuracy: 0.8226\n",
            "Epoch 50/100\n",
            "125/125 [==============================] - 1s 10ms/step - loss: 0.1399 - accuracy: 0.9577 - val_loss: 0.7800 - val_accuracy: 0.8246\n",
            "Epoch 51/100\n",
            "125/125 [==============================] - 1s 10ms/step - loss: 0.1360 - accuracy: 0.9592 - val_loss: 0.7988 - val_accuracy: 0.8225\n",
            "Epoch 52/100\n",
            "125/125 [==============================] - 1s 10ms/step - loss: 0.1317 - accuracy: 0.9602 - val_loss: 0.8080 - val_accuracy: 0.8223\n",
            "Epoch 53/100\n",
            "125/125 [==============================] - 1s 10ms/step - loss: 0.1278 - accuracy: 0.9616 - val_loss: 0.8098 - val_accuracy: 0.8222\n",
            "Epoch 54/100\n",
            "125/125 [==============================] - 1s 11ms/step - loss: 0.1242 - accuracy: 0.9627 - val_loss: 0.8234 - val_accuracy: 0.8231\n",
            "Epoch 55/100\n",
            "125/125 [==============================] - 1s 10ms/step - loss: 0.1204 - accuracy: 0.9637 - val_loss: 0.8314 - val_accuracy: 0.8220\n",
            "Epoch 56/100\n",
            "125/125 [==============================] - 1s 10ms/step - loss: 0.1167 - accuracy: 0.9649 - val_loss: 0.8355 - val_accuracy: 0.8215\n",
            "Epoch 57/100\n",
            "125/125 [==============================] - 1s 11ms/step - loss: 0.1131 - accuracy: 0.9660 - val_loss: 0.8398 - val_accuracy: 0.8223\n",
            "Epoch 58/100\n",
            "125/125 [==============================] - 1s 10ms/step - loss: 0.1102 - accuracy: 0.9668 - val_loss: 0.8528 - val_accuracy: 0.8219\n",
            "Epoch 59/100\n",
            "125/125 [==============================] - 1s 11ms/step - loss: 0.1074 - accuracy: 0.9676 - val_loss: 0.8587 - val_accuracy: 0.8222\n",
            "Epoch 60/100\n",
            "125/125 [==============================] - 1s 10ms/step - loss: 0.1042 - accuracy: 0.9684 - val_loss: 0.8638 - val_accuracy: 0.8221\n",
            "Epoch 61/100\n",
            "125/125 [==============================] - 1s 10ms/step - loss: 0.1015 - accuracy: 0.9693 - val_loss: 0.8798 - val_accuracy: 0.8200\n",
            "Epoch 62/100\n",
            "125/125 [==============================] - 1s 10ms/step - loss: 0.0992 - accuracy: 0.9699 - val_loss: 0.8876 - val_accuracy: 0.8206\n",
            "Epoch 63/100\n",
            "125/125 [==============================] - 1s 10ms/step - loss: 0.0960 - accuracy: 0.9708 - val_loss: 0.8882 - val_accuracy: 0.8217\n",
            "Epoch 64/100\n",
            "125/125 [==============================] - 1s 11ms/step - loss: 0.0936 - accuracy: 0.9717 - val_loss: 0.9006 - val_accuracy: 0.8215\n",
            "Epoch 65/100\n",
            "125/125 [==============================] - 1s 10ms/step - loss: 0.0916 - accuracy: 0.9725 - val_loss: 0.9086 - val_accuracy: 0.8205\n",
            "Epoch 66/100\n",
            "125/125 [==============================] - 1s 10ms/step - loss: 0.0889 - accuracy: 0.9732 - val_loss: 0.9110 - val_accuracy: 0.8217\n",
            "Epoch 67/100\n",
            "125/125 [==============================] - 1s 10ms/step - loss: 0.0870 - accuracy: 0.9738 - val_loss: 0.9170 - val_accuracy: 0.8209\n",
            "Epoch 68/100\n",
            "125/125 [==============================] - 1s 11ms/step - loss: 0.0850 - accuracy: 0.9744 - val_loss: 0.9282 - val_accuracy: 0.8215\n",
            "Epoch 69/100\n",
            "125/125 [==============================] - 1s 10ms/step - loss: 0.0835 - accuracy: 0.9746 - val_loss: 0.9262 - val_accuracy: 0.8214\n",
            "Epoch 70/100\n",
            "125/125 [==============================] - 1s 10ms/step - loss: 0.0814 - accuracy: 0.9752 - val_loss: 0.9399 - val_accuracy: 0.8217\n",
            "Epoch 71/100\n",
            "125/125 [==============================] - 1s 10ms/step - loss: 0.0791 - accuracy: 0.9758 - val_loss: 0.9554 - val_accuracy: 0.8209\n",
            "Epoch 72/100\n",
            "125/125 [==============================] - 1s 10ms/step - loss: 0.0773 - accuracy: 0.9764 - val_loss: 0.9564 - val_accuracy: 0.8199\n",
            "Epoch 73/100\n",
            "125/125 [==============================] - 1s 11ms/step - loss: 0.0758 - accuracy: 0.9766 - val_loss: 0.9728 - val_accuracy: 0.8192\n",
            "Epoch 74/100\n",
            "125/125 [==============================] - 1s 10ms/step - loss: 0.0740 - accuracy: 0.9775 - val_loss: 0.9709 - val_accuracy: 0.8202\n",
            "Epoch 75/100\n",
            "125/125 [==============================] - 1s 10ms/step - loss: 0.0725 - accuracy: 0.9779 - val_loss: 0.9812 - val_accuracy: 0.8200\n",
            "Epoch 76/100\n",
            "125/125 [==============================] - 1s 10ms/step - loss: 0.0713 - accuracy: 0.9782 - val_loss: 0.9804 - val_accuracy: 0.8196\n",
            "Epoch 77/100\n",
            "125/125 [==============================] - 1s 10ms/step - loss: 0.0697 - accuracy: 0.9786 - val_loss: 0.9972 - val_accuracy: 0.8187\n",
            "Epoch 78/100\n",
            "125/125 [==============================] - 1s 10ms/step - loss: 0.0681 - accuracy: 0.9792 - val_loss: 0.9936 - val_accuracy: 0.8206\n",
            "Epoch 79/100\n",
            "125/125 [==============================] - 1s 10ms/step - loss: 0.0671 - accuracy: 0.9792 - val_loss: 1.0033 - val_accuracy: 0.8207\n",
            "Epoch 80/100\n",
            "125/125 [==============================] - 1s 10ms/step - loss: 0.0655 - accuracy: 0.9798 - val_loss: 1.0105 - val_accuracy: 0.8199\n",
            "Epoch 81/100\n",
            "125/125 [==============================] - 1s 10ms/step - loss: 0.0647 - accuracy: 0.9800 - val_loss: 1.0173 - val_accuracy: 0.8197\n",
            "Epoch 82/100\n",
            "125/125 [==============================] - 1s 10ms/step - loss: 0.0630 - accuracy: 0.9805 - val_loss: 1.0302 - val_accuracy: 0.8182\n",
            "Epoch 83/100\n",
            "125/125 [==============================] - 1s 10ms/step - loss: 0.0623 - accuracy: 0.9806 - val_loss: 1.0267 - val_accuracy: 0.8195\n",
            "Epoch 84/100\n",
            "125/125 [==============================] - 1s 10ms/step - loss: 0.0610 - accuracy: 0.9811 - val_loss: 1.0314 - val_accuracy: 0.8201\n",
            "Epoch 85/100\n",
            "125/125 [==============================] - 1s 10ms/step - loss: 0.0599 - accuracy: 0.9814 - val_loss: 1.0374 - val_accuracy: 0.8200\n",
            "Epoch 86/100\n",
            "125/125 [==============================] - 1s 10ms/step - loss: 0.0588 - accuracy: 0.9816 - val_loss: 1.0536 - val_accuracy: 0.8181\n",
            "Epoch 87/100\n",
            "125/125 [==============================] - 1s 10ms/step - loss: 0.0579 - accuracy: 0.9819 - val_loss: 1.0489 - val_accuracy: 0.8200\n",
            "Epoch 88/100\n",
            "125/125 [==============================] - 1s 10ms/step - loss: 0.0571 - accuracy: 0.9822 - val_loss: 1.0535 - val_accuracy: 0.8190\n",
            "Epoch 89/100\n",
            "125/125 [==============================] - 1s 10ms/step - loss: 0.0560 - accuracy: 0.9826 - val_loss: 1.0656 - val_accuracy: 0.8196\n",
            "Epoch 90/100\n",
            "125/125 [==============================] - 1s 10ms/step - loss: 0.0554 - accuracy: 0.9826 - val_loss: 1.0618 - val_accuracy: 0.8192\n",
            "Epoch 91/100\n",
            "125/125 [==============================] - 1s 10ms/step - loss: 0.0546 - accuracy: 0.9828 - val_loss: 1.0694 - val_accuracy: 0.8188\n",
            "Epoch 92/100\n",
            "125/125 [==============================] - 1s 10ms/step - loss: 0.0532 - accuracy: 0.9833 - val_loss: 1.0801 - val_accuracy: 0.8192\n",
            "Epoch 93/100\n",
            "125/125 [==============================] - 1s 10ms/step - loss: 0.0527 - accuracy: 0.9835 - val_loss: 1.0843 - val_accuracy: 0.8191\n",
            "Epoch 94/100\n",
            "125/125 [==============================] - 1s 10ms/step - loss: 0.0526 - accuracy: 0.9832 - val_loss: 1.0811 - val_accuracy: 0.8187\n",
            "Epoch 95/100\n",
            "125/125 [==============================] - 1s 10ms/step - loss: 0.0512 - accuracy: 0.9837 - val_loss: 1.0898 - val_accuracy: 0.8194\n",
            "Epoch 96/100\n",
            "125/125 [==============================] - 1s 10ms/step - loss: 0.0501 - accuracy: 0.9842 - val_loss: 1.0938 - val_accuracy: 0.8181\n",
            "Epoch 97/100\n",
            "125/125 [==============================] - 1s 10ms/step - loss: 0.0500 - accuracy: 0.9841 - val_loss: 1.1052 - val_accuracy: 0.8183\n",
            "Epoch 98/100\n",
            "125/125 [==============================] - 1s 10ms/step - loss: 0.0497 - accuracy: 0.9842 - val_loss: 1.0989 - val_accuracy: 0.8192\n",
            "Epoch 99/100\n",
            "125/125 [==============================] - 1s 10ms/step - loss: 0.0488 - accuracy: 0.9843 - val_loss: 1.1082 - val_accuracy: 0.8194\n",
            "Epoch 100/100\n",
            "125/125 [==============================] - 1s 11ms/step - loss: 0.0477 - accuracy: 0.9847 - val_loss: 1.1145 - val_accuracy: 0.8182\n"
          ]
        },
        {
          "output_type": "stream",
          "name": "stderr",
          "text": [
            "WARNING:absl:Found untraced functions such as lstm_cell_4_layer_call_fn, lstm_cell_4_layer_call_and_return_conditional_losses, lstm_cell_5_layer_call_fn, lstm_cell_5_layer_call_and_return_conditional_losses while saving (showing 4 of 4). These functions will not be directly callable after loading.\n"
          ]
        },
        {
          "output_type": "stream",
          "name": "stdout",
          "text": [
            "INFO:tensorflow:Assets written to: s2s/assets\n"
          ]
        },
        {
          "output_type": "stream",
          "name": "stderr",
          "text": [
            "INFO:tensorflow:Assets written to: s2s/assets\n",
            "WARNING:absl:<keras.layers.recurrent.LSTMCell object at 0x7fc3a13fed50> has the same name 'LSTMCell' as a built-in Keras object. Consider renaming <class 'keras.layers.recurrent.LSTMCell'> to avoid naming conflicts when loading with `tf.keras.models.load_model`. If renaming is not possible, pass the object in the `custom_objects` parameter of the load function.\n",
            "WARNING:absl:<keras.layers.recurrent.LSTMCell object at 0x7fc3a1b20b50> has the same name 'LSTMCell' as a built-in Keras object. Consider renaming <class 'keras.layers.recurrent.LSTMCell'> to avoid naming conflicts when loading with `tf.keras.models.load_model`. If renaming is not possible, pass the object in the `custom_objects` parameter of the load function.\n"
          ]
        }
      ],
      "source": [
        "model.compile(\n",
        "    optimizer=\"rmsprop\", loss=\"categorical_crossentropy\", metrics=[\"accuracy\"]\n",
        ")\n",
        "model.fit(\n",
        "    [encoder_input_data, decoder_input_data],\n",
        "    decoder_target_data,\n",
        "    batch_size=batch_size,\n",
        "    epochs=epochs,\n",
        "    validation_split=0.2,\n",
        ")\n",
        "# Save model\n",
        "model.save(\"s2s\")\n"
      ]
    },
    {
      "cell_type": "markdown",
      "metadata": {
        "id": "bagNuRPVLHrg"
      },
      "source": [
        "## Run inference (sampling)\n",
        "\n",
        "1. encode input and retrieve initial decoder state\n",
        "2. run one step of decoder with this initial state\n",
        "and a \"start of sequence\" token as target.\n",
        "Output will be the next target token.\n",
        "3. Repeat with the current target token and current states\n"
      ]
    },
    {
      "cell_type": "code",
      "execution_count": null,
      "metadata": {
        "id": "XaEEbeT-LHrg"
      },
      "outputs": [],
      "source": [
        "# Define sampling models\n",
        "# Restore the model and construct the encoder and decoder.\n",
        "model = keras.models.load_model(\"s2s\")\n",
        "\n",
        "encoder_inputs = model.input[0]  # input_1\n",
        "encoder_outputs, state_h_enc, state_c_enc = model.layers[2].output  # lstm_1\n",
        "encoder_states = [state_h_enc, state_c_enc]\n",
        "encoder_model = keras.Model(encoder_inputs, encoder_states)\n",
        "\n",
        "decoder_inputs = model.input[1]  # input_2\n",
        "decoder_state_input_h = keras.Input(shape=(latent_dim,))\n",
        "decoder_state_input_c = keras.Input(shape=(latent_dim,))\n",
        "decoder_states_inputs = [decoder_state_input_h, decoder_state_input_c]\n",
        "decoder_lstm = model.layers[3]\n",
        "decoder_outputs, state_h_dec, state_c_dec = decoder_lstm(\n",
        "    decoder_inputs, initial_state=decoder_states_inputs\n",
        ")\n",
        "decoder_states = [state_h_dec, state_c_dec]\n",
        "decoder_dense = model.layers[4]\n",
        "decoder_outputs = decoder_dense(decoder_outputs)\n",
        "decoder_model = keras.Model(\n",
        "    [decoder_inputs] + decoder_states_inputs, [decoder_outputs] + decoder_states\n",
        ")\n",
        "\n",
        "# Reverse-lookup token index to decode sequences back to\n",
        "# something readable.\n",
        "reverse_input_char_index = dict((i, char) for char, i in input_token_index.items())\n",
        "reverse_target_char_index = dict((i, char) for char, i in target_token_index.items())\n",
        "\n",
        "\n",
        "def decode_sequence(input_seq):\n",
        "    # Encode the input as state vectors.\n",
        "    states_value = encoder_model.predict(input_seq)\n",
        "\n",
        "    # Generate empty target sequence of length 1.\n",
        "    target_seq = np.zeros((1, 1, num_decoder_tokens))\n",
        "    # Populate the first character of target sequence with the start character.\n",
        "    target_seq[0, 0, target_token_index[\"\\t\"]] = 1.0\n",
        "\n",
        "    # Sampling loop for a batch of sequences\n",
        "    # (to simplify, here we assume a batch of size 1).\n",
        "    stop_condition = False\n",
        "    decoded_sentence = \"\"\n",
        "    while not stop_condition:\n",
        "        output_tokens, h, c = decoder_model.predict([target_seq] + states_value)\n",
        "\n",
        "        # Sample a token\n",
        "        sampled_token_index = np.argmax(output_tokens[0, -1, :])\n",
        "        sampled_char = reverse_target_char_index[sampled_token_index]\n",
        "        decoded_sentence += sampled_char\n",
        "\n",
        "        # Exit condition: either hit max length\n",
        "        # or find stop character.\n",
        "        if sampled_char == \"\\n\" or len(decoded_sentence) > max_decoder_seq_length:\n",
        "            stop_condition = True\n",
        "\n",
        "        # Update the target sequence (of length 1).\n",
        "        target_seq = np.zeros((1, 1, num_decoder_tokens))\n",
        "        target_seq[0, 0, sampled_token_index] = 1.0\n",
        "\n",
        "        # Update states\n",
        "        states_value = [h, c]\n",
        "    return decoded_sentence\n",
        "\n"
      ]
    },
    {
      "cell_type": "markdown",
      "metadata": {
        "id": "xu3ZnZ5LLHrh"
      },
      "source": [
        "You can now generate decoded sentences as such:\n"
      ]
    },
    {
      "cell_type": "code",
      "execution_count": null,
      "metadata": {
        "id": "AqvdTn0dLHrh",
        "colab": {
          "base_uri": "https://localhost:8080/"
        },
        "outputId": "caad5399-89ca-4e52-ea76-df7049a3cc9f"
      },
      "outputs": [
        {
          "output_type": "stream",
          "name": "stdout",
          "text": [
            "-\n",
            "Input sentence: Go.\n",
            "Decoded sentence: Váyase.\n",
            "\n",
            "-\n",
            "Input sentence: Go.\n",
            "Decoded sentence: Váyase.\n",
            "\n",
            "-\n",
            "Input sentence: Go.\n",
            "Decoded sentence: Váyase.\n",
            "\n",
            "-\n",
            "Input sentence: Go.\n",
            "Decoded sentence: Váyase.\n",
            "\n",
            "-\n",
            "Input sentence: Hi.\n",
            "Decoded sentence: Hola.\n",
            "\n",
            "-\n",
            "Input sentence: Run!\n",
            "Decoded sentence: ¡Corran!\n",
            "\n",
            "-\n",
            "Input sentence: Run!\n",
            "Decoded sentence: ¡Corran!\n",
            "\n",
            "-\n",
            "Input sentence: Run!\n",
            "Decoded sentence: ¡Corran!\n",
            "\n",
            "-\n",
            "Input sentence: Run!\n",
            "Decoded sentence: ¡Corran!\n",
            "\n",
            "-\n",
            "Input sentence: Run.\n",
            "Decoded sentence: Corred.\n",
            "\n",
            "-\n",
            "Input sentence: Who?\n",
            "Decoded sentence: ¿Quién?\n",
            "\n",
            "-\n",
            "Input sentence: Wow!\n",
            "Decoded sentence: ¡Órale!\n",
            "\n",
            "-\n",
            "Input sentence: Duck!\n",
            "Decoded sentence: ¡Inclínate!\n",
            "\n",
            "-\n",
            "Input sentence: Fire!\n",
            "Decoded sentence: ¡Incendio!\n",
            "\n",
            "-\n",
            "Input sentence: Fire!\n",
            "Decoded sentence: ¡Incendio!\n",
            "\n",
            "-\n",
            "Input sentence: Fire!\n",
            "Decoded sentence: ¡Incendio!\n",
            "\n",
            "-\n",
            "Input sentence: Help!\n",
            "Decoded sentence: ¡Ayuda!\n",
            "\n",
            "-\n",
            "Input sentence: Help!\n",
            "Decoded sentence: ¡Ayuda!\n",
            "\n",
            "-\n",
            "Input sentence: Help!\n",
            "Decoded sentence: ¡Ayuda!\n",
            "\n",
            "-\n",
            "Input sentence: Jump!\n",
            "Decoded sentence: ¡Salta!\n",
            "\n",
            "-\n",
            "Input sentence: Jump.\n",
            "Decoded sentence: Salto.\n",
            "\n",
            "-\n",
            "Input sentence: Jump.\n",
            "Decoded sentence: Salto.\n",
            "\n",
            "-\n",
            "Input sentence: Stay.\n",
            "Decoded sentence: Quédate.\n",
            "\n",
            "-\n",
            "Input sentence: Stop!\n",
            "Decoded sentence: ¡Para!\n",
            "\n",
            "-\n",
            "Input sentence: Stop!\n",
            "Decoded sentence: ¡Para!\n",
            "\n",
            "-\n",
            "Input sentence: Stop!\n",
            "Decoded sentence: ¡Para!\n",
            "\n",
            "-\n",
            "Input sentence: Wait!\n",
            "Decoded sentence: ¡Espera!\n",
            "\n",
            "-\n",
            "Input sentence: Wait!\n",
            "Decoded sentence: ¡Espera!\n",
            "\n",
            "-\n",
            "Input sentence: Wait.\n",
            "Decoded sentence: Espera.\n",
            "\n",
            "-\n",
            "Input sentence: Wait.\n",
            "Decoded sentence: Espera.\n",
            "\n",
            "-\n",
            "Input sentence: Go on.\n",
            "Decoded sentence: Continúa.\n",
            "\n",
            "-\n",
            "Input sentence: Go on.\n",
            "Decoded sentence: Continúa.\n",
            "\n",
            "-\n",
            "Input sentence: Hello!\n",
            "Decoded sentence: Hola.\n",
            "\n",
            "-\n",
            "Input sentence: Hurry!\n",
            "Decoded sentence: ¡Date prisa!\n",
            "\n",
            "-\n",
            "Input sentence: Hurry!\n",
            "Decoded sentence: ¡Date prisa!\n",
            "\n",
            "-\n",
            "Input sentence: Hurry!\n",
            "Decoded sentence: ¡Date prisa!\n",
            "\n",
            "-\n",
            "Input sentence: I hid.\n",
            "Decoded sentence: Me oculté.\n",
            "\n",
            "-\n",
            "Input sentence: I hid.\n",
            "Decoded sentence: Me oculté.\n",
            "\n",
            "-\n",
            "Input sentence: I hid.\n",
            "Decoded sentence: Me oculté.\n",
            "\n",
            "-\n",
            "Input sentence: I hid.\n",
            "Decoded sentence: Me oculté.\n",
            "\n"
          ]
        }
      ],
      "source": [
        "for seq_index in range(40):\n",
        "    # Take one sequence (part of the training set)\n",
        "    # for trying out decoding.\n",
        "    input_seq = encoder_input_data[seq_index : seq_index + 1]\n",
        "    decoded_sentence = decode_sequence(input_seq)\n",
        "    print(\"-\")\n",
        "    print(\"Input sentence:\", input_texts[seq_index])\n",
        "    print(\"Decoded sentence:\", decoded_sentence)\n"
      ]
    }
  ],
  "metadata": {
    "colab": {
      "collapsed_sections": [],
      "name": "Machine translation using lstm_seq2seq",
      "provenance": [],
      "toc_visible": true,
      "include_colab_link": true
    },
    "kernelspec": {
      "display_name": "Python 3",
      "language": "python",
      "name": "python3"
    },
    "language_info": {
      "codemirror_mode": {
        "name": "ipython",
        "version": 3
      },
      "file_extension": ".py",
      "mimetype": "text/x-python",
      "name": "python",
      "nbconvert_exporter": "python",
      "pygments_lexer": "ipython3",
      "version": "3.7.0"
    },
    "accelerator": "GPU"
  },
  "nbformat": 4,
  "nbformat_minor": 0
}