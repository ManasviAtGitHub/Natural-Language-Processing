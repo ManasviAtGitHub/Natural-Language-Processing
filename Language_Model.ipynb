{
  "cells": [
    {
      "cell_type": "markdown",
      "metadata": {
        "id": "view-in-github",
        "colab_type": "text"
      },
      "source": [
        "<a href=\"https://colab.research.google.com/github/ManasviAtGitHub/Natural-Language-Processing/blob/main/Language_Model.ipynb\" target=\"_parent\"><img src=\"https://colab.research.google.com/assets/colab-badge.svg\" alt=\"Open In Colab\"/></a>"
      ]
    },
    {
      "cell_type": "markdown",
      "metadata": {
        "id": "c7zQJXacozYe"
      },
      "source": [
        "<a name=\"building-language-model\"></a>\n",
        "# Building the language model\n",
        "\n",
        "<a name=\"count-matrix\"></a>\n",
        "### Count matrix\n"
      ]
    },
    {
      "cell_type": "code",
      "execution_count": 1,
      "metadata": {
        "colab": {
          "base_uri": "https://localhost:8080/"
        },
        "id": "lG2tep47ozYk",
        "outputId": "4def1881-96ff-4556-c6e4-76890d713403"
      },
      "outputs": [
        {
          "output_type": "stream",
          "name": "stdout",
          "text": [
            "count of n-gram ('i', 'am', 'happy'): 2\n",
            "n-gram ('i', 'am', 'learning') missing\n",
            "n-gram ('i', 'am', 'learning') found\n"
          ]
        }
      ],
      "source": [
        "# manipulate n_gram count dictionary\n",
        "\n",
        "n_gram_counts = {\n",
        "    ('i', 'am', 'happy'): 2,\n",
        "    ('am', 'happy', 'because'): 1}\n",
        "\n",
        "# get count for an n-gram tuple\n",
        "print(f\"count of n-gram {('i', 'am', 'happy')}: {n_gram_counts[('i', 'am', 'happy')]}\")\n",
        "\n",
        "# check if n-gram is present in the dictionary\n",
        "if ('i', 'am', 'learning') in n_gram_counts:\n",
        "    print(f\"n-gram {('i', 'am', 'learning')} found\")\n",
        "else:\n",
        "    print(f\"n-gram {('i', 'am', 'learning')} missing\")\n",
        "\n",
        "# update the count in the word count dictionary\n",
        "n_gram_counts[('i', 'am', 'learning')] = 1\n",
        "if ('i', 'am', 'learning') in n_gram_counts:\n",
        "    print(f\"n-gram {('i', 'am', 'learning')} found\")\n",
        "else:\n",
        "    print(f\"n-gram {('i', 'am', 'learning')} missing\")\n"
      ]
    },
    {
      "cell_type": "markdown",
      "metadata": {
        "id": "CdIbJjVfozYo"
      },
      "source": [
        "The next code snippet shows how to merge two tuples in Python. That will be handy when creating the n-gram from the prefix and the last word."
      ]
    },
    {
      "cell_type": "code",
      "execution_count": null,
      "metadata": {
        "colab": {
          "base_uri": "https://localhost:8080/"
        },
        "id": "sciqvpPNozYq",
        "outputId": "328a24bc-6591-46bd-b469-c65f8c5366d7"
      },
      "outputs": [
        {
          "output_type": "stream",
          "name": "stdout",
          "text": [
            "('i', 'am', 'happy', 'because')\n"
          ]
        }
      ],
      "source": [
        "# concatenate tuple for prefix and tuple with the last word to create the n_gram\n",
        "prefix = ('i', 'am', 'happy')\n",
        "word = 'because'\n",
        "\n",
        "# note here the syntax for creating a tuple for a single word\n",
        "n_gram = prefix + (word,)\n",
        "print(n_gram)"
      ]
    },
    {
      "cell_type": "code",
      "execution_count": 2,
      "metadata": {
        "colab": {
          "base_uri": "https://localhost:8080/"
        },
        "id": "Aff2TGm_ozYs",
        "outputId": "f6f1b1f1-bf72-4ebd-ec2c-acd46330bb31"
      },
      "outputs": [
        {
          "output_type": "stream",
          "name": "stdout",
          "text": [
            "                  happy  because    i   am  learning    .\n",
            "(i, am)             1.0      0.0  0.0  0.0       1.0  0.0\n",
            "(am, happy)         0.0      1.0  0.0  0.0       0.0  0.0\n",
            "(happy, because)    0.0      0.0  1.0  0.0       0.0  0.0\n",
            "(because, i)        0.0      0.0  0.0  1.0       0.0  0.0\n",
            "(am, learning)      0.0      0.0  0.0  0.0       0.0  1.0\n"
          ]
        }
      ],
      "source": [
        "import numpy as np\n",
        "import pandas as pd\n",
        "from collections import defaultdict\n",
        "def single_pass_trigram_count_matrix(corpus):\n",
        "    \"\"\"\n",
        "    Creates the trigram count matrix from the input corpus in a single pass through the corpus.\n",
        "    \n",
        "    Args:\n",
        "        corpus: Pre-processed and tokenized corpus. \n",
        "    \n",
        "    Returns:\n",
        "        bigrams: list of all bigram prefixes, row index\n",
        "        vocabulary: list of all found words, the column index\n",
        "        count_matrix: pandas dataframe with bigram prefixes as rows, \n",
        "                      vocabulary words as columns \n",
        "                      and the counts of the bigram/word combinations (i.e. trigrams) as values\n",
        "    \"\"\"\n",
        "    bigrams = []\n",
        "    vocabulary = []\n",
        "    count_matrix_dict = defaultdict(dict)\n",
        "    \n",
        "    # go through the corpus once with a sliding window\n",
        "    for i in range(len(corpus) - 3 + 1):\n",
        "        # the sliding window starts at position i and contains 3 words\n",
        "        trigram = tuple(corpus[i : i + 3])\n",
        "        \n",
        "        bigram = trigram[0 : -1]\n",
        "        if not bigram in bigrams:\n",
        "            bigrams.append(bigram)        \n",
        "        \n",
        "        last_word = trigram[-1]\n",
        "        if not last_word in vocabulary:\n",
        "            vocabulary.append(last_word)\n",
        "        \n",
        "        if (bigram,last_word) not in count_matrix_dict:\n",
        "            count_matrix_dict[bigram,last_word] = 0\n",
        "            \n",
        "        count_matrix_dict[bigram,last_word] += 1\n",
        "    \n",
        "    # convert the count_matrix to np.array to fill in the blanks\n",
        "    count_matrix = np.zeros((len(bigrams), len(vocabulary)))\n",
        "    for trigram_key, trigam_count in count_matrix_dict.items():\n",
        "        count_matrix[bigrams.index(trigram_key[0]), vocabulary.index(trigram_key[1])] = trigam_count\n",
        "    \n",
        "    # np.array to pandas dataframe conversion\n",
        "    count_matrix = pd.DataFrame(count_matrix, index=bigrams, columns=vocabulary)\n",
        "    return bigrams, vocabulary, count_matrix\n",
        "\n",
        "corpus = ['i', 'am', 'happy', 'because', 'i', 'am', 'learning', '.']\n",
        "\n",
        "bigrams, vocabulary, count_matrix = single_pass_trigram_count_matrix(corpus)\n",
        "\n",
        "print(count_matrix)\n"
      ]
    },
    {
      "cell_type": "markdown",
      "metadata": {
        "id": "1N5qhPZ7ozYw"
      },
      "source": [
        "<a name=\"probability-matrix\"></a>\n",
        "### Probability matrix\n",
        "The next step is to build a probability matrix from the count matrix. \n",
        "\n",
        "You can use an object dataframe from library pandas and its methods [sum](https://pandas.pydata.org/pandas-docs/stable/reference/api/pandas.DataFrame.sum.html?highlight=sum#pandas.DataFrame.sum) and [div](https://pandas.pydata.org/pandas-docs/stable/reference/api/pandas.DataFrame.div.html) to normalize the cell counts with the sum of the respective rows. "
      ]
    },
    {
      "cell_type": "code",
      "execution_count": null,
      "metadata": {
        "colab": {
          "base_uri": "https://localhost:8080/"
        },
        "id": "Jh6pxtL2ozYy",
        "outputId": "ae9e42bb-c7ac-44ab-ad0d-f015953d873c"
      },
      "outputs": [
        {
          "output_type": "stream",
          "name": "stdout",
          "text": [
            "                  happy  because    i   am  learning    .\n",
            "(i, am)             0.5      0.0  0.0  0.0       0.5  0.0\n",
            "(am, happy)         0.0      1.0  0.0  0.0       0.0  0.0\n",
            "(happy, because)    0.0      0.0  1.0  0.0       0.0  0.0\n",
            "(because, i)        0.0      0.0  0.0  1.0       0.0  0.0\n",
            "(am, learning)      0.0      0.0  0.0  0.0       0.0  1.0\n"
          ]
        }
      ],
      "source": [
        "# create the probability matrix from the count matrix\n",
        "row_sums = count_matrix.sum(axis=1)\n",
        "# delete each row by its sum\n",
        "prob_matrix = count_matrix.div(row_sums, axis=0)\n",
        "\n",
        "print(prob_matrix)"
      ]
    },
    {
      "cell_type": "markdown",
      "metadata": {
        "id": "CO6oVtMTozY0"
      },
      "source": [
        "The probability matrix now helps you to find a probability of an input trigram. "
      ]
    },
    {
      "cell_type": "code",
      "execution_count": null,
      "metadata": {
        "colab": {
          "base_uri": "https://localhost:8080/"
        },
        "id": "0A7trUxqozY2",
        "outputId": "5841c665-b173-4b63-dcfd-e4a231bcea6b"
      },
      "outputs": [
        {
          "output_type": "stream",
          "name": "stdout",
          "text": [
            "bigram: ('i', 'am')\n",
            "word: happy\n",
            "trigram_probability: 0.5\n"
          ]
        }
      ],
      "source": [
        "# find the probability of a trigram in the probability matrix\n",
        "trigram = ('i', 'am', 'happy')\n",
        "\n",
        "# find the prefix bigram \n",
        "bigram = trigram[:-1]\n",
        "print(f'bigram: {bigram}')\n",
        "\n",
        "# find the last word of the trigram\n",
        "word = trigram[-1]\n",
        "print(f'word: {word}')\n",
        "\n",
        "# we are using the pandas dataframes here, column with vocabulary word comes first, row with the prefix bigram second\n",
        "trigram_probability = prob_matrix[word][bigram]\n",
        "print(f'trigram_probability: {trigram_probability}')"
      ]
    },
    {
      "cell_type": "code",
      "execution_count": null,
      "metadata": {
        "id": "hqUj68ROozY_"
      },
      "outputs": [],
      "source": [
        ""
      ]
    }
  ],
  "metadata": {
    "kernelspec": {
      "display_name": "Python 3",
      "language": "python",
      "name": "python3"
    },
    "language_info": {
      "codemirror_mode": {
        "name": "ipython",
        "version": 3
      },
      "file_extension": ".py",
      "mimetype": "text/x-python",
      "name": "python",
      "nbconvert_exporter": "python",
      "pygments_lexer": "ipython3",
      "version": "3.7.1"
    },
    "colab": {
      "name": "Language Model.ipynb",
      "provenance": [],
      "include_colab_link": true
    }
  },
  "nbformat": 4,
  "nbformat_minor": 0
}