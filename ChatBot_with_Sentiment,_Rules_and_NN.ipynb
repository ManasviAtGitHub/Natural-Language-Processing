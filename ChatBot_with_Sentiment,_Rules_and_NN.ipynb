{
  "cells": [
    {
      "cell_type": "markdown",
      "metadata": {
        "id": "view-in-github",
        "colab_type": "text"
      },
      "source": [
        "<a href=\"https://colab.research.google.com/github/ManasviAtGitHub/Natural-Language-Processing/blob/main/ChatBot_with_Sentiment%2C_Rules_and_NN.ipynb\" target=\"_parent\"><img src=\"https://colab.research.google.com/assets/colab-badge.svg\" alt=\"Open In Colab\"/></a>"
      ]
    },
    {
      "cell_type": "code",
      "execution_count": null,
      "metadata": {
        "colab": {
          "base_uri": "https://localhost:8080/"
        },
        "id": "bM-gUdKlEYpT",
        "outputId": "aac0bd81-3e44-40f6-9c81-aff6252ce6e4"
      },
      "outputs": [
        {
          "name": "stdout",
          "output_type": "stream",
          "text": [
            "Collecting tflearn\n",
            "  Downloading tflearn-0.5.0.tar.gz (107 kB)\n",
            "\u001b[?25l\r\u001b[K     |███                             | 10 kB 18.7 MB/s eta 0:00:01\r\u001b[K     |██████                          | 20 kB 23.4 MB/s eta 0:00:01\r\u001b[K     |█████████▏                      | 30 kB 29.2 MB/s eta 0:00:01\r\u001b[K     |████████████▏                   | 40 kB 32.8 MB/s eta 0:00:01\r\u001b[K     |███████████████▎                | 51 kB 27.1 MB/s eta 0:00:01\r\u001b[K     |██████████████████▎             | 61 kB 30.1 MB/s eta 0:00:01\r\u001b[K     |█████████████████████▍          | 71 kB 30.5 MB/s eta 0:00:01\r\u001b[K     |████████████████████████▍       | 81 kB 23.3 MB/s eta 0:00:01\r\u001b[K     |███████████████████████████▌    | 92 kB 25.0 MB/s eta 0:00:01\r\u001b[K     |██████████████████████████████▌ | 102 kB 26.8 MB/s eta 0:00:01\r\u001b[K     |████████████████████████████████| 107 kB 26.8 MB/s \n",
            "\u001b[?25hRequirement already satisfied: numpy in /usr/local/lib/python3.7/dist-packages (from tflearn) (1.21.5)\n",
            "Requirement already satisfied: six in /usr/local/lib/python3.7/dist-packages (from tflearn) (1.15.0)\n",
            "Requirement already satisfied: Pillow in /usr/local/lib/python3.7/dist-packages (from tflearn) (7.1.2)\n",
            "Building wheels for collected packages: tflearn\n",
            "  Building wheel for tflearn (setup.py) ... \u001b[?25l\u001b[?25hdone\n",
            "  Created wheel for tflearn: filename=tflearn-0.5.0-py3-none-any.whl size=127299 sha256=11bc98c993ca58aff11e5212057239deaf965a139e2427c8b96930b8fd74b691\n",
            "  Stored in directory: /root/.cache/pip/wheels/5f/14/2e/1d8e28cc47a5a931a2fb82438c9e37ef9246cc6a3774520271\n",
            "Successfully built tflearn\n",
            "Installing collected packages: tflearn\n",
            "Successfully installed tflearn-0.5.0\n"
          ]
        }
      ],
      "source": [
        "!pip install tflearn"
      ]
    },
    {
      "cell_type": "code",
      "execution_count": null,
      "metadata": {
        "colab": {
          "background_save": true,
          "base_uri": "https://localhost:8080/"
        },
        "id": "zVd7aTbtERmw",
        "outputId": "9cda88a6-eded-49b5-f3b3-03a1a5bebfb4"
      },
      "outputs": [
        {
          "name": "stdout",
          "output_type": "stream",
          "text": [
            "WARNING:tensorflow:From /usr/local/lib/python3.7/dist-packages/tensorflow/python/compat/v2_compat.py:107: disable_resource_variables (from tensorflow.python.ops.variable_scope) is deprecated and will be removed in a future version.\n",
            "Instructions for updating:\n",
            "non-resource variables are not supported in the long term\n"
          ]
        }
      ],
      "source": [
        "import random\n",
        "from textblob import TextBlob\n",
        "import numpy\n",
        "import tflearn\n",
        "import tensorflow\n",
        "import json\n",
        "import pickle\n",
        "import nltk\n",
        "import spacy\n",
        "nlp = spacy.load('en_core_web_sm')"
      ]
    },
    {
      "cell_type": "code",
      "execution_count": null,
      "metadata": {
        "colab": {
          "base_uri": "https://localhost:8080/"
        },
        "id": "6IaRDz9oPyH5",
        "outputId": "081b9fe9-0630-4917-d992-e71e1902a27a"
      },
      "outputs": [
        {
          "name": "stdout",
          "output_type": "stream",
          "text": [
            "Mounted at /content/drive/\n"
          ]
        }
      ],
      "source": [
        "from google.colab import drive\n",
        "drive.mount('/content/drive/')"
      ]
    },
    {
      "cell_type": "code",
      "execution_count": null,
      "metadata": {
        "colab": {
          "base_uri": "https://localhost:8080/"
        },
        "id": "R68lhlt1P7d7",
        "outputId": "bb602d38-0c55-4e88-9f98-3bc415d8fa20"
      },
      "outputs": [
        {
          "name": "stdout",
          "output_type": "stream",
          "text": [
            "/content/drive/MyDrive/NLP/datasets\n"
          ]
        }
      ],
      "source": [
        "cd drive/MyDrive/NLP/datasets/"
      ]
    },
    {
      "cell_type": "code",
      "execution_count": null,
      "metadata": {
        "colab": {
          "base_uri": "https://localhost:8080/"
        },
        "id": "Snrk_CdEEYxk",
        "outputId": "c2ac7cd3-b173-435f-c8e2-d3e57eb325a8"
      },
      "outputs": [
        {
          "name": "stdout",
          "output_type": "stream",
          "text": [
            "[nltk_data] Downloading package punkt to /root/nltk_data...\n",
            "[nltk_data]   Unzipping tokenizers/punkt.zip.\n"
          ]
        },
        {
          "data": {
            "text/plain": [
              "True"
            ]
          },
          "execution_count": 5,
          "metadata": {},
          "output_type": "execute_result"
        }
      ],
      "source": [
        "nltk.download('punkt')"
      ]
    },
    {
      "cell_type": "code",
      "execution_count": null,
      "metadata": {
        "id": "6dpfYPFtQ7oo"
      },
      "outputs": [],
      "source": [
        "with open(\"bck.json\") as file:\n",
        "    data = json.load(file)"
      ]
    },
    {
      "cell_type": "code",
      "execution_count": null,
      "metadata": {
        "id": "LsKA43eJQ-nR"
      },
      "outputs": [],
      "source": [
        "words = []\n",
        "labels = []\n",
        "docs_x = []\n",
        "docs_y = []\n",
        "for intent in data[\"intents\"]:\n",
        "    for pattern in intent[\"patterns\"]:\n",
        "        wrds = nltk.word_tokenize(pattern)\n",
        "        words.extend(wrds)\n",
        "        docs_x.append(wrds)\n",
        "        docs_y.append(intent[\"tag\"])\n",
        "    #print(f'docs_x: {docs_x}, docs_y: {docs_y}, Words: {words}')\n",
        "\n",
        "\n",
        "    if intent[\"tag\"] not in labels:\n",
        "        labels.append(intent[\"tag\"])\n",
        "    #print(f'labels: {labels}')\n",
        "    \n",
        "words = [w.lower() for w in words]\n",
        "words = sorted(list(set(words)))\n",
        "labels = sorted(labels)\n",
        "training = []\n",
        "output = []\n",
        "out_empty = [0 for _ in range(len(labels))]\n",
        "\n",
        "\n",
        "for x, doc in enumerate(docs_x):\n",
        "  bag = []\n",
        "  wrds = [w.lower() for w in doc]\n",
        "  for w in words:\n",
        "      if w in wrds:\n",
        "          bag.append(1)\n",
        "      else:\n",
        "          bag.append(0)\n",
        "\n",
        "  output_row = out_empty[:]\n",
        "  output_row[labels.index(docs_y[x])] = 1\n",
        "\n",
        "  training.append(bag)\n",
        "  output.append(output_row)\n",
        "\n",
        "training = numpy.array(training)\n",
        "output = numpy.array(output)"
      ]
    },
    {
      "cell_type": "code",
      "execution_count": null,
      "metadata": {
        "colab": {
          "base_uri": "https://localhost:8080/"
        },
        "id": "t1M0bkgCRkHk",
        "outputId": "65446d56-563e-4feb-acb0-8a099f8abfa1"
      },
      "outputs": [
        {
          "name": "stdout",
          "output_type": "stream",
          "text": [
            "WARNING:tensorflow:From /usr/local/lib/python3.7/dist-packages/tflearn/initializations.py:165: calling TruncatedNormal.__init__ (from tensorflow.python.ops.init_ops) with dtype is deprecated and will be removed in a future version.\n",
            "Instructions for updating:\n",
            "Call initializer instance with the dtype argument instead of passing it to the constructor\n"
          ]
        }
      ],
      "source": [
        "tensorflow.compat.v1.reset_default_graph()\n",
        "\n",
        "net = tflearn.input_data(shape=[None, len(training[0])])\n",
        "net = tflearn.fully_connected(net, 8)\n",
        "net = tflearn.fully_connected(net, 8)\n",
        "net = tflearn.fully_connected(net, len(output[0]), activation=\"softmax\")\n",
        "net = tflearn.regression(net)"
      ]
    },
    {
      "cell_type": "code",
      "execution_count": null,
      "metadata": {
        "colab": {
          "base_uri": "https://localhost:8080/"
        },
        "id": "FlOZrcNZR1jR",
        "outputId": "10769504-b1af-4359-cf94-4c9f9c8c2a8c"
      },
      "outputs": [
        {
          "name": "stdout",
          "output_type": "stream",
          "text": [
            "Training Step: 2999  | total loss: \u001b[1m\u001b[32m0.05230\u001b[0m\u001b[0m | time: 0.015s\n",
            "| Adam | epoch: 600 | loss: 0.05230 - acc: 1.0000 -- iter: 32/33\n",
            "Training Step: 3000  | total loss: \u001b[1m\u001b[32m0.05162\u001b[0m\u001b[0m | time: 0.022s\n",
            "| Adam | epoch: 600 | loss: 0.05162 - acc: 1.0000 -- iter: 33/33\n",
            "--\n",
            "INFO:tensorflow:/content/drive/MyDrive/NLP/datasets/model.tflearn is not in all_model_checkpoint_paths. Manually adding it.\n"
          ]
        }
      ],
      "source": [
        "model = tflearn.DNN(net)\n",
        "model.fit(training, output, n_epoch=600, batch_size=8, show_metric=True)\n",
        "model.save(\"model.tflearn\")"
      ]
    },
    {
      "cell_type": "code",
      "execution_count": null,
      "metadata": {
        "colab": {
          "base_uri": "https://localhost:8080/"
        },
        "id": "7gxm2ap-Wd4_",
        "outputId": "39b80f72-642a-4a41-dabd-6b25adfbdfac"
      },
      "outputs": [
        {
          "name": "stdout",
          "output_type": "stream",
          "text": [
            "INFO:tensorflow:Restoring parameters from /content/drive/MyDrive/NLP/datasets/model.tflearn\n"
          ]
        }
      ],
      "source": [
        "model = tflearn.DNN(net)\n",
        "model.load(\"model.tflearn\")"
      ]
    },
    {
      "cell_type": "code",
      "execution_count": null,
      "metadata": {
        "id": "7n-A18V9WeEW"
      },
      "outputs": [],
      "source": [
        ""
      ]
    },
    {
      "cell_type": "code",
      "execution_count": null,
      "metadata": {
        "id": "Sw4w2zJfRlTJ"
      },
      "outputs": [],
      "source": [
        "def bag_of_words(s, words):\n",
        "    bag = [0 for _ in range(len(words))]\n",
        "\n",
        "    s_words = nltk.word_tokenize(s)\n",
        "    s_words = [word.lower() for word in s_words]\n",
        "\n",
        "    for se in s_words:\n",
        "        for i, w in enumerate(words):\n",
        "            if w == se:\n",
        "                bag[i] = 1\n",
        "            \n",
        "    return numpy.array(bag)"
      ]
    },
    {
      "cell_type": "code",
      "execution_count": null,
      "metadata": {
        "id": "oJFbU0UNSXhJ"
      },
      "outputs": [],
      "source": [
        "def recommend_food(pref, flag=True):\n",
        "    results = model.predict([bag_of_words(pref, words)])\n",
        "    results_index = numpy.argmax(results)\n",
        "    tag = labels[results_index]\n",
        "    if results[0][results_index]> 0.7:\n",
        "      for tg in data[\"intents\"]:\n",
        "        if tg['tag'] == tag:\n",
        "          responses = tg['responses']\n",
        "      food = random.choice(responses)\n",
        "      if flag == True:\n",
        "        print(f\"I would recommend you to try {food}\")\n",
        "      return food\n",
        "    else :\n",
        "      if flag == True:\n",
        "        print(\"Sorry I didn't get it\")\n",
        "      return \"\"\n",
        "         "
      ]
    },
    {
      "cell_type": "code",
      "execution_count": null,
      "metadata": {
        "id": "vHVAekNSIufY"
      },
      "outputs": [],
      "source": [
        "place_name = \"BCK\""
      ]
    },
    {
      "cell_type": "code",
      "execution_count": null,
      "metadata": {
        "id": "c5LTrRedJ043"
      },
      "outputs": [],
      "source": [
        "list_of_work = ['Order', 'Order status']\n",
        "customer_preferences = [\"feel like heaven\", \"spicy\", \"green and healthy\"]"
      ]
    },
    {
      "cell_type": "code",
      "execution_count": null,
      "metadata": {
        "colab": {
          "base_uri": "https://localhost:8080/"
        },
        "id": "bSXmC7XJEY3_",
        "outputId": "27c1fdf1-4d9a-424d-94ca-9aed23481432"
      },
      "outputs": [
        {
          "name": "stdout",
          "output_type": "stream",
          "text": [
            "Please enter your name : \n",
            "Manasvi\n",
            "Hello Manasvi Welcome to BCK, How can I help you today? \n",
            "For best results select from below \n",
            "1. I want to Order\n",
            "2. I want to know my Order status\n",
            "1\n",
            "Please select the option best suited \n",
            "1. Full Menu\n",
            "2. Customized Menu\n",
            "2\n",
            "Express your requirement of food\n",
            "For best results select from below \n",
            "1. Food should feel like heaven\n",
            "2. Food should be spicy\n",
            "3. Food should be green and healthy\n",
            "1\n",
            "I would recommend you to try Chicken Triple Rice With Gravy\n",
            "Shall I confirm your order !!!\n",
            "1. Yes\n",
            "2. No\n",
            "1\n",
            "Your order for Chicken Triple Rice With Gravy is confirmed\n",
            "...\n",
            "We'll get your food ready in 20 minutes\n",
            "Kindly express your thoughts about Chicken Triple Rice With Gravy\n",
            "I enjoyed it very much\n",
            "I am glad that you enjoyed our food\n"
          ]
        }
      ],
      "source": [
        "print('Please enter your name : ')\n",
        "ans = input()\n",
        "print(f'Hello {ans} Welcome to {place_name}, How can I help you today? ')\n",
        "print(f'For best results select from below ')\n",
        "\n",
        "print(f'1. I want to {list_of_work[0]}')\n",
        "print(f'2. I want to know my {list_of_work[1]}')\n",
        "ans = input()\n",
        "if '1' == ans :\n",
        "  print(f\"Please select the option best suited \")\n",
        "  print(f'1. Full Menu')\n",
        "  print(f'2. Customized Menu')\n",
        "  ans = input()\n",
        "  if '1' == ans:\n",
        "    print(f\"Display full Menu\")\n",
        "  elif '2' == ans:\n",
        "    print(\"Express your requirement of food\")\n",
        "    print(f'For best results select from below ')\n",
        "    print(f'1. Food should {customer_preferences[0]}')\n",
        "    print(f'2. Food should be {customer_preferences[1]}')\n",
        "    print(f'3. Food should be {customer_preferences[2]}')\n",
        "    ans = input()\n",
        "    if '1' == ans:\n",
        "      ans = customer_preferences[0]\n",
        "    elif '2' == ans:\n",
        "      ans = customer_preferences[1]\n",
        "    elif '3' == ans:\n",
        "      ans = customer_preferences[2]\n",
        "    f = recommend_food(ans)\n",
        "    if f == \"\":\n",
        "      print(\"Please try again using the options mentioned above\")\n",
        "    else:\n",
        "      print('Shall I confirm your order !!!')\n",
        "      print('1. Yes')\n",
        "      print('2. No')\n",
        "      ans = input()\n",
        "      if '1' == ans:\n",
        "        print(f'Your order for {f} is confirmed')\n",
        "        print(\"...\")\n",
        "        print(\"We'll get your food ready in 20 minutes\")\n",
        "      elif '2' == ans:\n",
        "        print(\"I suggest you should checkout our full menu \")\n",
        "\n",
        "      print(f\"Kindly express your thoughts about {f}\")\n",
        "      ans = input()\n",
        "      rev = recommend_food(ans,flag=False)\n",
        "      if rev==\"\":\n",
        "        rev = TextBlob(ans)\n",
        "        if rev.polarity >0.2:\n",
        "          print(f\"I am glad that you enjoyed our food\")\n",
        "        else:\n",
        "          print(f\"Sorry to hear that we'll try to get better next time\")\n",
        "      else:\n",
        "        print(f\"{rev}\")\n",
        "  \n",
        "elif '2' == ans:\n",
        "  print(f\"Can I have your order number \")\n",
        "  ans = input()\n",
        "  ## Here we can connect to database or any system to check estimated order time\n",
        "  # and return that, for now lets return 10 minutes\n",
        "  print(f\"....\")\n",
        "  print(f\"Order {ans} should be ready in 10 minutes\")\n",
        "  ## Conversation ends\n",
        "\n",
        "\n",
        "else:\n",
        "  doc = nlp(ans.lower())\n",
        "  # Check if object is order\n",
        "  # Assuming that user wants to order\n",
        "  subtree =[]\n",
        "  for token in doc:\n",
        "    if (\"dobj\" in token.dep_):\n",
        "      subtree = list(token.subtree)\n",
        "  if \"order\" in str(subtree):\n",
        "    print(f\"Here is our menu \")\n",
        "  else:\n",
        "    print(f\"Sorry, I do not understand please try again\")\n",
        "\n",
        "\n"
      ]
    },
    {
      "cell_type": "code",
      "execution_count": null,
      "metadata": {
        "colab": {
          "base_uri": "https://localhost:8080/"
        },
        "id": "QZ52hurZXkyS",
        "outputId": "a73089b9-1a17-4376-b549-db22e2ca9718"
      },
      "outputs": [
        {
          "name": "stdout",
          "output_type": "stream",
          "text": [
            "Express your requirement of food\n",
            "low price\n",
            "I would recommend you to try Veg Hakka Noodles\n",
            "Shall I confirm your order !!!\n",
            "1. Yes\n",
            "2. No\n"
          ]
        }
      ],
      "source": [
        "print(\"Express your requirement of food\")\n",
        "ans = input()\n",
        "f = recommend_food(ans)\n",
        "if f == \"\":\n",
        "  print(\"Please try again using the options mentioned above\")\n",
        "else:\n",
        "  print('Shall I confirm your order !!!')\n",
        "  print('1. Yes')\n",
        "  print('2. No')"
      ]
    },
    {
      "cell_type": "code",
      "execution_count": null,
      "metadata": {
        "id": "wXm0GCtmXk0b"
      },
      "outputs": [],
      "source": [
        ""
      ]
    },
    {
      "cell_type": "code",
      "execution_count": null,
      "metadata": {
        "id": "2ys1Ax5NXk3t"
      },
      "outputs": [],
      "source": [
        ""
      ]
    },
    {
      "cell_type": "code",
      "execution_count": null,
      "metadata": {
        "id": "U7FI48AYEZH6"
      },
      "outputs": [],
      "source": [
        "sent = \"need my order\"\n",
        "doc = nlp(sent.lower"
      ]
    },
    {
      "cell_type": "code",
      "execution_count": null,
      "metadata": {
        "colab": {
          "base_uri": "https://localhost:8080/"
        },
        "id": "3Y-fNzPRd9c8",
        "outputId": "976a3949-515b-4b64-f6c7-8cb1727d4d22"
      },
      "outputs": [
        {
          "name": "stdout",
          "output_type": "stream",
          "text": [
            "Here is our menu \n"
          ]
        }
      ],
      "source": [
        "for token in doc:\n",
        "  if (\"dobj\" in token.dep_):\n",
        "      subtree = list(token.subtree)\n",
        " \n",
        "if \"order\" in str(subtree):\n",
        "    print(f\"Here is our menu \")\n",
        "else:\n",
        "    print(f\"Sorry, I do not understand please try again\")"
      ]
    },
    {
      "cell_type": "code",
      "execution_count": null,
      "metadata": {
        "colab": {
          "base_uri": "https://localhost:8080/"
        },
        "id": "T1bzB2cLEZN5",
        "outputId": "8ba3ec89-fa56-4aa2-f01e-5a8adc6941a5"
      },
      "outputs": [
        {
          "name": "stdout",
          "output_type": "stream",
          "text": [
            " need VERB ROOT\n",
            " my DET poss\n",
            " order NOUN dobj\n"
          ]
        }
      ],
      "source": [
        "for token in doc:\n",
        "  print(f\" {token.text} {token.pos_} {token.dep_}\")"
      ]
    },
    {
      "cell_type": "code",
      "execution_count": null,
      "metadata": {
        "colab": {
          "base_uri": "https://localhost:8080/"
        },
        "id": "9lfUnFP6EZYU",
        "outputId": "d00b8bf1-b0ef-4832-9a66-cfa81df1ac7c"
      },
      "outputs": [
        {
          "name": "stdout",
          "output_type": "stream",
          "text": [
            "order\n",
            "my order\n"
          ]
        }
      ],
      "source": [
        "for np in doc.noun_chunks:\n",
        "    print(np.root.text)\n",
        "    print(np.text)"
      ]
    },
    {
      "cell_type": "code",
      "execution_count": null,
      "metadata": {
        "colab": {
          "base_uri": "https://localhost:8080/",
          "height": 333
        },
        "id": "0pGZyTZXEZeV",
        "outputId": "8edffb82-9593-49f0-c2ab-a0342519254e"
      },
      "outputs": [
        {
          "data": {
            "text/html": [
              "<span class=\"tex2jax_ignore\"><svg xmlns=\"http://www.w3.org/2000/svg\" xmlns:xlink=\"http://www.w3.org/1999/xlink\" xml:lang=\"en\" id=\"ef2400bc6c9a41c1b0cb549e3d3ea586-0\" class=\"displacy\" width=\"575\" height=\"312.0\" direction=\"ltr\" style=\"max-width: none; height: 312.0px; color: #000000; background: #ffffff; font-family: Arial; direction: ltr\">\n",
              "<text class=\"displacy-token\" fill=\"currentColor\" text-anchor=\"middle\" y=\"222.0\">\n",
              "    <tspan class=\"displacy-word\" fill=\"currentColor\" x=\"50\">Take</tspan>\n",
              "    <tspan class=\"displacy-tag\" dy=\"2em\" fill=\"currentColor\" x=\"50\">VERB</tspan>\n",
              "</text>\n",
              "\n",
              "<text class=\"displacy-token\" fill=\"currentColor\" text-anchor=\"middle\" y=\"222.0\">\n",
              "    <tspan class=\"displacy-word\" fill=\"currentColor\" x=\"225\">my</tspan>\n",
              "    <tspan class=\"displacy-tag\" dy=\"2em\" fill=\"currentColor\" x=\"225\">DET</tspan>\n",
              "</text>\n",
              "\n",
              "<text class=\"displacy-token\" fill=\"currentColor\" text-anchor=\"middle\" y=\"222.0\">\n",
              "    <tspan class=\"displacy-word\" fill=\"currentColor\" x=\"400\">order</tspan>\n",
              "    <tspan class=\"displacy-tag\" dy=\"2em\" fill=\"currentColor\" x=\"400\">NOUN</tspan>\n",
              "</text>\n",
              "\n",
              "<g class=\"displacy-arrow\">\n",
              "    <path class=\"displacy-arc\" id=\"arrow-ef2400bc6c9a41c1b0cb549e3d3ea586-0-0\" stroke-width=\"2px\" d=\"M245,177.0 C245,89.5 395.0,89.5 395.0,177.0\" fill=\"none\" stroke=\"currentColor\"/>\n",
              "    <text dy=\"1.25em\" style=\"font-size: 0.8em; letter-spacing: 1px\">\n",
              "        <textPath xlink:href=\"#arrow-ef2400bc6c9a41c1b0cb549e3d3ea586-0-0\" class=\"displacy-label\" startOffset=\"50%\" side=\"left\" fill=\"currentColor\" text-anchor=\"middle\">poss</textPath>\n",
              "    </text>\n",
              "    <path class=\"displacy-arrowhead\" d=\"M245,179.0 L237,167.0 253,167.0\" fill=\"currentColor\"/>\n",
              "</g>\n",
              "\n",
              "<g class=\"displacy-arrow\">\n",
              "    <path class=\"displacy-arc\" id=\"arrow-ef2400bc6c9a41c1b0cb549e3d3ea586-0-1\" stroke-width=\"2px\" d=\"M70,177.0 C70,2.0 400.0,2.0 400.0,177.0\" fill=\"none\" stroke=\"currentColor\"/>\n",
              "    <text dy=\"1.25em\" style=\"font-size: 0.8em; letter-spacing: 1px\">\n",
              "        <textPath xlink:href=\"#arrow-ef2400bc6c9a41c1b0cb549e3d3ea586-0-1\" class=\"displacy-label\" startOffset=\"50%\" side=\"left\" fill=\"currentColor\" text-anchor=\"middle\">dobj</textPath>\n",
              "    </text>\n",
              "    <path class=\"displacy-arrowhead\" d=\"M400.0,179.0 L408.0,167.0 392.0,167.0\" fill=\"currentColor\"/>\n",
              "</g>\n",
              "</svg></span>"
            ],
            "text/plain": [
              "<IPython.core.display.HTML object>"
            ]
          },
          "metadata": {},
          "output_type": "display_data"
        }
      ],
      "source": [
        "from spacy import displacy\n",
        "displacy.render(doc, style='dep', jupyter=True)"
      ]
    },
    {
      "cell_type": "code",
      "execution_count": null,
      "metadata": {
        "colab": {
          "base_uri": "https://localhost:8080/"
        },
        "id": "I6w2ReA5EZla",
        "outputId": "6a9a79ba-e303-45a5-d268-4645ad89f139"
      },
      "outputs": [
        {
          "name": "stdout",
          "output_type": "stream",
          "text": [
            "order\n"
          ]
        }
      ],
      "source": [
        "from spacy.symbols import VERB, dobj\n",
        "for np in doc.noun_chunks:\n",
        "    if np.root.dep == dobj:\n",
        "        print(np.root.text)\n",
        "\n"
      ]
    },
    {
      "cell_type": "code",
      "execution_count": null,
      "metadata": {
        "colab": {
          "base_uri": "https://localhost:8080/"
        },
        "id": "yXQvu8aDXF88",
        "outputId": "e5163213-6910-4e97-e167-5e5d232acaa9"
      },
      "outputs": [
        {
          "name": "stdout",
          "output_type": "stream",
          "text": [
            "<generator object at 0x7f4b1ddf4410>\n"
          ]
        }
      ],
      "source": [
        "print(doc.noun_chunks)"
      ]
    },
    {
      "cell_type": "code",
      "execution_count": null,
      "metadata": {
        "id": "t3Xr0ijzEZ03"
      },
      "outputs": [],
      "source": [
        "def get_object_phrase(doc):\n",
        "  for token in doc:\n",
        "    if (\"ROOT\" in token.dep_):\n",
        "      subtree = list(token.subtree)\n",
        "      print(f\"Tree {subtree}\")\n",
        "\n",
        "      start = subtree[0].i\n",
        "      print(start)\n",
        "      end = subtree[-1].i + 1\n",
        "      return doc[start:end]"
      ]
    },
    {
      "cell_type": "code",
      "execution_count": null,
      "metadata": {
        "colab": {
          "base_uri": "https://localhost:8080/"
        },
        "id": "guoJJMRdEZ79",
        "outputId": "e3172411-f284-482c-d889-4c59b9b57235"
      },
      "outputs": [
        {
          "name": "stdout",
          "output_type": "stream",
          "text": [
            "Tree [take, my, order]\n",
            "0\n"
          ]
        },
        {
          "data": {
            "text/plain": [
              "take my order"
            ]
          },
          "execution_count": 63,
          "metadata": {},
          "output_type": "execute_result"
        }
      ],
      "source": [
        "get_object_phrase(doc)"
      ]
    },
    {
      "cell_type": "code",
      "execution_count": null,
      "metadata": {
        "colab": {
          "base_uri": "https://localhost:8080/"
        },
        "id": "rQiLpm23EaDF",
        "outputId": "9cd7c905-bcd3-449b-d9d4-3f42632e32c0"
      },
      "outputs": [
        {
          "name": "stdout",
          "output_type": "stream",
          "text": [
            "my order\n"
          ]
        }
      ],
      "source": [
        "print(li)"
      ]
    },
    {
      "cell_type": "code",
      "execution_count": null,
      "metadata": {
        "colab": {
          "base_uri": "https://localhost:8080/"
        },
        "id": "6UAtT_UfEaLW",
        "outputId": "073f8364-518c-4923-9105-55d595561203"
      },
      "outputs": [
        {
          "data": {
            "text/plain": [
              "Sentiment(polarity=-0.125, subjectivity=1.0)"
            ]
          },
          "execution_count": 74,
          "metadata": {},
          "output_type": "execute_result"
        }
      ],
      "source": [
        "TextBlob(\"Extremely hungry\").sentiment"
      ]
    },
    {
      "cell_type": "code",
      "execution_count": null,
      "metadata": {
        "id": "5tPQg2bREaQD"
      },
      "outputs": [],
      "source": [
        ""
      ]
    },
    {
      "cell_type": "code",
      "execution_count": null,
      "metadata": {
        "id": "Q7Rw_k7SEaT8"
      },
      "outputs": [],
      "source": [
        ""
      ]
    },
    {
      "cell_type": "code",
      "execution_count": null,
      "metadata": {
        "id": "0R6D0m5MEaYU"
      },
      "outputs": [],
      "source": [
        ""
      ]
    },
    {
      "cell_type": "code",
      "execution_count": null,
      "metadata": {
        "id": "nQs2dffpEabz"
      },
      "outputs": [],
      "source": [
        ""
      ]
    },
    {
      "cell_type": "code",
      "execution_count": null,
      "metadata": {
        "id": "W53aeLlBEafo"
      },
      "outputs": [],
      "source": [
        ""
      ]
    },
    {
      "cell_type": "code",
      "execution_count": null,
      "metadata": {
        "id": "6JvA4XsIEakJ"
      },
      "outputs": [],
      "source": [
        ""
      ]
    },
    {
      "cell_type": "code",
      "execution_count": null,
      "metadata": {
        "id": "CyNFGYcTEapF"
      },
      "outputs": [],
      "source": [
        ""
      ]
    },
    {
      "cell_type": "code",
      "execution_count": null,
      "metadata": {
        "id": "iyITMCEWEas_"
      },
      "outputs": [],
      "source": [
        ""
      ]
    }
  ],
  "metadata": {
    "colab": {
      "collapsed_sections": [],
      "name": "ChatBot_with Sentiment, Rules and NN.ipynb",
      "provenance": [],
      "authorship_tag": "ABX9TyO8iPN0vYbKAdpvVY81evnr",
      "include_colab_link": true
    },
    "kernelspec": {
      "display_name": "Python 3",
      "name": "python3"
    },
    "language_info": {
      "name": "python"
    }
  },
  "nbformat": 4,
  "nbformat_minor": 0
}