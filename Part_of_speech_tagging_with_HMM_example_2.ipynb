{
  "nbformat": 4,
  "nbformat_minor": 0,
  "metadata": {
    "colab": {
      "name": "Part of speech tagging with HMM example 2.ipynb",
      "provenance": [],
      "include_colab_link": true
    },
    "kernelspec": {
      "name": "python3",
      "display_name": "Python 3"
    },
    "language_info": {
      "name": "python"
    }
  },
  "cells": [
    {
      "cell_type": "markdown",
      "metadata": {
        "id": "view-in-github",
        "colab_type": "text"
      },
      "source": [
        "<a href=\"https://colab.research.google.com/github/ManasviAtGitHub/Natural-Language-Processing/blob/main/Part_of_speech_tagging_with_HMM_example_2.ipynb\" target=\"_parent\"><img src=\"https://colab.research.google.com/assets/colab-badge.svg\" alt=\"Open In Colab\"/></a>"
      ]
    },
    {
      "cell_type": "code",
      "execution_count": null,
      "metadata": {
        "colab": {
          "base_uri": "https://localhost:8080/"
        },
        "id": "rrUspd4DINMx",
        "outputId": "f19f96ea-2afd-44e6-c384-8b9a4758c2a9"
      },
      "outputs": [
        {
          "output_type": "stream",
          "name": "stdout",
          "text": [
            "Collecting pomegranate\n",
            "  Downloading pomegranate-0.14.8.tar.gz (4.3 MB)\n",
            "\u001b[K     |████████████████████████████████| 4.3 MB 5.1 MB/s \n",
            "\u001b[?25h  Installing build dependencies ... \u001b[?25l\u001b[?25hdone\n",
            "  Getting requirements to build wheel ... \u001b[?25l\u001b[?25hdone\n",
            "    Preparing wheel metadata ... \u001b[?25l\u001b[?25hdone\n",
            "Requirement already satisfied: pyyaml in /usr/local/lib/python3.7/dist-packages (from pomegranate) (3.13)\n",
            "Requirement already satisfied: numpy>=1.20.0 in /usr/local/lib/python3.7/dist-packages (from pomegranate) (1.21.5)\n",
            "Requirement already satisfied: joblib>=0.9.0b4 in /usr/local/lib/python3.7/dist-packages (from pomegranate) (1.1.0)\n",
            "Requirement already satisfied: scipy>=0.17.0 in /usr/local/lib/python3.7/dist-packages (from pomegranate) (1.4.1)\n",
            "Requirement already satisfied: networkx>=2.4 in /usr/local/lib/python3.7/dist-packages (from pomegranate) (2.6.3)\n",
            "Building wheels for collected packages: pomegranate\n",
            "  Building wheel for pomegranate (PEP 517) ... \u001b[?25l\u001b[?25hdone\n",
            "  Created wheel for pomegranate: filename=pomegranate-0.14.8-cp37-cp37m-linux_x86_64.whl size=15006590 sha256=6910583b98cea931f91fb663f79fb05a5d686cd8cf68bf43be88739db020bb32\n",
            "  Stored in directory: /root/.cache/pip/wheels/24/68/69/0eaab474ef1d65abedcd47de8a38ab21d221d329954d7edd24\n",
            "Successfully built pomegranate\n",
            "Installing collected packages: pomegranate\n",
            "Successfully installed pomegranate-0.14.8\n"
          ]
        }
      ],
      "source": [
        "!pip install pomegranate"
      ]
    },
    {
      "cell_type": "code",
      "source": [
        "#Importing the libraries\n",
        "import nltk\n",
        "import re\n",
        "import numpy as np\n",
        "import matplotlib.pyplot as plt\n",
        "import pomegranate\n"
      ],
      "metadata": {
        "id": "SqiX1QRxJA-P"
      },
      "execution_count": null,
      "outputs": []
    },
    {
      "cell_type": "code",
      "source": [
        "# initialize the hidden markov model\n",
        "model = pomegranate.HiddenMarkovModel()"
      ],
      "metadata": {
        "id": "KubXhKWFKa6T"
      },
      "execution_count": null,
      "outputs": []
    },
    {
      "cell_type": "code",
      "source": [
        "### emission probabilities\n",
        "# \"determine\" emission and state\n",
        "\n",
        "emission_determine = pomegranate.DiscreteDistribution({\"the\":0.2,\n",
        "                                                       \"fans\":0,\n",
        "                                                       \"watch\":0,\n",
        "                                                       \"race\":0})\n",
        "state_determine = pomegranate.State(emission_determine, name = \"DT\")\n",
        "\n",
        "# \"noun\" emission and state\n",
        "\n",
        "emission_noun = pomegranate.DiscreteDistribution({\"the\":0,\n",
        "                                                       \"fans\":0.1,\n",
        "                                                       \"watch\":0.3,\n",
        "                                                       \"race\":0.3})\n",
        "state_noun = pomegranate.State(emission_noun, name = \"NN\")\n",
        "\n",
        "# \"verb\" emission and state\n",
        "\n",
        "emission_verb = pomegranate.DiscreteDistribution({\"the\":0,\n",
        "                                                       \"fans\":0.2,\n",
        "                                                       \"watch\":0.15,\n",
        "                                                       \"race\":0.3})\n",
        "state_verb = pomegranate.State(emission_verb, name = \"VB\")"
      ],
      "metadata": {
        "id": "xjOn4wKRLn54"
      },
      "execution_count": null,
      "outputs": []
    },
    {
      "cell_type": "code",
      "source": [
        "#add the states into our hmm model\n",
        "model.add_states(state_determine, state_noun, state_verb)"
      ],
      "metadata": {
        "id": "mAvmqzD7Lnvy"
      },
      "execution_count": null,
      "outputs": []
    },
    {
      "cell_type": "code",
      "source": [
        "#transition probability\n",
        "\n",
        "#transition prob from \"<s>\" to \"determine\", \"noun\", \"verb\"\n",
        "model.add_transition(model.start, state_determine, 0.8)\n",
        "model.add_transition(model.start, state_noun, 0.2)\n",
        "model.add_transition(model.start, state_verb, 0)\n",
        "\n",
        "#transition prob from \"determine\" to \"determine\", \"noun\", \"verb\"\n",
        "model.add_transition(state_determine, state_determine, 0)\n",
        "model.add_transition(state_determine, state_noun, 0.9)\n",
        "model.add_transition(state_determine, state_verb, 0.1)\n",
        "                     \n",
        "#transition prob from \"noun\" to \"determine\", \"noun\", \"verb\"\n",
        "model.add_transition(state_noun, state_determine, 0)\n",
        "model.add_transition(state_noun, state_noun, 0.5)\n",
        "model.add_transition(state_noun, state_verb, 0.5)\n",
        "\n",
        "#transition prob from \"verb\" to \"determine\", \"noun\", \"verb\"\n",
        "model.add_transition(state_verb, state_determine, 0.5)\n",
        "model.add_transition(state_verb, state_noun, 0.5)\n",
        "model.add_transition(state_verb, state_verb, 0)\n",
        "                     \n",
        "          \n",
        "                     \n",
        "                     "
      ],
      "metadata": {
        "id": "YFL4uunyLnkJ"
      },
      "execution_count": null,
      "outputs": []
    },
    {
      "cell_type": "code",
      "source": [
        "#finalize the model\n",
        "model.bake()"
      ],
      "metadata": {
        "id": "Fk4YCN8iLnXI"
      },
      "execution_count": null,
      "outputs": []
    },
    {
      "cell_type": "code",
      "source": [
        "model.states"
      ],
      "metadata": {
        "colab": {
          "base_uri": "https://localhost:8080/"
        },
        "id": "g2c3DUqXLmuK",
        "outputId": "5869345d-c1b9-435b-fa1c-9ee791a6d466"
      },
      "execution_count": null,
      "outputs": [
        {
          "output_type": "execute_result",
          "data": {
            "text/plain": [
              "[{\n",
              "     \"class\" : \"State\",\n",
              "     \"distribution\" : {\n",
              "         \"class\" : \"Distribution\",\n",
              "         \"dtype\" : \"str\",\n",
              "         \"name\" : \"DiscreteDistribution\",\n",
              "         \"parameters\" : [\n",
              "             {\n",
              "                 \"the\" : 0.2,\n",
              "                 \"fans\" : 0,\n",
              "                 \"watch\" : 0,\n",
              "                 \"race\" : 0\n",
              "             }\n",
              "         ],\n",
              "         \"frozen\" : false\n",
              "     },\n",
              "     \"name\" : \"DT\",\n",
              "     \"weight\" : 1.0\n",
              " }, {\n",
              "     \"class\" : \"State\",\n",
              "     \"distribution\" : {\n",
              "         \"class\" : \"Distribution\",\n",
              "         \"dtype\" : \"str\",\n",
              "         \"name\" : \"DiscreteDistribution\",\n",
              "         \"parameters\" : [\n",
              "             {\n",
              "                 \"the\" : 0,\n",
              "                 \"fans\" : 0.1,\n",
              "                 \"watch\" : 0.3,\n",
              "                 \"race\" : 0.3\n",
              "             }\n",
              "         ],\n",
              "         \"frozen\" : false\n",
              "     },\n",
              "     \"name\" : \"NN\",\n",
              "     \"weight\" : 1.0\n",
              " }, {\n",
              "     \"class\" : \"State\",\n",
              "     \"distribution\" : {\n",
              "         \"class\" : \"Distribution\",\n",
              "         \"dtype\" : \"str\",\n",
              "         \"name\" : \"DiscreteDistribution\",\n",
              "         \"parameters\" : [\n",
              "             {\n",
              "                 \"the\" : 0,\n",
              "                 \"fans\" : 0.2,\n",
              "                 \"watch\" : 0.15,\n",
              "                 \"race\" : 0.3\n",
              "             }\n",
              "         ],\n",
              "         \"frozen\" : false\n",
              "     },\n",
              "     \"name\" : \"VB\",\n",
              "     \"weight\" : 1.0\n",
              " }, {\n",
              "     \"class\" : \"State\",\n",
              "     \"distribution\" : null,\n",
              "     \"name\" : \"None-start\",\n",
              "     \"weight\" : 1.0\n",
              " }, {\n",
              "     \"class\" : \"State\",\n",
              "     \"distribution\" : null,\n",
              "     \"name\" : \"None-end\",\n",
              "     \"weight\" : 1.0\n",
              " }]"
            ]
          },
          "metadata": {},
          "execution_count": 11
        }
      ]
    },
    {
      "cell_type": "code",
      "source": [
        "text= \"The fans watch the race.\"\n",
        "print(text)"
      ],
      "metadata": {
        "colab": {
          "base_uri": "https://localhost:8080/"
        },
        "id": "wFywj-t1WUY5",
        "outputId": "5d8c7efc-fae0-4033-8b6b-3b649ddc9ce4"
      },
      "execution_count": null,
      "outputs": [
        {
          "output_type": "stream",
          "name": "stdout",
          "text": [
            "The fans watch the race.\n"
          ]
        }
      ]
    },
    {
      "cell_type": "code",
      "source": [
        "text = text.lower()\n",
        "text= re.sub(r\"[^a-zA-Z0-9]\", \" \", text)\n",
        "text = text.split()\n",
        "print(\"preprocessed text: \\n\", text)"
      ],
      "metadata": {
        "colab": {
          "base_uri": "https://localhost:8080/"
        },
        "id": "dcwGZCjjXCVl",
        "outputId": "63a1a68e-2573-47ce-f964-695cac541ce9"
      },
      "execution_count": null,
      "outputs": [
        {
          "output_type": "stream",
          "name": "stdout",
          "text": [
            "preprocessed text: \n",
            " ['the', 'fans', 'watch', 'the', 'race']\n"
          ]
        }
      ]
    },
    {
      "cell_type": "code",
      "source": [
        "viterbi_likelihood, viterbi_path = model.viterbi(text)"
      ],
      "metadata": {
        "id": "y1VIcgIyXpFy"
      },
      "execution_count": null,
      "outputs": []
    },
    {
      "cell_type": "code",
      "source": [
        "viterbi_path"
      ],
      "metadata": {
        "colab": {
          "base_uri": "https://localhost:8080/"
        },
        "id": "pZOsEUU_X0RE",
        "outputId": "00b26ef8-3d8a-4549-baaa-cc057c9a4327"
      },
      "execution_count": null,
      "outputs": [
        {
          "output_type": "execute_result",
          "data": {
            "text/plain": [
              "[(3, {\n",
              "      \"class\" : \"State\",\n",
              "      \"distribution\" : null,\n",
              "      \"name\" : \"None-start\",\n",
              "      \"weight\" : 1.0\n",
              "  }), (0, {\n",
              "      \"class\" : \"State\",\n",
              "      \"distribution\" : {\n",
              "          \"class\" : \"Distribution\",\n",
              "          \"dtype\" : \"str\",\n",
              "          \"name\" : \"DiscreteDistribution\",\n",
              "          \"parameters\" : [\n",
              "              {\n",
              "                  \"the\" : 0.2,\n",
              "                  \"fans\" : 0,\n",
              "                  \"watch\" : 0,\n",
              "                  \"race\" : 0\n",
              "              }\n",
              "          ],\n",
              "          \"frozen\" : false\n",
              "      },\n",
              "      \"name\" : \"DT\",\n",
              "      \"weight\" : 1.0\n",
              "  }), (1, {\n",
              "      \"class\" : \"State\",\n",
              "      \"distribution\" : {\n",
              "          \"class\" : \"Distribution\",\n",
              "          \"dtype\" : \"str\",\n",
              "          \"name\" : \"DiscreteDistribution\",\n",
              "          \"parameters\" : [\n",
              "              {\n",
              "                  \"the\" : 0,\n",
              "                  \"fans\" : 0.1,\n",
              "                  \"watch\" : 0.3,\n",
              "                  \"race\" : 0.3\n",
              "              }\n",
              "          ],\n",
              "          \"frozen\" : false\n",
              "      },\n",
              "      \"name\" : \"NN\",\n",
              "      \"weight\" : 1.0\n",
              "  }), (2, {\n",
              "      \"class\" : \"State\",\n",
              "      \"distribution\" : {\n",
              "          \"class\" : \"Distribution\",\n",
              "          \"dtype\" : \"str\",\n",
              "          \"name\" : \"DiscreteDistribution\",\n",
              "          \"parameters\" : [\n",
              "              {\n",
              "                  \"the\" : 0,\n",
              "                  \"fans\" : 0.2,\n",
              "                  \"watch\" : 0.15,\n",
              "                  \"race\" : 0.3\n",
              "              }\n",
              "          ],\n",
              "          \"frozen\" : false\n",
              "      },\n",
              "      \"name\" : \"VB\",\n",
              "      \"weight\" : 1.0\n",
              "  }), (0, {\n",
              "      \"class\" : \"State\",\n",
              "      \"distribution\" : {\n",
              "          \"class\" : \"Distribution\",\n",
              "          \"dtype\" : \"str\",\n",
              "          \"name\" : \"DiscreteDistribution\",\n",
              "          \"parameters\" : [\n",
              "              {\n",
              "                  \"the\" : 0.2,\n",
              "                  \"fans\" : 0,\n",
              "                  \"watch\" : 0,\n",
              "                  \"race\" : 0\n",
              "              }\n",
              "          ],\n",
              "          \"frozen\" : false\n",
              "      },\n",
              "      \"name\" : \"DT\",\n",
              "      \"weight\" : 1.0\n",
              "  }), (1, {\n",
              "      \"class\" : \"State\",\n",
              "      \"distribution\" : {\n",
              "          \"class\" : \"Distribution\",\n",
              "          \"dtype\" : \"str\",\n",
              "          \"name\" : \"DiscreteDistribution\",\n",
              "          \"parameters\" : [\n",
              "              {\n",
              "                  \"the\" : 0,\n",
              "                  \"fans\" : 0.1,\n",
              "                  \"watch\" : 0.3,\n",
              "                  \"race\" : 0.3\n",
              "              }\n",
              "          ],\n",
              "          \"frozen\" : false\n",
              "      },\n",
              "      \"name\" : \"NN\",\n",
              "      \"weight\" : 1.0\n",
              "  })]"
            ]
          },
          "metadata": {},
          "execution_count": 26
        }
      ]
    },
    {
      "cell_type": "code",
      "source": [
        "viterbi_path = [i_state[1].name for i_state in viterbi_path]\n",
        "print(\"the most likely sequence: \\n\", viterbi_path, \"\\n\")"
      ],
      "metadata": {
        "colab": {
          "base_uri": "https://localhost:8080/"
        },
        "id": "S2DoPuRVX3ef",
        "outputId": "bf506264-4db5-414e-b02b-5aa2d6162a88"
      },
      "execution_count": null,
      "outputs": [
        {
          "output_type": "stream",
          "name": "stdout",
          "text": [
            "the most likely sequence: \n",
            " ['None-start', 'DT', 'NN', 'VB', 'DT', 'NN'] \n",
            "\n"
          ]
        }
      ]
    },
    {
      "cell_type": "code",
      "source": [
        "print(\"with likelihood of (approximate):\\n {:.3f}%\".format(np.exp(viterbi_likelihood)*100))"
      ],
      "metadata": {
        "colab": {
          "base_uri": "https://localhost:8080/"
        },
        "id": "vOSCZO03Y9m_",
        "outputId": "f542fe1a-b189-49a8-f75f-58efffc2d231"
      },
      "execution_count": null,
      "outputs": [
        {
          "output_type": "stream",
          "name": "stdout",
          "text": [
            "with likelihood of (approximate):\n",
            " 0.003%\n"
          ]
        }
      ]
    }
  ]
}