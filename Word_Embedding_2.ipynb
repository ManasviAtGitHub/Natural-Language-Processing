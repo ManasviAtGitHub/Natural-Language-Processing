{
  "nbformat": 4,
  "nbformat_minor": 0,
  "metadata": {
    "colab": {
      "name": "Word Embedding_2",
      "provenance": [],
      "authorship_tag": "ABX9TyMbGuwileue14RbbmWd1bgs",
      "include_colab_link": true
    },
    "kernelspec": {
      "name": "python3",
      "display_name": "Python 3"
    },
    "language_info": {
      "name": "python"
    }
  },
  "cells": [
    {
      "cell_type": "markdown",
      "metadata": {
        "id": "view-in-github",
        "colab_type": "text"
      },
      "source": [
        "<a href=\"https://colab.research.google.com/github/ManasviAtGitHub/Natural-Language-Processing/blob/main/Word_Embedding_2.ipynb\" target=\"_parent\"><img src=\"https://colab.research.google.com/assets/colab-badge.svg\" alt=\"Open In Colab\"/></a>"
      ]
    },
    {
      "cell_type": "code",
      "execution_count": null,
      "metadata": {
        "colab": {
          "base_uri": "https://localhost:8080/"
        },
        "id": "5NKig4CvK8kS",
        "outputId": "5c744924-74dc-4ec6-eea8-353aa839b9b5"
      },
      "outputs": [
        {
          "output_type": "stream",
          "name": "stdout",
          "text": [
            "Word2Vec(vocab=14, size=100, alpha=0.025)\n",
            "['this', 'is', 'the', 'first', 'sentence', 'for', 'word2vec', 'second', 'yet', 'another', 'one', 'more', 'and', 'final']\n",
            "[-1.96705782e-03  2.06047320e-03 -4.68474254e-03  4.37610550e-04\n",
            " -2.44391826e-03 -3.25661758e-03 -1.71527197e-03  3.25793261e-03\n",
            "  1.84469623e-03  2.73682550e-03  3.49961664e-03  1.05414202e-03\n",
            "  1.19827653e-03 -4.89666872e-03 -3.25225783e-03 -1.21283182e-03\n",
            "  4.60535428e-03 -4.02038218e-03  1.42957037e-03 -2.87256134e-03\n",
            "  2.25974320e-04 -5.94868208e-04  1.77454331e-03  5.91850374e-04\n",
            " -8.11726437e-04 -2.37829308e-03  3.56457382e-03 -3.07908817e-03\n",
            " -3.80367530e-03  1.01425208e-03  3.14641185e-03 -2.73137912e-03\n",
            " -3.46511672e-03 -1.03323592e-03  4.18542360e-04 -8.71231023e-04\n",
            " -8.06832104e-04  3.61931697e-03  3.21897026e-03  1.36756524e-03\n",
            "  2.35677510e-03 -4.70126281e-03 -7.63034273e-04 -2.39889277e-03\n",
            "  4.34176484e-03  3.85985291e-03  3.34704574e-03 -4.48141480e-04\n",
            " -4.31198115e-03  3.00721382e-04  5.01676055e-04 -1.34961610e-03\n",
            " -2.86633731e-03 -4.81070857e-03  3.58148734e-03 -3.49537749e-03\n",
            " -2.09125131e-03  4.55704611e-03  1.78304664e-03  3.17730766e-04\n",
            "  3.44907329e-03  2.09128135e-03 -1.55543629e-03  3.28654423e-03\n",
            "  1.64201483e-03 -4.68749832e-03 -1.87302921e-05  4.66939062e-03\n",
            "  7.85305339e-04 -1.47284125e-03 -1.94778549e-03 -1.47879578e-03\n",
            " -2.27205805e-03 -4.66864277e-03  1.16597446e-04  3.19893751e-03\n",
            " -2.12337123e-03 -2.52676872e-03  1.46408554e-03  3.82820214e-03\n",
            "  1.84913329e-03 -1.57228252e-03  1.96834721e-04 -2.15407228e-03\n",
            " -2.92654242e-03 -4.81070671e-03  3.43323656e-04  4.92578220e-05\n",
            "  3.57440347e-03 -3.78161226e-03 -3.45905311e-03  3.34626669e-03\n",
            "  1.15051772e-03 -1.00890873e-03  3.85739119e-03 -2.06746324e-03\n",
            "  1.01726234e-03  1.72675680e-03 -2.34634662e-03  2.62867194e-03]\n",
            "Word2Vec(vocab=14, size=100, alpha=0.025)\n"
          ]
        },
        {
          "output_type": "stream",
          "name": "stderr",
          "text": [
            "/usr/local/lib/python3.7/dist-packages/ipykernel_launcher.py:16: DeprecationWarning: Call to deprecated `__getitem__` (Method will be removed in 4.0.0, use self.wv.__getitem__() instead).\n",
            "  app.launch_new_instance()\n"
          ]
        }
      ],
      "source": [
        "from gensim.models import Word2Vec\n",
        "# define training data\n",
        "sentences = [['this', 'is', 'the', 'first', 'sentence', 'for', 'word2vec'],\n",
        "\t\t\t['this', 'is', 'the', 'second', 'sentence'],\n",
        "\t\t\t['yet', 'another', 'sentence'],\n",
        "\t\t\t['one', 'more', 'sentence'],\n",
        "\t\t\t['and', 'the', 'final', 'sentence']]\n",
        "# train model\n",
        "model = Word2Vec(sentences, min_count=1)\n",
        "# summarize the loaded model\n",
        "print(model)\n",
        "# summarize vocabulary\n",
        "words = list(model.wv.vocab)\n",
        "print(words)\n",
        "# access vector for one word\n",
        "print(model['sentence'])\n",
        "# save model\n",
        "model.save('model.bin')\n",
        "# load model\n",
        "new_model = Word2Vec.load('model.bin')\n",
        "print(new_model)"
      ]
    },
    {
      "cell_type": "code",
      "source": [
        "from sklearn.decomposition import PCA\n",
        "from matplotlib import pyplot\n",
        "\n",
        "# fit a 2d PCA model to the vectors\n",
        "X = model[model.wv.vocab]\n",
        "pca = PCA(n_components=2)\n",
        "result = pca.fit_transform(X)\n",
        "# create a scatter plot of the projection\n",
        "pyplot.scatter(result[:, 0], result[:, 1])\n",
        "words = list(model.wv.vocab)\n",
        "for i, word in enumerate(words):\n",
        "\tpyplot.annotate(word, xy=(result[i, 0], result[i, 1]))\n",
        "pyplot.show()"
      ],
      "metadata": {
        "colab": {
          "base_uri": "https://localhost:8080/",
          "height": 322
        },
        "id": "y0aTgUcGLGFu",
        "outputId": "a283534b-d1cf-4a92-e6e1-49a3498621ef"
      },
      "execution_count": null,
      "outputs": [
        {
          "output_type": "stream",
          "name": "stderr",
          "text": [
            "/usr/local/lib/python3.7/dist-packages/ipykernel_launcher.py:5: DeprecationWarning: Call to deprecated `__getitem__` (Method will be removed in 4.0.0, use self.wv.__getitem__() instead).\n",
            "  \"\"\"\n"
          ]
        },
        {
          "output_type": "display_data",
          "data": {
            "text/plain": [
              "<Figure size 432x288 with 1 Axes>"
            ],
            "image/png": "[encoded data removed]"
          },
          "metadata": {
            "needs_background": "light"
          }
        }
      ]
    },
    {
      "cell_type": "markdown",
      "source": [
        "Reference :https://machinelearningmastery.com/what-are-word-embeddings/"
      ],
      "metadata": {
        "id": "wdCt16erPacd"
      }
    }
  ]
}