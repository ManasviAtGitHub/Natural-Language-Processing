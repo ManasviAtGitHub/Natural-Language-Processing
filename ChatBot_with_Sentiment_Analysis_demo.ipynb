{
  "nbformat": 4,
  "nbformat_minor": 0,
  "metadata": {
    "colab": {
      "name": "ChatBot with Sentiment Analysis_demo",
      "provenance": [],
      "authorship_tag": "ABX9TyNgjn/GPDfSi76zzfu8IcP2",
      "include_colab_link": true
    },
    "kernelspec": {
      "name": "python3",
      "display_name": "Python 3"
    },
    "language_info": {
      "name": "python"
    }
  },
  "cells": [
    {
      "cell_type": "markdown",
      "metadata": {
        "id": "view-in-github",
        "colab_type": "text"
      },
      "source": [
        "<a href=\"https://colab.research.google.com/github/ManasviAtGitHub/Natural-Language-Processing/blob/main/ChatBot_with_Sentiment_Analysis_demo.ipynb\" target=\"_parent\"><img src=\"https://colab.research.google.com/assets/colab-badge.svg\" alt=\"Open In Colab\"/></a>"
      ]
    },
    {
      "cell_type": "code",
      "execution_count": 1,
      "metadata": {
        "id": "epXttvFzvKMO"
      },
      "outputs": [],
      "source": [
        "import random\n",
        "from textblob import TextBlob"
      ]
    },
    {
      "cell_type": "code",
      "source": [
        "#1. Name and nickname conversation\n",
        "print('Hello human what is your name?')\n",
        "name = input()\n",
        "print('Do you have nickname?')\n",
        "ans = input()\n",
        "if 'y' in ans.lower():\n",
        "  nickname = input('whatis your nickname: ')\n",
        "  print('Good to meet you ' + nickname)\n",
        "else:\n",
        "  nickname = name + name[-1] + 'y'\n",
        "  print('I will call you '+nickname)\n",
        "\n",
        "#2. Greeting selection\n",
        "greetings = [\n",
        "\t'How are you today ' + nickname +'?',\n",
        "\t'Howdy ' + nickname + ' how are you feeling?',\n",
        "\t\"What's up \" + nickname +'?',\n",
        "\t'Greetings ' + nickname +', are you well?',\n",
        "\t'How are things going ' + nickname +'?'\n",
        "]\n",
        "print(random.choice(greetings))\n",
        "ans = input()\n",
        "blob = TextBlob(ans)\n",
        "\n",
        "if blob.polarity > 0:\n",
        "  print('Glad you are doing well')\n",
        "else:\n",
        "  print('Sorry to hear that')\n",
        "\n",
        "#3. Several random opinions on topic\n",
        "topics = [\n",
        "\t'football',\n",
        "\t'Endgame',\n",
        "\t'Python',\n",
        "\t'Computers',\n",
        "\t'Computer games'\n",
        "]\n",
        "\n",
        "questions = [\n",
        "\t'What is your take on ',\n",
        "\t'What do you think about ',\n",
        "\t'How do you feel about ',\n",
        "\t'What do you reckon about ',\n",
        "\t'I would like your opinion on '\n",
        "]\n",
        "for i in range(0, random.randint(3,4)):\n",
        "  question = random.choice(questions)\n",
        "  questions.remove(question)\n",
        "  topic = random.choice(topics)\n",
        "  topics.remove(topic)\n",
        "  print(question + topic + '?')\n",
        "  ans = input()\n",
        "  blob = TextBlob(ans)\n",
        "    \n",
        "\n",
        "  if blob.polarity > 0.5:\n",
        "    print('OMG you really love '+ topic)\n",
        "  elif blob.polarity > 0.1:\n",
        "    print('Well, you clearly like '+ topic)\n",
        "  elif blob.polarity < -0.5:\n",
        "    print('Woof, you totally hate '+ topic)\n",
        "  elif blob.polarity < -0.5:\n",
        "    print(\"So you don't like \"+ topic)\n",
        "  else:\n",
        "    print('That is a very neutral view on '+ topic)\n",
        "  \n",
        "  if blob.subjectivity > 0.6:\n",
        "    print('and you are so biased')\n",
        "  elif blob.subjectivity > 0.3:\n",
        "    print('and you are a bit biased')\n",
        "  else:\n",
        "    print('and you are quite objective')\n",
        "\n",
        "#4. Random goodbye \n",
        "\n",
        "goodbyes = [\n",
        "\t'Good talking to you ' + nickname + 'I gotta go now',\n",
        "\t'OK I am bored, I will go watch Netflix',\n",
        "\t'Bye bye',\n",
        "\t'Yaaawn . . . I gotta go now',\n",
        "\t'Catch ya later, '+ nickname\n",
        "]\n",
        "print(random.choice(goodbyes))\n"
      ],
      "metadata": {
        "colab": {
          "base_uri": "https://localhost:8080/"
        },
        "id": "aZxDnjUbvPHV",
        "outputId": "c6585a6f-c6d3-4f77-bdda-1141bd05d324"
      },
      "execution_count": 2,
      "outputs": [
        {
          "output_type": "stream",
          "name": "stdout",
          "text": [
            "Hello human what is your name?\n",
            "Ram\n",
            "Do you have nickname?\n",
            "y\n",
            "whatis your nickname: ray\n",
            "Good to meet you ray\n",
            "What's up ray?\n",
            "not feeling good\n",
            "Glad you are doing well\n",
            "What do you think about Endgame?\n",
            "i hate that movie\n",
            "Woof, you totally hate Endgame\n",
            "and you are so biased\n",
            "How do you feel about Python?\n",
            "i don't care about snakes\n",
            "That is a very neutral view on Python\n",
            "and you are quite objective\n",
            "What do you reckon about Computers?\n",
            "i don't use computers\n",
            "That is a very neutral view on Computers\n",
            "and you are quite objective\n",
            "OK I am bored, I will go watch Netflix\n"
          ]
        }
      ]
    },
    {
      "cell_type": "code",
      "source": [
        ""
      ],
      "metadata": {
        "id": "5m1gmxUhvPKk"
      },
      "execution_count": null,
      "outputs": []
    },
    {
      "cell_type": "code",
      "source": [
        ""
      ],
      "metadata": {
        "id": "v8Tl5G84vPMw"
      },
      "execution_count": null,
      "outputs": []
    },
    {
      "cell_type": "code",
      "source": [
        ""
      ],
      "metadata": {
        "id": "_YogcDwUvPP-"
      },
      "execution_count": null,
      "outputs": []
    }
  ]
}